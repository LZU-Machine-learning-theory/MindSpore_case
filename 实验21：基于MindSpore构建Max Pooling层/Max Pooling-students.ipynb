{
 "cells": [
  {
   "cell_type": "markdown",
   "metadata": {},
   "source": [
    "# <center>《机器学习》— MindSpore 实践练习 </center>\n",
    "\n",
    "### <center>姓名：XXX  学号：XXXXXXXXXXX</center>"
   ]
  },
  {
   "cell_type": "markdown",
   "metadata": {},
   "source": [
    "# 14.基于mindspore实现MAX Pooling层"
   ]
  },
  {
   "cell_type": "markdown",
   "metadata": {},
   "source": [
    "## 14.1 采用mindspore.nn.MaxPool1d实现MAX Pooling层\n",
    "Class mindspore.nn.MaxPool1d(kernel_size=1, stride=1, pad_mode='valid')\n"
   ]
  },
  {
   "cell_type": "markdown",
   "metadata": {},
   "source": [
    "对时间数据进行最大池化运算。\n",
    "在一个输入张量上应用1D max pooling，该张量可被视为一维平面的组合。\n",
    "通常，输入的shape为 $\\left(N_{i n}, C_{i n}, L_{i n}\\right)$ ，MaxPool1d输出 $\\left(L_{i n}\\right)$ 维度区域最大值。给定 kernel_size 和 stride，公式如下:\n",
    "$$\n",
    "\\operatorname{output}\\left(N_i, C_j, l\\right)=\\max _{n=0, \\ldots, \\text { kernel_size-1 }} \\operatorname{input}\\left(N_i, C_j, \\text { stride } \\times l+n\\right)\n",
    "$$"
   ]
  },
  {
   "cell_type": "code",
   "execution_count": 7,
   "metadata": {},
   "outputs": [
    {
     "name": "stdout",
     "output_type": "stream",
     "text": [
      "(1, 2, 2)\n"
     ]
    }
   ],
   "source": [
    "import mindspore\n",
    "import numpy as np\n",
    "import mindspore.nn as nn\n",
    "from mindspore import Tensor\n",
    "\n",
    "\n",
    "    '''\n",
    "    MaxPool1d(kernel_size,stride)\n",
    "    '''\n",
    "    #根据mindspore.nn.MaxPool1d定义补充代码\n",
    "x = Tensor(np.random.randint(0, 10, [1, 2, 4]), mindspore.float32)\n",
    "output = max_pool(x)\n",
    "result = output.shape\n",
    "print(result)"
   ]
  },
  {
   "cell_type": "code",
   "execution_count": null,
   "metadata": {},
   "outputs": [],
   "source": [
    "#答"
   ]
  },
  {
   "cell_type": "markdown",
   "metadata": {},
   "source": [
    "## 14.2 采用mindspore.nn.MaxPool2d实现MAX Pooling层\n",
    "Class mindspore.nn.MaxPool2d(kernel_size=1, stride=1, pad_mode='valid', data_format='NCHW')"
   ]
  },
  {
   "cell_type": "markdown",
   "metadata": {},
   "source": [
    "对输入的多维数据进行二维的最大池化运算。\n",
    "在一个输入Tensor上应用2D max pooling，可被视为组成一个 $2 D$ 平面。\n",
    "通常，输入的形状为 $\\left(N_{i n}, C_{i n}, H_{i n}, W_{i n}\\right)$ ，MaxPool2d输出 $\\left(H_{i n}, W_{i n}\\right)$ 维度区域最大值。给定 kernel_size 为 $(k H, k W)$ 和 stride，公式如下。\n",
    "$$\n",
    "\\operatorname{output}\\left(N_i, C_j, h, w\\right)=\\max _{m=0, \\ldots, k H-1} \\max _{n=0, \\ldots, k W-1} \\operatorname{input}\\left(N_i, C_j, \\text { stride }[0] \\times h+m, \\text { stride }[1] \\times w+n\\right)\n",
    "$$"
   ]
  },
  {
   "cell_type": "code",
   "execution_count": 8,
   "metadata": {},
   "outputs": [
    {
     "name": "stdout",
     "output_type": "stream",
     "text": [
      "(1, 2, 2, 2)\n"
     ]
    }
   ],
   "source": [
    "import mindspore\n",
    "import numpy as np\n",
    "import mindspore.nn as nn\n",
    "from mindspore import Tensor\n",
    "\n",
    "    '''\n",
    "    nn.MaxPool2d(kernel_size,stride)\n",
    "    '''\n",
    "    #根据mindspore.nn.MaxPool2d定义补充代码\n",
    "x = Tensor(np.random.randint(0, 10, [1, 2, 4, 4]), mindspore.float32)\n",
    "output = pool(x)\n",
    "print(output.shape)"
   ]
  },
  {
   "cell_type": "code",
   "execution_count": null,
   "metadata": {},
   "outputs": [],
   "source": [
    "#答"
   ]
  },
  {
   "cell_type": "markdown",
   "metadata": {},
   "source": [
    "## 14.3 采用mindspore.ops.MaxPool实现MAX Pooling层\n",
    "Class mindspore.ops.MaxPool(kernel_size=1, strides=1, pad_mode=\"valid\", data_format=\"NCHW\")"
   ]
  },
  {
   "cell_type": "markdown",
   "metadata": {},
   "source": [
    "对输入的多维数据进行二维的最大池化运算。\n",
    "在一个输入 Tensor上应用 $2 D$ max pooling，可被视为 $2 D$ 输入平面。\n",
    "通常，输入的shape为 $\\left(N_{i n}, C_{i n}, H_{i n}, W_{i n}\\right)$ ，MaxPool在 $\\left(H_{i n}, W_{i n}\\right)$ 维度输出区域最大值。给定 kernel_size 为 $(k H, k W)$ 和 stride，运算如下:\n",
    "$$\n",
    "\\operatorname{output}\\left(N_i, C_j, h, w\\right)=\\max _{m=0, \\ldots, k H-1} \\max _{n=0, \\ldots, k W-1} \\operatorname{input}\\left(N_i, C_j, \\text { stride }[0] \\times h+m, \\text { stride }[1] \\times w+n\\right)\n",
    "$$"
   ]
  },
  {
   "cell_type": "code",
   "execution_count": 9,
   "metadata": {},
   "outputs": [
    {
     "name": "stdout",
     "output_type": "stream",
     "text": [
      "[[[[ 5.  6.  7.]\n",
      "   [ 9. 10. 11.]]\n",
      "\n",
      "  [[17. 18. 19.]\n",
      "   [21. 22. 23.]]\n",
      "\n",
      "  [[29. 30. 31.]\n",
      "   [33. 34. 35.]]]]\n"
     ]
    }
   ],
   "source": [
    "import mindspore\n",
    "import numpy as np\n",
    "import mindspore.ops as ops\n",
    "\n",
    "\n",
    "\n",
    "x = Tensor(np.arange(1 * 3 * 3 * 4).reshape((1, 3, 3, 4)), mindspore.float32)\n",
    "    '''\n",
    "    ops.MaxPool(pad_mode, kernel_size, strides)\n",
    "    '''\n",
    "    #根据mindspore.ops.MaxPool定义补充代码\n",
    "output = maxpool_op(x)\n",
    "print(output)\n"
   ]
  },
  {
   "cell_type": "code",
   "execution_count": null,
   "metadata": {},
   "outputs": [],
   "source": [
    "#答"
   ]
  }
 ],
 "metadata": {
  "kernelspec": {
   "display_name": "Python 3",
   "language": "python",
   "name": "python3"
  },
  "language_info": {
   "codemirror_mode": {
    "name": "ipython",
    "version": 3
   },
   "file_extension": ".py",
   "mimetype": "text/x-python",
   "name": "python",
   "nbconvert_exporter": "python",
   "pygments_lexer": "ipython3",
   "version": "3.8.5"
  }
 },
 "nbformat": 4,
 "nbformat_minor": 4
}
