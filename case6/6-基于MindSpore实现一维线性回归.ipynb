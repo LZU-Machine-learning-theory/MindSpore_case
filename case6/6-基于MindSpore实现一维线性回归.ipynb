{
 "cells": [
  {
   "cell_type": "markdown",
   "metadata": {},
   "source": [
    "# 基于MindSpore实现一维线性回归"
   ]
  },
  {
   "cell_type": "markdown",
   "metadata": {},
   "source": [
    "## 导入库和函数"
   ]
  },
  {
   "cell_type": "code",
   "execution_count": 1,
   "metadata": {},
   "outputs": [],
   "source": [
    "import mindspore\n",
    "import numpy as np #引入numpy科学计算库\n",
    "import matplotlib.pyplot as plt #引入绘图库\n",
    "np.random.seed(123) #随机数生成种子\n",
    "#from sklearn.model_selection import train_test_split#从sklearn里面引出训练与测试集划分\n",
    "\n",
    "import mindspore.nn as nn\n",
    "import mindspore.ops as ops\n",
    "from mindspore import Tensor\n",
    "from mindspore import ParameterTuple, Parameter\n",
    "from mindspore import dtype as mstype\n"
   ]
  },
  {
   "cell_type": "markdown",
   "metadata": {},
   "source": [
    "## 自定义数据集生成函数"
   ]
  },
  {
   "cell_type": "code",
   "execution_count": 2,
   "metadata": {},
   "outputs": [],
   "source": [
    "def get_data(num,w=2,b=3):\n",
    "    for data in range(num):\n",
    "        x=np.random.uniform(-10,10)\n",
    "        noise=np.random.normal(0,1)\n",
    "        y=x*w+b+noise\n",
    "        yield np.array([x]).astype(np.float32),np.array([y]).astype(np.float32)\n"
   ]
  },
  {
   "cell_type": "markdown",
   "metadata": {},
   "source": [
    "## 展示部分数据"
   ]
  },
  {
   "cell_type": "code",
   "execution_count": 3,
   "metadata": {},
   "outputs": [
    {
     "data": {
      "text/plain": [
       "[(array([3.9293838], dtype=float32), array([9.906671], dtype=float32)),\n",
       " (array([1.0262954], dtype=float32), array([4.30715], dtype=float32)),\n",
       " (array([4.3893795], dtype=float32), array([12.100864], dtype=float32)),\n",
       " (array([3.6965947], dtype=float32), array([10.341672], dtype=float32)),\n",
       " (array([-0.38136196], dtype=float32), array([0.617976], dtype=float32))]"
      ]
     },
     "execution_count": 3,
     "metadata": {},
     "output_type": "execute_result"
    }
   ],
   "source": [
    "eval_data=list(get_data(5))\n",
    "x_eval_label,y_eval_label=zip(*eval_data)\n",
    "\n",
    "eval_data\n"
   ]
  },
  {
   "cell_type": "markdown",
   "metadata": {},
   "source": [
    "## 生成数据"
   ]
  },
  {
   "cell_type": "code",
   "execution_count": 4,
   "metadata": {},
   "outputs": [],
   "source": [
    "from mindspore import dataset as ds\n",
    "\n",
    "def create_dataset(num_data,batch_size=16,repeat_size=1):\n",
    "    input_data=ds.GeneratorDataset(list(get_data(num_data)),column_names=['data','label'])\n",
    "    input_data=input_data.batch(batch_size) # 设置数据批次\n",
    "    input_data=input_data.repeat(repeat_size) # 设置数据重复次数\n",
    "    return input_data"
   ]
  },
  {
   "cell_type": "code",
   "execution_count": 5,
   "metadata": {},
   "outputs": [
    {
     "name": "stdout",
     "output_type": "stream",
     "text": [
      "数据集批次： 100\n",
      "dict_keys(['data', 'label'])\n",
      "X: (16, 1)\n",
      "y: (16, 1)\n"
     ]
    }
   ],
   "source": [
    "data_number=1600\n",
    "batch_number=16\n",
    "repeat_number=1\n",
    "\n",
    "ds_train=create_dataset(data_number,batch_number,repeat_number)\n",
    "print('数据集批次：',ds_train.get_dataset_size())\n",
    "dict_datasets=next(ds_train.create_dict_iterator())\n",
    "\n",
    "print(dict_datasets.keys())\n",
    "print('X:',dict_datasets['data'].shape)\n",
    "print('y:',dict_datasets['label'].shape)"
   ]
  },
  {
   "cell_type": "markdown",
   "metadata": {},
   "source": [
    "## 定义一个简单的一维线性回归模型"
   ]
  },
  {
   "cell_type": "code",
   "execution_count": 6,
   "metadata": {},
   "outputs": [],
   "source": [
    "from mindspore import nn\n",
    "from mindspore.common.initializer import Normal\n",
    "\n",
    "class LinearNet(nn.Cell):\n",
    "    def __init__(self):\n",
    "        super(LinearNet,self).__init__()\n",
    "        # 定义一个线形层，同时初始化权重和偏置\n",
    "        self.fc=nn.Dense(1,1,Normal(0.02),Normal(0.02),has_bias=True) \n",
    "    \n",
    "    def construct(self,x):\n",
    "        x=self.fc(x)\n",
    "        return x\n",
    "\n"
   ]
  },
  {
   "cell_type": "markdown",
   "metadata": {},
   "source": [
    "## 模型中的参数维度形状"
   ]
  },
  {
   "cell_type": "code",
   "execution_count": 7,
   "metadata": {},
   "outputs": [
    {
     "name": "stdout",
     "output_type": "stream",
     "text": [
      "Parameter (name=fc.weight, shape=(1, 1), dtype=Float32, requires_grad=True) [[-0.00267943]]\n",
      "Parameter (name=fc.bias, shape=(1,), dtype=Float32, requires_grad=True) [-0.01840288]\n"
     ]
    }
   ],
   "source": [
    "net=LinearNet()\n",
    "model_params=net.trainable_params()\n",
    "for param in model_params:\n",
    "    print(param,param.asnumpy())"
   ]
  },
  {
   "cell_type": "markdown",
   "metadata": {},
   "source": [
    "## 模型的损失函数、优化器设置"
   ]
  },
  {
   "cell_type": "code",
   "execution_count": 8,
   "metadata": {},
   "outputs": [],
   "source": [
    "net=LinearNet()\n",
    "net_loss=nn.loss.MSELoss()\n",
    "# 这里优化器的参数传入的为我们模型的训练参数，以及学习率等\n",
    "opt=nn.Momentum(net.trainable_params(),learning_rate=0.005,momentum=0.9)\n",
    "from mindspore import Model\n",
    "model=Model(net,net_loss,opt)\n"
   ]
  },
  {
   "cell_type": "markdown",
   "metadata": {},
   "source": [
    "## 定义一个函数画出模型拟合的直线以及真实的数据拟合直线的对比"
   ]
  },
  {
   "cell_type": "code",
   "execution_count": 9,
   "metadata": {},
   "outputs": [],
   "source": [
    "import matplotlib.pyplot as plt\n",
    "from mindspore import Tensor\n",
    "import time\n",
    "\n",
    "def plot_model_and_datasets(net, eval_data):\n",
    "    weight = net.trainable_params()[0]\n",
    "    bias = net.trainable_params()[1]\n",
    "    x = np.arange(-10, 10, 0.1)\n",
    "    y = x * Tensor(weight).asnumpy()[0][0] + Tensor(bias).asnumpy()[0]\n",
    "    x1, y1 = zip(*eval_data)\n",
    "    x_target = x\n",
    "    y_target = x_target * 2 + 3\n",
    "\n",
    "    plt.axis([-11, 11, -20, 25])\n",
    "    plt.scatter(x1, y1, color=\"red\", s=5)\n",
    "    plt.plot(x, y, color=\"blue\")\n",
    "    plt.plot(x_target, y_target, color=\"green\")\n",
    "    plt.show()\n"
   ]
  },
  {
   "cell_type": "markdown",
   "metadata": {},
   "source": [
    "## 回调函数，训练的过程中实时画出模型拟合的曲线"
   ]
  },
  {
   "cell_type": "code",
   "execution_count": 10,
   "metadata": {},
   "outputs": [],
   "source": [
    "from IPython import display\n",
    "from mindspore.train.callback import Callback\n",
    "\n",
    "class ImageShowCallback(Callback):\n",
    "    def __init__(self, net, eval_data):\n",
    "        self.net = net\n",
    "        self.eval_data = eval_data\n",
    "\n",
    "    def step_end(self, run_context):\n",
    "        plot_model_and_datasets(self.net, self.eval_data)\n",
    "        # 清除打印内容，实现动态拟合效果\n",
    "        display.clear_output(wait=True)\n"
   ]
  },
  {
   "cell_type": "markdown",
   "metadata": {},
   "source": [
    "## 训练，观察效果"
   ]
  },
  {
   "cell_type": "code",
   "execution_count": 11,
   "metadata": {},
   "outputs": [
    {
     "data": {
      "image/png": "[encoded data removed]",
      "text/plain": [
       "<Figure size 432x288 with 1 Axes>"
      ]
     },
     "metadata": {
      "needs_background": "light"
     },
     "output_type": "display_data"
    },
    {
     "name": "stdout",
     "output_type": "stream",
     "text": [
      "Parameter (name=fc.weight, shape=(1, 1), dtype=Float32, requires_grad=True) [[2.0583298]]\n",
      "Parameter (name=fc.bias, shape=(1,), dtype=Float32, requires_grad=True) [2.9284358]\n"
     ]
    }
   ],
   "source": [
    "from mindspore.train.callback import LossMonitor\n",
    "\n",
    "epoch = 1\n",
    "imageshow_cb = ImageShowCallback(net, eval_data)\n",
    "model.train(epoch, ds_train, callbacks=[imageshow_cb], dataset_sink_mode=False)\n",
    "\n",
    "plot_model_and_datasets(net, eval_data)\n",
    "for net_param in net.trainable_params():\n",
    "    print(net_param, net_param.asnumpy())\n"
   ]
  }
 ],
 "metadata": {
  "kernelspec": {
   "display_name": "MindSpore",
   "language": "python",
   "name": "mindspore"
  },
  "language_info": {
   "codemirror_mode": {
    "name": "ipython",
    "version": 3
   },
   "file_extension": ".py",
   "mimetype": "text/x-python",
   "name": "python",
   "nbconvert_exporter": "python",
   "pygments_lexer": "ipython3",
   "version": "3.7.6"
  },
  "vscode": {
   "interpreter": {
    "hash": "26fcd935751ef84cad2d7f9e4bd00a41b458c58fd62c8d14685a9368156264ec"
   }
  }
 },
 "nbformat": 4,
 "nbformat_minor": 4
}
