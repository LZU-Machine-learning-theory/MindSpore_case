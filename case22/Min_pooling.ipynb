{
 "cells": [
  {
   "cell_type": "markdown",
   "metadata": {},
   "source": [
    "# 基于Mindspore构建MinPooling层"
   ]
  },
  {
   "cell_type": "markdown",
   "metadata": {},
   "source": [
    "MinPooling与MaxPooling相反，池化过程中采样最小值。由于Min Pooling使用场景极少,因此Mindspore中并未提供api,但是提供了maxpool,可以转换实现"
   ]
  },
  {
   "cell_type": "markdown",
   "metadata": {},
   "source": [
    "# API使用方法参照MaxPooling"
   ]
  },
  {
   "cell_type": "code",
   "execution_count": 1,
   "metadata": {},
   "outputs": [
    {
     "name": "stdout",
     "output_type": "stream",
     "text": [
      "[[[[0. 1. 2.]\n",
      "   [3. 4. 5.]\n",
      "   [6. 7. 8.]]]]\n",
      "[[[[0. 2.]\n",
      "   [6. 8.]]]]\n"
     ]
    }
   ],
   "source": [
    "import numpy as np\n",
    "import mindspore as ms\n",
    "from mindspore import ops\n",
    "ms.set_context(device_target=\"CPU\")\n",
    "data =   np.arange(9).reshape(1, 1, 3, 3).astype(np.float32)\n",
    "print(data)\n",
    "# minpool=- maxpool(-data)\n",
    "op = ops.MaxPool(kernel_size=2, strides=2, pad_mode='same')\n",
    "print(-op(   ms.Tensor(-data)   ))\n",
    "\n"
   ]
  },
  {
   "cell_type": "markdown",
   "metadata": {},
   "source": [
    "# 自行实现Mindspore Min Pooling API"
   ]
  },
  {
   "cell_type": "markdown",
   "metadata": {},
   "source": [
    "## 导入所需包"
   ]
  },
  {
   "cell_type": "code",
   "execution_count": 2,
   "metadata": {},
   "outputs": [],
   "source": [
    "import mindspore.nn as nn\n",
    "import numpy as np\n",
    "import mindspore.common.dtype as mstype\n",
    "\n",
    "from mindspore.ops import operations as P\n",
    "from mindspore._checkparam import Rel, Validator as validator\n",
    "from mindspore.common.tensor import Tensor\n",
    "import mindspore.context as context\n",
    "\n",
    "from mindspore.nn.cell import Cell"
   ]
  },
  {
   "cell_type": "markdown",
   "metadata": {},
   "source": [
    "## 使用Mindspore官方定义的基类"
   ]
  },
  {
   "cell_type": "code",
   "execution_count": 3,
   "metadata": {},
   "outputs": [],
   "source": [
    "class _PoolNd(Cell):\n",
    "    \"\"\"N-D  AvgPool\"\"\"\n",
    "\n",
    "    def __init__(self, kernel_size, stride, pad_mode, data_format=\"NCHW\"):\n",
    "        \"\"\"Initialize _PoolNd.\"\"\"\n",
    "        super(_PoolNd, self).__init__()\n",
    "        validator.check_value_type('pad_mode', pad_mode, [str], self.cls_name)\n",
    "        self.pad_mode = validator.check_string(pad_mode.upper(), ['VALID', 'SAME'], 'pad_mode', self.cls_name)\n",
    "        self.format = validator.check_string(data_format, ['NCHW', 'NHWC'], 'format', self.cls_name)\n",
    "        if context.get_context(\"device_target\") != \"GPU\" and self.format == \"NHWC\":\n",
    "            raise ValueError(f\"For '{self.cls_name}, the 'NHWC' format only support in GPU target, but got device \"\n",
    "                             f\"target {context.get_context('device_target')}.\")\n",
    "\n",
    "        def _check_int_or_tuple(arg_name, arg_value):\n",
    "            validator.check_value_type(arg_name, arg_value, [int, tuple], self.cls_name)\n",
    "            error_msg = f\"For '{self.cls_name}', the '{arg_name}' must be an positive int number or \" \\\n",
    "                        f\"a tuple of two positive int numbers, but got {arg_value}\"\n",
    "            if isinstance(arg_value, int):\n",
    "                if arg_value <= 0:\n",
    "                    raise ValueError(error_msg)\n",
    "            elif len(arg_value) == 2:\n",
    "                for item in arg_value:\n",
    "                    if isinstance(item, int) and item > 0:\n",
    "                        continue\n",
    "                    raise ValueError(error_msg)\n",
    "            else:\n",
    "                raise ValueError(error_msg)\n",
    "            return arg_value\n",
    "\n",
    "        self.kernel_size = _check_int_or_tuple('kernel_size', kernel_size)\n",
    "        self.stride = _check_int_or_tuple('stride', stride)\n",
    "\n",
    "    def construct(self, *inputs):\n",
    "        pass\n",
    "\n",
    "    def extend_repr(self):\n",
    "        return 'kernel_size={kernel_size}, stride={stride}, pad_mode={pad_mode}'.format(**self.__dict__)"
   ]
  },
  {
   "cell_type": "markdown",
   "metadata": {},
   "source": [
    "## 实现二维MinPool"
   ]
  },
  {
   "cell_type": "code",
   "execution_count": 4,
   "metadata": {},
   "outputs": [
    {
     "name": "stdout",
     "output_type": "stream",
     "text": [
      "[[[[0. 2. 7. 3.]\n",
      "   [9. 2. 8. 2.]\n",
      "   [1. 1. 0. 7.]\n",
      "   [8. 1. 3. 1.]]\n",
      "\n",
      "  [[2. 0. 9. 7.]\n",
      "   [3. 5. 6. 4.]\n",
      "   [5. 7. 4. 9.]\n",
      "   [9. 7. 9. 6.]]]]\n",
      "[[[[0. 0.]\n",
      "   [0. 0.]]\n",
      "\n",
      "  [[0. 0.]\n",
      "   [3. 4.]]]]\n",
      "[[[[9. 8.]\n",
      "   [9. 8.]]\n",
      "\n",
      "  [[9. 9.]\n",
      "   [9. 9.]]]]\n"
     ]
    }
   ],
   "source": [
    "class MinPool2d(_PoolNd):\n",
    "    def __init__(self, kernel_size=1, stride=1, pad_mode=\"valid\", data_format=\"NCHW\"):\n",
    "        \"\"\"Initialize MaxPool2d.\"\"\"\n",
    "        super(MinPool2d, self).__init__(kernel_size, stride, pad_mode, data_format)\n",
    "        self.max_pool = P.MaxPool(kernel_size=self.kernel_size,\n",
    "                                  strides=self.stride,\n",
    "                                  pad_mode=self.pad_mode,\n",
    "                                  data_format=self.format)\n",
    "\n",
    "\n",
    "\n",
    "    def construct(self, x):\n",
    "        out = -self.max_pool(-x)\n",
    "        return out\n",
    "\n",
    "\n",
    "\n",
    "pool = MinPool2d(kernel_size=3, stride=1)\n",
    "pool_max=nn.MaxPool2d(kernel_size=3, stride=1)\n",
    "x = Tensor(np.random.randint(0, 10, [1, 2, 4, 4]), mstype.float32)\n",
    "print(x)\n",
    "output = pool(x)\n",
    "print(output)\n",
    "print(pool_max(x))"
   ]
  },
  {
   "cell_type": "code",
   "execution_count": null,
   "metadata": {},
   "outputs": [],
   "source": []
  }
 ],
 "metadata": {
  "kernelspec": {
   "display_name": "MindSpore",
   "language": "python",
   "name": "mindspore"
  },
  "language_info": {
   "codemirror_mode": {
    "name": "ipython",
    "version": 3
   },
   "file_extension": ".py",
   "mimetype": "text/x-python",
   "name": "python",
   "nbconvert_exporter": "python",
   "pygments_lexer": "ipython3",
   "version": "3.7.6"
  }
 },
 "nbformat": 4,
 "nbformat_minor": 4
}
