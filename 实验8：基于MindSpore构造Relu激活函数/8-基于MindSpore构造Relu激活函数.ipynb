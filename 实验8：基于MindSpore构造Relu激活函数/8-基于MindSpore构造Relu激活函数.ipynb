{
 "cells": [
  {
   "cell_type": "markdown",
   "metadata": {},
   "source": [
    "# 基于MindSpore构造激活函数"
   ]
  },
  {
   "cell_type": "markdown",
   "metadata": {},
   "source": [
    "## 继承Cell类，构造ReLU函数"
   ]
  },
  {
   "cell_type": "code",
   "execution_count": 1,
   "metadata": {},
   "outputs": [],
   "source": [
    "import mindspore as ms\n",
    "from mindspore.nn import Cell\n",
    "class My_Relu(Cell):\n",
    "    def __init__(self):\n",
    "        super(My_Relu, self).__init__()\n",
    "    def construct(self, x):\n",
    "        x[x<0]  = 0\n",
    "        return x"
   ]
  },
  {
   "cell_type": "markdown",
   "metadata": {},
   "source": [
    "## 测试"
   ]
  },
  {
   "cell_type": "code",
   "execution_count": 3,
   "metadata": {},
   "outputs": [
    {
     "data": {
      "text/plain": [
       "Tensor(shape=[2, 4], dtype=Float32, value=\n",
       "[[ 1.00000000e+00,  2.00000000e+00,  0.00000000e+00,  1.29999995e+00],\n",
       " [ 0.00000000e+00,  2.00000000e+00,  1.00000000e+00,  0.00000000e+00]])"
      ]
     },
     "execution_count": 3,
     "metadata": {},
     "output_type": "execute_result"
    }
   ],
   "source": [
    "tensor = ms.Tensor([[ 1.0,  2.0, -4.0,  1.3],\n",
    "                    [-1.3,  2.0,  1.0, -6.0]], dtype=ms.float32)\n",
    "my_relu = My_Relu()\n",
    "output = my_relu(tensor)\n",
    "output"
   ]
  }
 ],
 "metadata": {
  "kernelspec": {
   "display_name": "MindSpore",
   "language": "python",
   "name": "mindspore"
  },
  "language_info": {
   "codemirror_mode": {
    "name": "ipython",
    "version": 3
   },
   "file_extension": ".py",
   "mimetype": "text/x-python",
   "name": "python",
   "nbconvert_exporter": "python",
   "pygments_lexer": "ipython3",
   "version": "3.7.6"
  },
  "vscode": {
   "interpreter": {
    "hash": "26fcd935751ef84cad2d7f9e4bd00a41b458c58fd62c8d14685a9368156264ec"
   }
  }
 },
 "nbformat": 4,
 "nbformat_minor": 4
}
