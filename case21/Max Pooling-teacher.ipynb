{
 "cells": [
  {
   "cell_type": "markdown",
   "metadata": {},
   "source": [
    "# MAX Pooling"
   ]
  },
  {
   "cell_type": "markdown",
   "metadata": {},
   "source": [
    "## mindspore.nn.MaxPool1d \n",
    "Class mindspore.nn.MaxPool1d(kernel_size=1, stride=1, pad_mode='valid')"
   ]
  },
  {
   "cell_type": "code",
   "execution_count": 7,
   "metadata": {},
   "outputs": [
    {
     "name": "stdout",
     "output_type": "stream",
     "text": [
      "(1, 2, 2)\n"
     ]
    }
   ],
   "source": [
    "import mindspore\n",
    "import numpy as np\n",
    "import mindspore.nn as nn\n",
    "from mindspore import Tensor\n",
    "\n",
    "    '''\n",
    "    MaxPool1d(kernel_size,stride)\n",
    "    '''\n",
    "\n",
    "x = Tensor(np.random.randint(0, 10, [1, 2, 4]), mindspore.float32)\n",
    "output = max_pool(x)\n",
    "result = output.shape\n",
    "print(result)"
   ]
  },
  {
   "cell_type": "code",
   "execution_count": null,
   "metadata": {},
   "outputs": [],
   "source": [
    "#参考答案\n",
    "max_pool = nn.MaxPool1d(kernel_size=3, stride=1)"
   ]
  },
  {
   "cell_type": "markdown",
   "metadata": {},
   "source": [
    "## mindspore.nn.MaxPool2d\n",
    "Class mindspore.nn.MaxPool2d(kernel_size=1, stride=1, pad_mode='valid', data_format='NCHW')"
   ]
  },
  {
   "cell_type": "code",
   "execution_count": 8,
   "metadata": {},
   "outputs": [
    {
     "name": "stdout",
     "output_type": "stream",
     "text": [
      "(1, 2, 2, 2)\n"
     ]
    }
   ],
   "source": [
    "import mindspore\n",
    "import numpy as np\n",
    "import mindspore.nn as nn\n",
    "from mindspore import Tensor\n",
    "\n",
    "    '''\n",
    "    nn.MaxPool2d(kernel_size,stride)\n",
    "    '''\n",
    "\n",
    "x = Tensor(np.random.randint(0, 10, [1, 2, 4, 4]), mindspore.float32)\n",
    "output = pool(x)\n",
    "print(output.shape)"
   ]
  },
  {
   "cell_type": "code",
   "execution_count": null,
   "metadata": {},
   "outputs": [],
   "source": [
    "#参考答案\n",
    "pool = nn.MaxPool2d(kernel_size=3, stride=1)"
   ]
  },
  {
   "cell_type": "markdown",
   "metadata": {},
   "source": [
    "## mindspore.ops.MaxPool\n",
    "Class mindspore.ops.MaxPool(kernel_size=1, strides=1, pad_mode=\"valid\", data_format=\"NCHW\")"
   ]
  },
  {
   "cell_type": "code",
   "execution_count": 9,
   "metadata": {},
   "outputs": [
    {
     "name": "stdout",
     "output_type": "stream",
     "text": [
      "[[[[ 5.  6.  7.]\n",
      "   [ 9. 10. 11.]]\n",
      "\n",
      "  [[17. 18. 19.]\n",
      "   [21. 22. 23.]]\n",
      "\n",
      "  [[29. 30. 31.]\n",
      "   [33. 34. 35.]]]]\n"
     ]
    }
   ],
   "source": [
    "import mindspore\n",
    "import numpy as np\n",
    "import mindspore.ops as ops\n",
    "\n",
    "\n",
    "\n",
    "x = Tensor(np.arange(1 * 3 * 3 * 4).reshape((1, 3, 3, 4)), mindspore.float32)\n",
    "    '''\n",
    "    ops.MaxPool(pad_mode, kernel_size, strides)\n",
    "    '''\n",
    "\n",
    "output = maxpool_op(x)\n",
    "print(output)\n"
   ]
  },
  {
   "cell_type": "code",
   "execution_count": null,
   "metadata": {},
   "outputs": [],
   "source": [
    "maxpool_op = ops.MaxPool(pad_mode=\"VALID\", kernel_size=2, strides=1)"
   ]
  }
 ],
 "metadata": {
  "kernelspec": {
   "display_name": "Python 3",
   "language": "python",
   "name": "python3"
  },
  "language_info": {
   "codemirror_mode": {
    "name": "ipython",
    "version": 3
   },
   "file_extension": ".py",
   "mimetype": "text/x-python",
   "name": "python",
   "nbconvert_exporter": "python",
   "pygments_lexer": "ipython3",
   "version": "3.8.5"
  }
 },
 "nbformat": 4,
 "nbformat_minor": 4
}
