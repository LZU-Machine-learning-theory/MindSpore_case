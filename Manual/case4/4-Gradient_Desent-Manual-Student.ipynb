{
 "cells": [
  {
   "cell_type": "markdown",
   "id": "1ba59522",
   "metadata": {},
   "source": [
    "# <center>《机器学习》— MindSpore 实践练习 </center>\n",
    "\n",
    "### <center>姓名：XXX  学号：XXXXXXXXXXX</center>"
   ]
  },
  {
   "cell_type": "markdown",
   "id": "31945165-2420-4766-a58a-6596a71348a0",
   "metadata": {},
   "source": [
    "# 4. 基于MindSpore实现梯度下降算法\n",
    "\n",
    "## 1 实验介绍\n",
    "        梯度下降是一种非常通用的优化算法，能够为大范围的问题找到最优解，其核心思想是采用不断迭代地方法来调整参数，使得成本函数最小化。梯度下降是优化神经网络时需要计算的，是相对于神经网络权重的成本梯度。很多训练神经网络的算法几乎总是基于使用梯度来使得成本函数下降，因此，梯度下降在神经网络算法原理中起到非常基础和重要的作用。当然还有许多算法对梯度下降思想进行改进和优化，后面也会介绍随机梯度下降算法。同时，梯度下降也可以用来训练线性回归、支持向量机等传统机器学习模型，且当训练集相当大时是常用方法。计算梯度在神经网络中实现会相对复杂一些，但仍然可以很高效且精确的实现。        \n",
    "    本章实验主要专注于梯度下降的原理，并利用闭式解方程求解梯度。同时，应用MindSpore框架求解梯度。\n",
    "    本章实验主要分为两个部分：\n",
    "    （1）使用张量求出解析解。\n",
    "    （2）使用梯度下降求解。\n",
    "### 1.1 实验目的\n",
    "    通过实验了解梯度下降的计算原理，实现求解梯度方法。\n",
    "### 1.2 实验清单\n",
    "|  实验  |  简述  |  难度  | 软件环境 | 开发环境 |支持平台|操作系统|\n",
    "| :-----:| :----: | :----: |:----:   |:----:   |:----:  |:----:  |\n",
    "| 解析解 | 使用张量实现闭式解求解方法 | 初级 | MindSpore1.8 Python3.7.5 | JupyterNotebook |Ascend/GPU/CPU|Windows/Linux X86|\n",
    "|方法实现 | 使用梯度下降原理实现方法  | 初级 | MindSpore1.8 Python3.7.5 | JupyterNotebook |Ascend/GPU/CPU|Windows/Linux X86|\n",
    "### 1.3 开发平台介绍\n",
    "    MindSpore 最佳匹配昇腾芯片的开源AI计算框架，支持Ascend、GPU、CPU平台。\n",
    "    MindSpore官网https://www.mindspore.cn ，可下载安装包及查询相关文档。\n",
    "    Jupyter Notebook是一个基于网页的交互式计算环境，交互式强，易于可视化，适用需要频繁修改的数据分析实验环境。\n",
    "    ModelArts是面向开发者的一站式AI开发平台，为机器学习与深度学习提供海量数据预处理及半自动化标注、大规模分布式Training、自动化模型生成，及端-边-云模型按需部署能力，帮助用户快速创建和部署模型，管理全周期AI工作流。"
   ]
  },
  {
   "cell_type": "markdown",
   "id": "3673a5a8",
   "metadata": {},
   "source": [
    "## 2 实验环境要求\n",
    "    在开始本实验前，需要完成实验环境搭建工作。可以搭建Python3.7.5和MindSpore1.8环境完成实验，也可以在华为云ModelArts实验平台完成实验。    \n",
    "### 2.1 实验环境搭建\n",
    "    步骤 1\t安装miniconda环境。\n",
    "    从网站上下载miniconda的安装包，我们以Windows环境为主。\n",
    "    \n",
    "![](Figures/fig020.png)\n",
    "\n",
    "![](Figures/fig021.png)\n",
    "\n",
    "    点击安装miniconda。\n",
    "\n",
    "![](Figures/fig022.png)\n",
    "\n",
    "    步骤 2\t通过miniconda创建python的程序环境。\n",
    "    \n",
    "    安装好的miniconda环境。\n",
    "\n",
    "![](Figures/fig023.png)\n",
    "\n",
    "    输入命令创建conda环境，并且使用python3.7.5。\n",
    "\n",
    "![](Figures/fig024.png)\n",
    "\n",
    "    创建虚拟环境完成，切换到创建的环境中去，并查看已经安装的Python包。\n",
    "\n",
    "![](Figures/fig025.png)\n",
    "\n",
    "![](Figures/fig026.png)\n",
    "\n",
    "![](Figures/fig027.png)\n",
    "\n",
    "![](Figures/fig028.png)\n",
    "\n",
    "    步骤 3  安装Mindspore。\n",
    "\n",
    "![](Figures/fig029.png)\n",
    "\n",
    "![](Figures/fig030.png)\n",
    "\n",
    "    步骤 4  安装jupyter notebook和jupyter lab。\n",
    "\n",
    "![](Figures/fig031.png)\n",
    "\n",
    "![](Figures/fig032.png)\n",
    "\n",
    "![](Figures/fig033.png)\n",
    "\n",
    "    启动jupyter notebook或者jupyterlab。\n",
    "\n",
    "### 2.2 创建ModelArts实验环境    \n",
    "    步骤 1\t创建MindSpore开发环境\n",
    "    进入 ModelArts平台，点击“EI企业智能”，找到AI开发平台ModelArts。\n",
    "  \n",
    "![](Figures/fig001.png)\n",
    "\n",
    "![](Figures/fig002.png)\n",
    "\n",
    "    进入控制台\n",
    "    步骤 2\t创建ModelArts Notebook\n",
    "    点击“开发环境”，点击Notebook\n",
    "    \n",
    "![](Figures/fig003.png)\n",
    "\n",
    "    创建新的notebook\n",
    "![](Figures/fig004.png)\n",
    "\n",
    "![](Figures/fig005.png)\n",
    "\n",
    "    可以选择MindSpore1.7.0，python3.7，Ubuntu18.04 的CPU开发环境。\n",
    "    其他资源选择默认即可。\n",
    "    \n",
    "![](Figures/fig006.png)\n",
    "\n",
    "![](Figures/fig007.png)\n",
    "\n",
    "    配置好Notebook参数后，点击“立即创建”后，进入Notebook信息预览。确认无误后，点击“立即创建”。\n",
    "    创建完成后，返回开发环境主界面，页面中显示状态为“创建中”，等待Notebook创建完毕后，当状态变为“运行中”时，可以选择“打开”notebook，进行下一步操作。\n",
    "    \n",
    "![](Figures/fig008.png)\n",
    "\n",
    "![](Figures/fig009.png)\n",
    "\n",
    "    步骤3 创建新的notebook文件。\n",
    "    这时可以选择创建MindSpore的notebook。\n",
    "    点击左上方的文件名\"Untitled\"，并输入一个与本实验相关的名称，如\"softmax\"\n",
    "    \n",
    "![](Figures/fig010.png)\n",
    "\n",
    "    步骤 4\t在Notebook中编写并执行代码\n",
    "    在Notebook中，我们输入一个简单的打印语句，然后点击上方的运行按钮，可以查看语句执行的结果：\n",
    "    \n",
    "![](Figures/fig011.png)\n",
    "\n",
    "    步骤 5    保存代码\n",
    "    代码编写完之后，点击下图所示的“保存”按钮，保存代码和代码执行结果。\n",
    "    \n",
    "![](Figures/fig012.png)\n",
    "    \n",
    "    步骤 6    从ModelArts下载代码到本地\n",
    "\n",
    "![](Figures/fig013.png)\n",
    "\n",
    "    选中需要下载的文件后，在菜单File中选择“Download”，可以将文件下载到本地。\n",
    "    步骤 7    从本地上传代码到ModelArts\n",
    "    点击工具栏“上传”按钮，打开上传文件对话框，如下图所示。\n",
    "    \n",
    "![](Figures/fig014.png)\n",
    "\n",
    "![](Figures/fig015.png)\n",
    "\n",
    "    步骤8 启动和停止\n",
    "    可以启动notebook，并选择启用时间，到时间后服务会自动停止。\n",
    "    \n",
    "![](Figures/fig016.png)\n",
    "\n",
    "    也可以在启动服务后，选择手动停止服务，点击“停止”按钮。\n",
    "    \n",
    "![](Figures/fig017.png)"
   ]
  },
  {
   "cell_type": "markdown",
   "id": "46e98314",
   "metadata": {},
   "source": [
    "## 3 实验准备及实验设计\n",
    "### 3.1 实验介绍\n",
    "线性回归方程: $\\hat y=w_0+w_1𝑥_1+w_2 𝑥_2+…+w_n 𝑥_𝑛$\n",
    "\n",
    "通常会采用MSE均方根误差作为成本函数：$h_w=1/𝑚 \\sum_{𝑖=1}^𝑚(w^𝑇 𝑥^{(𝑖)}−𝑦^{(𝑖)})^2 $\n",
    "\n",
    "* (1) 求解析解，线性回归的解可以用一个公式简单地表达出来， 这类解叫作解析解(analytical solution)，可以直接计算得到$\\hat w =(𝑋^𝑇 𝑋)^{−1} 𝑋^𝑇 𝑦 $\n",
    "* (2) 采用梯度下降方法，通过梯度向量寻优，梯度向量乘以 $\\eta$ 用于确定下坡步长的大小 $w^{(next step)}= w -\\eta\\nabla_w MSE(w)$\n",
    "\n",
    "参考mindspore 仓库：https://github.com/LZU-Machine-learning-theory/MindSpore_case/tree/main/case4\n",
    "\n",
    "### 3.2 实验目标\n",
    "* 学会闭式解求解推导过程。\n",
    "* 掌握闭式解求解实现流程。\n",
    "* 学会梯度求解的推导过程。\n",
    "* 掌握梯度下降的实现流程。\n",
    "### 3.3 实验总体设计\n",
    "1. 导入实验所需模块\n",
    "2. 导入使用数据\n",
    "3. 实现方法\n",
    "4. 查看结果    \n",
    "    导入实验所需模块：该步骤通常都是程序编辑的第一步，将实验代码所需要用到的模块包用import命令进行导入。\n",
    "    导入数据并预处理：这里给出已有数据，并不需要做额外处理。\n",
    "    实现方法：利用mindspore中的Tensor张量进行闭式解求解。\n",
    "    查看结果：传入数据，调用方法计算结果并查看。\n",
    "    \n",
    "### 3.4 实验过程\n",
    "#### 3.4.1 导入所需模块\n",
    "    这里需要导入相关依赖库:\n",
    "    import numpy as np\n",
    "    import matplotlib.pyplot as plt\n",
    "    from mindspore import Tensor\n",
    "    Numpy模块主要用于数据的基本运算操作。Matplotlib模块主要用于画图。MindSpore中的Tensor用于实现梯度下降的张量。  \n",
    "#### 3.4.2 导入实验数据\n",
    "    这里给出测试数据点，如下所示：\n",
    "    x1 = np.array([55,71,68,87,101,87,75,78,93,73])    # 给出x的值\n",
    "    y1 = np.array([91,101,87,109,129,98,95,101,104,93])# 给出y的值"
   ]
  },
  {
   "cell_type": "markdown",
   "id": "5cf4b650",
   "metadata": {},
   "source": [
    "## 4. 实验过程及内容\n",
    "### 4.1 使用张量求出解析解\n",
    "\n",
    "\n",
    "1. 首先需要确定成本函数，这里使用MSE作为成本函数\n",
    "$$MSE = (X, h_0)=\\frac{1}{m}\\sum ^m_{i=1}(W^Tx^{(i)}-y^{(i)})^2$$\n",
    "也可以简写成：\n",
    "$$MSE =\\frac{1}{m}\\sum (y-WX)^2$$\n",
    "\n",
    "2. 求解目标——得到成本函数的最小值\n",
    "$$target = min ||y-WX||^2 = min (y-WX)^T(y-WX)$$\n",
    "\n",
    "3. 将求解公式展开得到：\n",
    "$$target = min (y-WX)^T(y-WX)= W^TX^TWX-y^TWX-yW^TX^T+y^Ty$$\n",
    "\n",
    "4. 对W求偏导\n",
    "$$\\frac{\\partial target}{\\partial W}= \\frac{\\partial(W^TX^TWX-y^TWX-yW^TX^T+y^Ty)}{\\partial W}=2X^TXW-2X^Ty+0=0$$\n",
    "\n",
    "根据$$\\frac{\\partial W^TX}{\\partial W}=\\frac{\\partial X^TW}{\\partial W}=X$$\n",
    "$$\\frac{\\partial W^TXW}{\\partial W}=XW + X^TW$$\n",
    "矩阵对称则有：$$XW + X^TW=2XW$$\n",
    "\n",
    "5. 求解W\n",
    "$$2X^TXW-2X^Ty=0$$\n",
    "$$2X^TXW=2X^Ty$$\n",
    "$$W=(X^TX)^{-1}X^Ty$$"
   ]
  },
  {
   "cell_type": "markdown",
   "id": "1108e35b",
   "metadata": {},
   "source": [
    "\n",
    "\n",
    "#### 4.1.1 使用numpy测试闭式解求解方法\n",
    "    测试代码如下："
   ]
  },
  {
   "cell_type": "code",
   "execution_count": 99,
   "id": "9ffe6a05",
   "metadata": {},
   "outputs": [
    {
     "name": "stdout",
     "output_type": "stream",
     "text": [
      "w_best_np: [44.25604341  0.7175629 ]\n"
     ]
    }
   ],
   "source": [
    "# 采用解析解的方式计算可得到：\n",
    "import numpy as np\n",
    "    \n",
    "x1 = np.array([55,71,68,87,101,87,75,78,93,73])    # 给出x的值\n",
    "y1 = np.array([91,101,87,109,129,98,95,101,104,93])# 给出y的值\n",
    "x_b = np.c_[np.ones((10, 1)), x1]                  # 在x中增加一列，值均为1\n",
    "\n",
    "w_best_np = np.linalg.inv(x_b.T.dot(x_b)).dot(x_b.T).dot(y1)  # 按公式计算得到w，np.linalg.inv()是对矩阵求逆\n",
    "print(\"w_best_np:\",w_best_np)                     #  打印输出结果w\n"
   ]
  },
  {
   "cell_type": "markdown",
   "id": "a9c1b11f-4c60-412d-ba0b-69f89cc885a8",
   "metadata": {},
   "source": [
    "#### 4.1.2 采用张量求出解析解\n",
    "    数据准备，使用numpy生成数据，之后使用mindspore的tensor进行转换：这里使用数据和前面的相同。"
   ]
  },
  {
   "cell_type": "code",
   "execution_count": 90,
   "id": "30198a80-ae3a-4f5e-84a1-f09f529080c4",
   "metadata": {},
   "outputs": [],
   "source": [
    "import numpy as np\n",
    "import matplotlib.pyplot as plt\n",
    "from mindspore import Tensor\n",
    "def data_generate():                                  # 定义数据生成函数\n",
    "    x = np.array([55,71,68,87,101,87,75,78,93,73])    # 给出x的值\n",
    "    y = np.array([91,101,87,109,129,98,95,101,104,93])# 给出y的值\n",
    "\n",
    "    x = Tensor(x.astype(np.float32))                  # 将x转换为Tensor\n",
    "    y = Tensor(y.astype(np.float32))                  # 将y转换为Tensor\n",
    "   \n",
    "    return x,y"
   ]
  },
  {
   "cell_type": "code",
   "execution_count": 93,
   "id": "d726f696",
   "metadata": {},
   "outputs": [],
   "source": [
    "def ols_algebra(x, y):\n",
    "    '''\n",
    "    解析解\n",
    "    '''\n",
    "    #根据解析计算方法求解w，补充代码\n",
    "    \n",
    "\n",
    "    return w1,w0 \n",
    "    pass"
   ]
  },
  {
   "cell_type": "markdown",
   "id": "8afe8b57",
   "metadata": {},
   "source": [
    "    通过填充后的代码查看结果。"
   ]
  },
  {
   "cell_type": "code",
   "execution_count": 94,
   "id": "d70db6b3-f909-45d5-9561-6b685d31e265",
   "metadata": {},
   "outputs": [],
   "source": [
    "#按要求补充代码"
   ]
  },
  {
   "cell_type": "markdown",
   "id": "036c0732",
   "metadata": {},
   "source": [
    "    #通过填充后的代码查看结果\n",
    "    x,y = data_generate()\n",
    "    w1,w0 = ols_algebra(x,y)\n",
    "    print(w0)\n",
    "    print(w1)\n",
    "    #参考输出：\n",
    "    44.256042\n",
    "    0.7175629"
   ]
  },
  {
   "cell_type": "markdown",
   "id": "c8587154-0749-4c5d-9a0c-ac81410e6f3d",
   "metadata": {},
   "source": [
    "### 4.2 采用梯度下降求解\n",
    "    实现梯度下降，需要计算模型关于参数$w_j$的成本函数的梯度。也就是说，需要计算改变$w_j$，成本函数会改变多少。这里采用偏导数计算:\n",
    "$$\\frac{\\partial}{\\partial w_j}MSE(W)=\\frac{2}{m}\\sum ^m_{i=1}(W^Tx^{(i)}-y^{(i)})x^{(i)}_j$$\n",
    "    其中，$m$是样本个数。\n",
    "    计算成本函数的梯度向量：\n",
    "    $$\\nabla _W MSE(W)=\\begin{pmatrix} \\frac{\\partial}{\\partial W_0}MSE(W)\\\\ \\frac{\\partial}{\\partial W_1 }MSE(W)\\\\ ...\\\\ \\frac{\\partial}{\\partial W_n}MSE(W) \\end{pmatrix}=\\frac{2}{m}X^T(xW-y)$$\n",
    "    \n",
    "    梯度下降的步骤为：\n",
    "$$W^{(next)}=W-\\eta \\nabla _W MSE(W)$$\n",
    "\n",
    "#### 4.2.1 采用张量实现梯度下降方法\n",
    "    根据梯度下降的公式，更新梯度，在给定迭代次数(500-15000)，学习率0.00001的条件下,验证方法的使用效果\n",
    "    需要补充下列代码："
   ]
  },
  {
   "cell_type": "code",
   "execution_count": 95,
   "id": "3a10f7f1",
   "metadata": {},
   "outputs": [],
   "source": [
    "def ols_gradient_descent(x,y,lr,num_iter):\n",
    "    '''\n",
    "    梯度下降解\n",
    "    lr: 学习率\n",
    "    num_iter: 迭代次数\n",
    "   '''\n",
    "    return w1,w0\n",
    "    pass\n",
    "    "
   ]
  },
  {
   "cell_type": "code",
   "execution_count": 4,
   "id": "85156075-8268-4395-b719-19a4ffbea11e",
   "metadata": {},
   "outputs": [],
   "source": [
    "#按要求补充代码"
   ]
  },
  {
   "cell_type": "markdown",
   "id": "ed12a4e7-3934-42c8-b70f-b53137addcfd",
   "metadata": {},
   "source": [
    "#### 4.2.2  结合补充后的代码进行绘图结果比较"
   ]
  },
  {
   "cell_type": "code",
   "execution_count": 5,
   "id": "ed1fab6d-182d-4e5c-8158-9017b2fbf1e2",
   "metadata": {},
   "outputs": [],
   "source": [
    "def plot_pic(w1,w0,w1_,w0_,x,y):\n",
    "    '''\n",
    "    画图\n",
    "    '''\n",
    "    fig, axes = plt.subplots(1,2, figsize=(15,5))  # 采用subplots绘制子图1*2个15x5大小的子图\n",
    "    w1 = w1.asnumpy()                              # 返回具有从该数组复制的值的 numpy.ndarray 对象\n",
    "    w0 = w0.asnumpy()\n",
    "    w1_ = w1_.asnumpy()\n",
    "    w0_ = w0_.asnumpy()\n",
    "    x = x.asnumpy()\n",
    "    y = y.asnumpy()\n",
    "\n",
    "    axes[0].scatter(x,y)                           # 绘制y与x的散点图，并使用不同的标记大小或颜色\n",
    "    axes[0].plot(np.array([50,110]), np.array([50,110])*w1 + w0, 'r') #根据给出的x和y画出红线\n",
    "    axes[0].set_title(\"OLS\")\n",
    "\n",
    "    axes[1].scatter(x,y)\n",
    "    axes[1].plot(np.array([50,110]), np.array([50,110])*w1_ + w0_, 'r')\n",
    "    axes[1].set_title(\"Gradient descent\")\n",
    "\n",
    "    plt.show()"
   ]
  },
  {
   "cell_type": "markdown",
   "id": "723bffe3-e0e0-4f14-a8e2-656f04c4c2e2",
   "metadata": {},
   "source": [
    "#### 4.2.3  调用梯度下降方法执行结果"
   ]
  },
  {
   "cell_type": "markdown",
   "id": "e40274c6",
   "metadata": {},
   "source": [
    "    x,y = data_generate()          # 调用data_generate函数生成数据\n",
    "\n",
    "    w1,w0 = ols_algebra(x,y)       # 调用ols_algebra函数计算解析解\n",
    "    print(w1)\n",
    "    print(w0)\n",
    "\n",
    "    w1_,w0_ = ols_gradient_descent(x,y,lr = 0.00001, num_iter = 500) # 调用ols_gradient_descent函数使用梯度下降方法求解w\n",
    "    print(w1_)\n",
    "    print(w0_)\n",
    "\n",
    "    plot_pic(w1,w0,w1_,w0_,x,y)\n",
    "\n",
    "    w1_,w0_ = ols_gradient_descent(x,y,lr = 0.00001, num_iter = 15000) # 增加迭代次数后查看求解w\n",
    "    print(w1_)\n",
    "    print(w0_)\n",
    "\n",
    "    plot_pic(w1,w0,w1_,w0_,x,y)\n",
    "    # 参考输出：\n",
    "    0.7175629\n",
    "    44.256042\n",
    "    1.2633123\n",
    "    0.12807482\n",
    "![](Figures/fig018.png)\n",
    "    \n",
    "    1.2244889\n",
    "    3.2672513\n",
    "![](Figures/fig019.png)"
   ]
  },
  {
   "cell_type": "markdown",
   "id": "36bdcaae",
   "metadata": {},
   "source": [
    "## 5 实验总结\n",
    "    本实验提供了一个基于MindSpore的张量实现梯度下降闭式解实验,展示了如何通过张量构建闭式解的流程。实验主要对梯度下降进行实现，在学习了直接求解过程后，利用MindSpore提供的张量Tensor完成梯度下降方法的实现并使用提供数据进行验证绘图。"
   ]
  }
 ],
 "metadata": {
  "kernelspec": {
   "display_name": "Python 3 (ipykernel)",
   "language": "python",
   "name": "python3"
  },
  "language_info": {
   "codemirror_mode": {
    "name": "ipython",
    "version": 3
   },
   "file_extension": ".py",
   "mimetype": "text/x-python",
   "name": "python",
   "nbconvert_exporter": "python",
   "pygments_lexer": "ipython3",
   "version": "3.9.13"
  }
 },
 "nbformat": 4,
 "nbformat_minor": 5
}
