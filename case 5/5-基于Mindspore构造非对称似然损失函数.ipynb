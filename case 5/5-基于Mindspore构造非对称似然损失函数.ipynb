{
 "cells": [
  {
   "cell_type": "markdown",
   "id": "a488c4e7",
   "metadata": {},
   "source": [
    "# 基于Mindspore构造非对称似然损失函数"
   ]
  },
  {
   "cell_type": "markdown",
   "id": "3312fa8b",
   "metadata": {},
   "source": [
    "本小节主要介绍如何基于mindspore构造非对称似然损失函数。\n",
    "\n",
    "使用 MindSpore框架中的NLLLoss 操作计算一个小批量数据的负对数似然损失（negative log-likelihood loss），并输出计算得到的损失值和加权值。"
   ]
  },
  {
   "cell_type": "markdown",
   "id": "5654e308",
   "metadata": {},
   "source": [
    "获取logits 和标签之间的负对数似然损失。\n",
    "\n",
    "reduction=none 的 nll loss 可以描述为：\n"
   ]
  },
  {
   "cell_type": "markdown",
   "id": "82518885",
   "metadata": {},
   "source": [
    "$$ \\iota(x,t)=L=\\{l_1,...,l_n \\}^T $$\n",
    "\n",
    "$$ l_n=-\\omega _{tn}\\chi _{n,tn} $$\n",
    "\n",
    "$$ \\omega _c=weight[c]\\cdot1 $$\n"
   ]
  },
  {
   "cell_type": "markdown",
   "id": "7aa86e1c",
   "metadata": {},
   "source": [
    "其中 x 是输入，t 是目标。w 是权重。N 是批量大小。c 属于 [0, C-1] 是类索引，其中 C 是类数。\n",
    "\n",
    "如果 reduction 不是“none”（默认为“mean”），则\n"
   ]
  },
  {
   "cell_type": "markdown",
   "id": "8a90479a",
   "metadata": {},
   "source": [
    "$$\n",
    " \\iota(x,t)=\n",
    " \\begin{cases}\n",
    " \\sum_{n=1}^N \\frac{1}{\\sum_{n=1}^N \\cdot\\omega_{tn}}{l_n}, & \\text{if reduction = 'mean';}\\\\\n",
    " \\sum_{n=1}^N{l_n}, & \\text{if reduction = 'sum';}\n",
    " \\end{cases}\n",
    " $$"
   ]
  },
  {
   "cell_type": "markdown",
   "id": "542f0ff9",
   "metadata": {},
   "source": [
    "### 参数：\n",
    "\n",
    "    reduction ( string ) – 将特定的归约方法应用于输出：'none'、'mean'、'sum'。默认值：“均值”。"
   ]
  },
  {
   "cell_type": "markdown",
   "id": "d3bc79e8",
   "metadata": {},
   "source": [
    "### 输入：\n",
    "\n",
    "    input (Tensor) - 输入 logits，有形状(N,C). 数据类型仅支持 float32 或 float16。\n",
    "\n",
    "    target (Tensor) - 地面实况标签，带有形状(N). 数据类型只支持 int32。\n",
    "\n",
    "    weight (Tensor) - 每个类的重新缩放权重，具有形状(C)并且数据类型仅支持 float32 或 float16`。\n"
   ]
  },
  {
   "cell_type": "markdown",
   "id": "a7c74584",
   "metadata": {},
   "source": [
    "### 输出：\n",
    "    由loss和total_weight组成的 2 个张量的元组。\n",
    "    \n",
    "    loss (Tensor) - 当reduction为none且输入为 2D 张量时，损失形状为(N,)。否则，损失是一个标量。数据类型与输入相同。\n",
    "    \n",
    "\n",
    "    total_weight (Tensor)  - total_weight是一个标量。数据类型与权重相同。"
   ]
  },
  {
   "cell_type": "markdown",
   "id": "5d379936",
   "metadata": {},
   "source": [
    "   TypeError – 如果 x 和权重数据类型不是 float16 或 float32 张量，则目标数据类型不是 int32 张量。\n",
    "    \n",
    "\n",
    "   ValueError – 如果 x 不是一维或二维张量，则目标和权重不是一维张量。当x为二维张量时，x的第一维不等于target，x的第二维不等于weight。当 x 是一维张量时，x、target 和 weight 的维度应该彼此相等。"
   ]
  },
  {
   "cell_type": "markdown",
   "id": "a7038ab8",
   "metadata": {},
   "source": [
    "### 导入库和函数"
   ]
  },
  {
   "cell_type": "code",
   "execution_count": 1,
   "id": "d4867538",
   "metadata": {},
   "outputs": [],
   "source": [
    "import numpy as np      #导入 NumPy 库，用于生成输入数据\n",
    "import mindspore.nn as nn #导入 MindSpore 框架中的 nn 模块，用于构建神经网络\n",
    "import mindspore.ops as ops #导入 MindSpore 框架中的 ops 模块，用于定义操作\n",
    "from mindspore import Tensor #从 MindSpore 框架中导入 Tensor 类，用于创建张量"
   ]
  },
  {
   "cell_type": "markdown",
   "id": "2414a8f1",
   "metadata": {},
   "source": [
    "### 测试"
   ]
  },
  {
   "cell_type": "code",
   "execution_count": 3,
   "id": "de33de26",
   "metadata": {},
   "outputs": [
    {
     "name": "stdout",
     "output_type": "stream",
     "text": [
      "-0.52507716\n",
      "1.1503246\n"
     ]
    }
   ],
   "source": [
    "input_tensor = Tensor(np.array([[0.5488135, 0.71518934], \n",
    "                                [0.60276335, 0.5448832],\n",
    "                                [0.4236548, 0.6458941]]).astype(np.float32)) #使用 NumPy 生成一个形状为 (3, 2) 的浮点数数组，并将其转换为 MindSpore张量\n",
    "target = Tensor(np.array([0, 0, 0]).astype(np.int32))                 #使用 NumPy 生成一个整数数组，并将其转换为 MindSpore 张量       \n",
    "weight = Tensor(np.array([0.3834415, 0.79172504]).astype(np.float32))\n",
    "nll_loss = ops.NLLLoss(reduction=\"mean\")    #创建一个使用平均值作为减少方法的 NLLLoss 操作\n",
    "loss, weight = nll_loss(input_tensor, target, weight)     #使用 NLLLoss 操作计算输入数据的损失值和加权值，并将它们保存在变量loss和 weight 中\n",
    "print(loss)              # 计算得到的损失值\n",
    "print(weight)            # 计算得到的加权值"
   ]
  }
 ],
 "metadata": {
  "kernelspec": {
   "display_name": "Python 3 (ipykernel)",
   "language": "python",
   "name": "python3"
  },
  "language_info": {
   "codemirror_mode": {
    "name": "ipython",
    "version": 3
   },
   "file_extension": ".py",
   "mimetype": "text/x-python",
   "name": "python",
   "nbconvert_exporter": "python",
   "pygments_lexer": "ipython3",
   "version": "3.9.7"
  }
 },
 "nbformat": 4,
 "nbformat_minor": 5
}
