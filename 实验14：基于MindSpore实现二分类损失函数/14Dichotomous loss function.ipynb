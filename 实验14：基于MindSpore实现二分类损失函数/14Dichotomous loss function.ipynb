{
 "cells": [
  {
   "cell_type": "code",
   "execution_count": 2,
   "metadata": {},
   "outputs": [
    {
     "name": "stdout",
     "output_type": "stream",
     "text": [
      "Collecting mindspore\n",
      "  Downloading mindspore-1.8.1-cp38-cp38-win_amd64.whl (86.3 MB)\n",
      "Requirement already satisfied: protobuf>=3.13.0 in d:\\anaconda3\\lib\\site-packages (from mindspore) (3.20.0)\n",
      "Requirement already satisfied: astunparse>=1.3 in d:\\anaconda3\\lib\\site-packages (from mindspore) (1.6.3)\n",
      "Requirement already satisfied: psutil>=5.6.1 in d:\\anaconda3\\lib\\site-packages (from mindspore) (5.7.2)\n",
      "Requirement already satisfied: packaging>=20.0 in d:\\anaconda3\\lib\\site-packages (from mindspore) (20.4)\n",
      "Collecting asttokens>=2.0.0\n",
      "  Downloading asttokens-2.0.8-py2.py3-none-any.whl (23 kB)\n",
      "Requirement already satisfied: pillow>=6.2.0 in d:\\anaconda3\\lib\\site-packages (from mindspore) (8.0.1)\n",
      "Note: you may need to restart the kernel to use updated packages.\n",
      "Requirement already satisfied: scipy>=1.5.2 in d:\\anaconda3\\lib\\site-packages (from mindspore) (1.5.2)\n",
      "Requirement already satisfied: numpy>=1.17.0 in d:\\anaconda3\\lib\\site-packages (from mindspore) (1.22.3)\n",
      "Requirement already satisfied: six<2.0,>=1.6.1 in d:\\anaconda3\\lib\\site-packages (from astunparse>=1.3->mindspore) (1.16.0)\n",
      "Requirement already satisfied: wheel<1.0,>=0.23.0 in d:\\anaconda3\\lib\\site-packages (from astunparse>=1.3->mindspore) (0.37.1)\n",
      "Requirement already satisfied: pyparsing>=2.0.2 in d:\\anaconda3\\lib\\site-packages (from packaging>=20.0->mindspore) (2.4.7)\n",
      "Installing collected packages: asttokens, mindspore\n",
      "Successfully installed asttokens-2.0.8 mindspore-1.8.1\n"
     ]
    }
   ],
   "source": [
    "pip install mindspore"
   ]
  },
  {
   "cell_type": "code",
   "execution_count": null,
   "metadata": {},
   "outputs": [],
   "source": [
    "import numpy as np\n",
    "import mindspore.nn as nn\n",
    "import mindspore as ms"
   ]
  },
  {
   "cell_type": "markdown",
   "metadata": {},
   "source": [
    "# 内置损失函数"
   ]
  },
  {
   "cell_type": "code",
   "execution_count": 7,
   "metadata": {
    "scrolled": true
   },
   "outputs": [
    {
     "name": "stdout",
     "output_type": "stream",
     "text": [
      "loss: 0.33333334\n",
      "loss_sum: 2.0\n",
      "loss_none:\n",
      " [1. 0. 0. 1. 0. 0.]\n"
     ]
    }
   ],
   "source": [
    "import numpy as np\n",
    "import mindspore.nn as nn\n",
    "import mindspore as ms\n",
    "\n",
    "# 输出loss均值\n",
    "loss = nn.L1Loss()\n",
    "# 输出loss和\n",
    "loss_sum = nn.L1Loss(reduction='sum')\n",
    "# 输出loss原值\n",
    "loss_none = nn.L1Loss(reduction='none')\n",
    "\n",
    "input_data = ms.Tensor(np.array([1, 0, 1, 0, 1, 0]).astype(np.float32))\n",
    "target_data = ms.Tensor(np.array([0, 0, 1, 1, 1, 0]).astype(np.float32))\n",
    "\n",
    "print(\"loss:\", loss(input_data, target_data))\n",
    "print(\"loss_sum:\", loss_sum(input_data, target_data))\n",
    "print(\"loss_none:\\n\", loss_none(input_data, target_data))"
   ]
  },
  {
   "cell_type": "markdown",
   "metadata": {},
   "source": [
    "# 基于nn.Cell构造损失函数"
   ]
  },
  {
   "cell_type": "code",
   "execution_count": 5,
   "metadata": {},
   "outputs": [
    {
     "name": "stdout",
     "output_type": "stream",
     "text": [
      "0.33333334\n"
     ]
    }
   ],
   "source": [
    "import mindspore.ops as ops\n",
    "\n",
    "class MAELoss(nn.Cell):\n",
    "    \"\"\"自定义损失函数MAELoss\"\"\"\n",
    "\n",
    "    def __init__(self):\n",
    "        \"\"\"初始化\"\"\"\n",
    "        super(MAELoss, self).__init__()\n",
    "        self.abs = ops.Abs()\n",
    "        self.reduce_mean = ops.ReduceMean()\n",
    "\n",
    "    def construct(self, base, target):\n",
    "        \"\"\"调用算子\"\"\"\n",
    "        x = self.abs(base - target)\n",
    "        return self.reduce_mean(x)\n",
    "\n",
    "loss = MAELoss()\n",
    "\n",
    "input_data = ms.Tensor(np.array([1, 0, 1, 0, 1, 0]).astype(np.float32))  # 生成预测值\n",
    "target_data = ms.Tensor(np.array([0, 0, 1, 1, 1, 0]).astype(np.float32)) # 生成真实值\n",
    "\n",
    "output = loss(input_data, target_data)\n",
    "print(output)"
   ]
  },
  {
   "cell_type": "markdown",
   "metadata": {},
   "source": [
    "# 基于nn.LossBase构造损失函数"
   ]
  },
  {
   "cell_type": "code",
   "execution_count": 6,
   "metadata": {},
   "outputs": [
    {
     "name": "stdout",
     "output_type": "stream",
     "text": [
      "0.33333334\n"
     ]
    }
   ],
   "source": [
    "class MAELoss(nn.LossBase):\n",
    "    \"\"\"自定义损失函数MAELoss\"\"\"\n",
    "\n",
    "    def __init__(self, reduction=\"mean\"):\n",
    "        \"\"\"初始化并求loss均值\"\"\"\n",
    "        super(MAELoss, self).__init__(reduction)\n",
    "        self.abs = ops.Abs()  # 求绝对值算子\n",
    "\n",
    "    def construct(self, base, target):\n",
    "        x = self.abs(base - target)\n",
    "        return self.get_loss(x)  # 返回loss均值\n",
    "\n",
    "loss = MAELoss()\n",
    "\n",
    "input_data = ms.Tensor(np.array([1, 0, 1, 0, 1, 0]).astype(np.float32))  # 生成预测值\n",
    "target_data = ms.Tensor(np.array([0, 0, 1, 1, 1, 0]).astype(np.float32))  # 生成真实值\n",
    "\n",
    "output = loss(input_data, target_data)\n",
    "print(output)"
   ]
  },
  {
   "cell_type": "code",
   "execution_count": null,
   "metadata": {},
   "outputs": [],
   "source": []
  }
 ],
 "metadata": {
  "kernelspec": {
   "display_name": "Python 3",
   "language": "python",
   "name": "python3"
  },
  "language_info": {
   "codemirror_mode": {
    "name": "ipython",
    "version": 3
   },
   "file_extension": ".py",
   "mimetype": "text/x-python",
   "name": "python",
   "nbconvert_exporter": "python",
   "pygments_lexer": "ipython3",
   "version": "3.8.5"
  }
 },
 "nbformat": 4,
 "nbformat_minor": 4
}
