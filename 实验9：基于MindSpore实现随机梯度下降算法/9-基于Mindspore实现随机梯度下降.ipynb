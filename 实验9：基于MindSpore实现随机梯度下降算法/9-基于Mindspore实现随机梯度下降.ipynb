{
 "cells": [
  {
   "cell_type": "markdown",
   "id": "a2095277-7c23-47d6-b2bc-a147f8fd013e",
   "metadata": {},
   "source": [
    "# 随机梯度下降"
   ]
  },
  {
   "cell_type": "markdown",
   "id": "e202763d",
   "metadata": {},
   "source": [
    "梯度是一个矢量，它告诉我们权重的方向。更准确地说，它告诉我们如何改变权重，使损失变化最快。我们称这个过程为梯度下降，因为它使用梯度使损失曲线下降到最小值。随机的意思是“由偶然决定的”。我们的训练是随机的，因为小批量是数据集中的随机样本。这就是为什么它被称为SGD!"
   ]
  },
  {
   "cell_type": "markdown",
   "id": "f43b42b1-84de-4b20-82b4-0e8cec47a458",
   "metadata": {},
   "source": [
    "本节主要介绍随机梯度下降的主要内容\n",
    "\n",
    "首先导入随机梯度下降所需的minspore包"
   ]
  },
  {
   "cell_type": "code",
   "execution_count": 1,
   "id": "40e63eca-ab32-44e5-9d34-7c80ec434b1e",
   "metadata": {},
   "outputs": [],
   "source": [
    "import numpy as np\n",
    "import matplotlib.pyplot as plt\n",
    "from mindspore import Tensor"
   ]
  },
  {
   "cell_type": "markdown",
   "id": "cfe2c14c-54f4-4ac9-86de-f60794c3a2b0",
   "metadata": {},
   "source": [
    "定义解析解，对参数进行计算"
   ]
  },
  {
   "cell_type": "code",
   "execution_count": 2,
   "id": "7168e61b-9b2d-475b-8ceb-c9987133a62d",
   "metadata": {},
   "outputs": [],
   "source": [
    "def ols_algebra(x, y):\n",
    "    '''\n",
    "    解析解\n",
    "    '''\n",
    "    n = len(x)\n",
    "    w1 = (n*sum(x*y) - sum(x)*sum(y)) / (n*sum(x*x) - sum(x)*sum(x))\n",
    "    w0 = (sum(x*x)*sum(y) - sum(x)*sum(x*y)) / (n*sum(x*x) - sum(x)*sum(x))\n",
    "    \n",
    "    return w1,w0"
   ]
  },
  {
   "cell_type": "markdown",
   "id": "2cffbf2c-1051-4079-aa7c-f573144ed15b",
   "metadata": {},
   "source": [
    "通过最小二乘法定义梯度下降的算法过程。"
   ]
  },
  {
   "cell_type": "code",
   "execution_count": 3,
   "id": "b99e7496-c7c6-4097-ae46-ad0c824c7329",
   "metadata": {},
   "outputs": [],
   "source": [
    "def ols_gradient_descent(x,y,lr,num_iter):\n",
    "    '''\n",
    "    梯度下降解\n",
    "    '''\n",
    "    w1 = 0\n",
    "    w0 = 0\n",
    "    for i in range(num_iter):\n",
    "        y_hat = (w1 * x)+ w0\n",
    "        w1_gradient = -2 * sum(x*(y-y_hat))\n",
    "        w0_gradient = -2*sum(y-y_hat)\n",
    "        w1 -=lr * w1_gradient\n",
    "        w0 -= lr* w0_gradient\n",
    "    return w1,w0"
   ]
  },
  {
   "cell_type": "markdown",
   "id": "03e26d50-2b6f-4599-a89b-59464902ed89",
   "metadata": {},
   "source": [
    "使用plot函数对梯度下降结果进行绘图"
   ]
  },
  {
   "cell_type": "code",
   "execution_count": 4,
   "id": "192c91c1-d51a-4753-9bc1-768ff67160f2",
   "metadata": {},
   "outputs": [],
   "source": [
    "def plot_pic(w1,w0,w1_,w0_,x,y):\n",
    "    '''\n",
    "    画图\n",
    "    '''\n",
    "    fig, axes = plt.subplots(1,2, figsize=(15,5))\n",
    "    w1 = w1.asnumpy()\n",
    "    w0 = w0.asnumpy()\n",
    "    w1_ = w1_.asnumpy()\n",
    "    w0_ = w0_.asnumpy()\n",
    "    x = x.asnumpy()\n",
    "    y = y.asnumpy()\n",
    "\n",
    "    axes[0].scatter(x,y)\n",
    "    axes[0].plot(np.array([50,110]), np.array([50,110])*w1 + w0, 'r')\n",
    "    axes[0].set_title('OLS')\n",
    "\n",
    "    axes[1].scatter(x,y)\n",
    "    axes[1].plot(np.array([50,110]), np.array([50,110])*w1_ + w0_, 'r')\n",
    "    axes[1].set_title('Gradient descent')\n",
    "\n",
    "    plt.show()"
   ]
  },
  {
   "cell_type": "markdown",
   "id": "4830a719-8996-4c2f-8518-e572405743d5",
   "metadata": {},
   "source": [
    "假设数据为自定义数据，x，y，经过解析，和最小二乘得到最终结果，最后使用绘图函数完成该过程"
   ]
  },
  {
   "cell_type": "code",
   "execution_count": 5,
   "id": "3ede3073-bc74-4cec-855d-e8b5aadcece6",
   "metadata": {},
   "outputs": [
    {
     "name": "stdout",
     "output_type": "stream",
     "text": [
      "0.7175629\n",
      "44.256042\n",
      "1.2633123\n",
      "0.12807482\n"
     ]
    },
    {
     "data": {
      "image/png": "[encoded data removed]",
      "text/plain": [
       "<Figure size 1080x360 with 2 Axes>"
      ]
     },
     "metadata": {
      "needs_background": "light"
     },
     "output_type": "display_data"
    }
   ],
   "source": [
    "x = np.array([55,71,68,87,101,87,75,78,93,73])\n",
    "y = np.array([91,101,87,109,129,98,95,101,104,93])\n",
    "\n",
    "x = Tensor(x.astype(np.float32))\n",
    "y = Tensor(y.astype(np.float32))\n",
    "\n",
    "w1,w0 = ols_algebra(x,y)\n",
    "print(w1)\n",
    "print(w0)\n",
    "\n",
    "w1_,w0_ = ols_gradient_descent(x,y,lr = 0.00001, num_iter = 500)\n",
    "print(w1_)\n",
    "print(w0_)\n",
    "\n",
    "plot_pic(w1,w0,w1_,w0_,x,y)\n"
   ]
  }
 ],
 "metadata": {
  "kernelspec": {
   "display_name": "MindSpore",
   "language": "python",
   "name": "mindspore"
  },
  "language_info": {
   "codemirror_mode": {
    "name": "ipython",
    "version": 3
   },
   "file_extension": ".py",
   "mimetype": "text/x-python",
   "name": "python",
   "nbconvert_exporter": "python",
   "pygments_lexer": "ipython3",
   "version": "3.7.6"
  }
 },
 "nbformat": 4,
 "nbformat_minor": 5
}
