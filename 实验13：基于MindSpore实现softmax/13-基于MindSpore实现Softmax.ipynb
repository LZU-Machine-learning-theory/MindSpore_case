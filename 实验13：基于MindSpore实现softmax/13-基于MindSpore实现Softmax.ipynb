{
 "cells": [
  {
   "cell_type": "markdown",
   "id": "2df74f4c-f078-4579-9a8c-c0872339dfdf",
   "metadata": {},
   "source": [
    "# 基于MindSpore实现Softmax\n",
    "本实验基于mindspore平台实现对MNIST数据集的分类分析，并以分类的准确度和混淆矩阵为衡量指标，进行分类模型的的训练和预测。"
   ]
  },
  {
   "cell_type": "markdown",
   "id": "c7e924ee",
   "metadata": {},
   "source": [
    "## 1、实验目的\n",
    "\n",
    " (1)掌握softmax函数的基本原理。\n",
    " \n",
    " (2)使用MindSpore实现模型定义，进行分类模型的的训练和预测。"
   ]
  },
  {
   "cell_type": "markdown",
   "id": "5a3d2917",
   "metadata": {},
   "source": [
    "## 2、原理介绍\n",
    "### softmax原理\n",
    "Softmax函数是一种数学函数，它将一个数字向量转换为概率分布。它通常用于机器学习和深度学习的分类问题中。Softmax函数用于神经网络的输出层，将输出值转换为概率分布。输出值通过Softmax函数传递，将它们转换为概率。具有最高概率的类被视为预测类。\n",
    "\n",
    "给定一个样本实例$x_{ij}$，softmax回归模型会先计算出每个类的分数$X_{ij}$，然后对这些分数应用softmax函数，估算出每个类的概率。\n",
    "计算出每个类的分数，就可以通过softmax函数来评估实例属于类k的概率$\\hat p_k$。函数分别计算每个分数的指数，然后对其进行归一化，也就是除以所有指数的总和。<br>\n",
    "softmax函数：\n",
    "$$\\hat p_k = {softmax}(X_{j})=\\frac{exp(X_{j})}{\\Sigma_{k}{exp(X_{k})}}.$$\n",
    "其中k是类数，$X_{j}$是一个向量，包含实例x的每个类的分数 ，j表示第j个分类，$\\hat p_k$是实例x属于类k的估计概率，给定当前实例每个类的分数。<br>\n"
   ]
  },
  {
   "cell_type": "markdown",
   "id": "5edefd43",
   "metadata": {},
   "source": [
    "## 3、实验环境\n",
    "在动手进行实践之前，需要注意以下几点：\n",
    "* 确保实验环境正确安装，包括安装MindSpore。安装过程：首先登录[MindSpore官网安装页面](https://www.mindspore.cn/install)，根据安装指南下载安装包及查询相关文档。同时，官网环境安装也可以按下表说明找到对应环境搭建文档链接，根据环境搭建手册配置对应的实验环境。\n",
    "* 推荐使用交互式的计算环境Jupyter Notebook，其交互性强，易于可视化，适合频繁修改的数据分析实验环境。\n",
    "* 实验也可以在华为云一站式的AI开发平台ModelArts上完成。\n",
    "* 推荐实验环境：MindSpore版本=MindSpore 2.0；Python环境=3.7\n",
    "\n",
    "\n",
    "|  硬件平台 |  操作系统  | 软件环境 | 开发环境 | 环境搭建链接 |\n",
    "| :-----:| :----: | :----: |:----:   |:----:   |\n",
    "| CPU | Windows-x64 | MindSpore2.0 Python3.7.5 | JupyterNotebook |[MindSpore环境搭建实验手册第二章2.1节和第三章3.1节](./MindSpore环境搭建实验手册.docx)|\n",
    "| GPU CUDA 10.1|Linux-x86_64| MindSpore2.0 Python3.7.5 | JupyterNotebook |[MindSpore环境搭建实验手册第二章2.2节和第三章3.1节](./MindSpore环境搭建实验手册.docx)|\n",
    "| Ascend 910  | Linux-x86_64| MindSpore2.0 Python3.7.5 | JupyterNotebook |[MindSpore环境搭建实验手册第四章](./MindSpore环境搭建实验手册.docx)|"
   ]
  },
  {
   "cell_type": "markdown",
   "id": "e7124fe9",
   "metadata": {},
   "source": [
    "## 4、**softmax**实现: $${softmax}(X)_{ij}=\\frac{exp(X_{ij})}{\\Sigma_{k}{exp(X_{ik})}}.$$"
   ]
  },
  {
   "cell_type": "code",
   "execution_count": 1,
   "id": "1c253fab",
   "metadata": {},
   "outputs": [],
   "source": [
    "#softmax函数定义\n",
    "def softmax(X):\n",
    "    X_exp = ops.exp(X)\n",
    "    partition = X_exp.sum(1, keepdims=True)\n",
    "    return X_exp / partition"
   ]
  },
  {
   "cell_type": "code",
   "execution_count": 2,
   "id": "31eda4fe",
   "metadata": {},
   "outputs": [
    {
     "ename": "NameError",
     "evalue": "name 'mindspore' is not defined",
     "output_type": "error",
     "traceback": [
      "\u001b[1;31m---------------------------------------------------------------------------\u001b[0m",
      "\u001b[1;31mNameError\u001b[0m                                 Traceback (most recent call last)",
      "Cell \u001b[1;32mIn[2], line 3\u001b[0m\n\u001b[0;32m      1\u001b[0m \u001b[38;5;28;01mimport\u001b[39;00m \u001b[38;5;21;01mnumpy\u001b[39;00m \u001b[38;5;28;01mas\u001b[39;00m \u001b[38;5;21;01mnp\u001b[39;00m\n\u001b[0;32m      2\u001b[0m \u001b[38;5;66;03m#生成样本点\u001b[39;00m\n\u001b[1;32m----> 3\u001b[0m X \u001b[38;5;241m=\u001b[39m \u001b[43mmindspore\u001b[49m\u001b[38;5;241m.\u001b[39mTensor(np\u001b[38;5;241m.\u001b[39mrandom\u001b[38;5;241m.\u001b[39mnormal(\u001b[38;5;241m0\u001b[39m, \u001b[38;5;241m1\u001b[39m, (\u001b[38;5;241m2\u001b[39m, \u001b[38;5;241m5\u001b[39m)), mindspore\u001b[38;5;241m.\u001b[39mfloat32)\n\u001b[0;32m      4\u001b[0m X\n",
      "\u001b[1;31mNameError\u001b[0m: name 'mindspore' is not defined"
     ]
    }
   ],
   "source": [
    "import numpy as np\n",
    "#生成样本点\n",
    "X = mindspore.Tensor(np.random.normal(0, 1, (2, 5)), mindspore.float32)\n",
    "X"
   ]
  },
  {
   "cell_type": "code",
   "execution_count": null,
   "id": "e8c2f62b",
   "metadata": {},
   "outputs": [],
   "source": [
    "#将样本点转换成概率值\n",
    "X_prob = softmax(X)\n",
    "X_prob"
   ]
  },
  {
   "cell_type": "code",
   "execution_count": null,
   "id": "def5c7c0",
   "metadata": {},
   "outputs": [],
   "source": [
    "#每行总和为1\n",
    "X_prob.sum(1)"
   ]
  },
  {
   "cell_type": "markdown",
   "id": "fca472fd",
   "metadata": {},
   "source": [
    "## 5、数据处理\n",
    "### 5.1 数据准备\n",
    "MNIST数据集（Mixed National Institute of Standards and Technology Database）是一个用来训练各种图像处理系统的二进制图像数据集，广泛应用于机器学习中的训练和测试。 MNIST数据集共有70000张图像，其中训练集60000张，测试集10000张图像。每张图像都有标注，共10个类别，每个类别代表0~9之间的一个数字，每张图像只有一个类别，所有图像都是28×28的灰度图像，每张图像包含一个手写数字。\n",
    "\n",
    "数据下载地址如下："
   ]
  },
  {
   "cell_type": "code",
   "execution_count": null,
   "id": "2677b3e9-f04f-443d-98af-0ade8d7d6492",
   "metadata": {},
   "outputs": [],
   "source": [
    "# Download data from open datasets\n",
    "from download import download\n",
    "\n",
    "url = \"https://mindspore-website.obs.cn-north-4.myhuaweicloud.com/\" \\\n",
    "      \"notebook/datasets/MNIST_Data.zip\"\n",
    "path = download(url, \"./\", kind=\"zip\", replace=True)"
   ]
  },
  {
   "cell_type": "markdown",
   "id": "a39a6df2",
   "metadata": {},
   "source": [
    "### 5.2 数据加载"
   ]
  },
  {
   "cell_type": "markdown",
   "id": "c231cc09-6689-40f0-b76f-1bf92b33db7a",
   "metadata": {},
   "source": [
    "分别处理数据集中的图像和标签，获得可供使用的训练集和测试集。"
   ]
  },
  {
   "cell_type": "code",
   "execution_count": 3,
   "id": "78dc42ad-65f2-48b6-870d-a67b9680c59d",
   "metadata": {},
   "outputs": [],
   "source": [
    "from mindspore.dataset import vision, transforms#数据可视化\n",
    "import mindspore as ms #导入mindspore框架\n",
    "from mindspore.dataset import MnistDataset # 导入Mnist数据集\n",
    "def datapipe(path, batch_size):\n",
    "    image_transforms = [                                 # 定义图像的预处理管道\n",
    "        vision.Rescale(1.0 / 255.0, 0),                  # 将像素值归一化到0-1之间 \n",
    "        vision.Normalize(mean=(0.1307,), std=(0.3081,)), # 图像数据标准化\n",
    "        vision.HWC2CHW()                                 # 将图像的通道维度从HWC转换为CHW\n",
    "    ]\n",
    "    label_transform = transforms.TypeCast(ms.int32)      #定义标签的处理函数，把标签转换为整数\n",
    "\n",
    "    dataset = MnistDataset(path)                         # 加载Mnist数据集\n",
    "    dataset = dataset.map(image_transforms, 'image')     # 对图像进行处理\n",
    "    dataset = dataset.map(label_transform, 'label')      # 对标签进行处理\n",
    "    dataset = dataset.batch(batch_size)                  # 按照batch_size分批处理数据\n",
    "    return dataset                                       # 返回最终的数据管道\n",
    "\n",
    "train_dataset = datapipe('MNIST_Data/train', 64)         #获取训练集\n",
    "test_dataset = datapipe('MNIST_Data/test', 64)           #获取测试集"
   ]
  },
  {
   "cell_type": "markdown",
   "id": "98a40d79",
   "metadata": {},
   "source": [
    "## 6、模型构建\n",
    "\n",
    "nn. SequentialCell是一个有序的Cell容器，使用SequentialCell构造神经网络模型。损失函数使用SoftmaxCrossEntropyWithLogits交叉熵损失函数，同时计算softmax及其损失。优化器采用Momentum，学习率指定为0.1。"
   ]
  },
  {
   "cell_type": "markdown",
   "id": "f812b866",
   "metadata": {},
   "source": [
    "定义模型"
   ]
  },
  {
   "cell_type": "code",
   "execution_count": 4,
   "id": "a0a17515",
   "metadata": {},
   "outputs": [],
   "source": [
    "from mindspore import nn\n",
    "from mindspore.common.initializer import Normal\n",
    "\n",
    "#定义模型。 nn.Flatten将输入的X维度从[256,1,28,28]变成[256,784]\n",
    "net = nn.SequentialCell([nn.Flatten(), nn.Dense(784, 10, weight_init=Normal(0.01, 0), bias_init='zero')])\n",
    "\n",
    "#定义损失函数。SoftmaxCrossEntropyWithLogits，交叉熵损失函数中传递未规范化的预测，并同时计算softmax及其损失\n",
    "loss = nn.SoftmaxCrossEntropyWithLogits(sparse=True, reduction='mean')\n",
    "\n",
    "# 定义优化器\n",
    "optimizer = nn.Momentum(net.trainable_params(),  learning_rate=0.1, momentum=0.9)"
   ]
  },
  {
   "cell_type": "markdown",
   "id": "a358981c-7664-4583-8ed0-6242180ef503",
   "metadata": {},
   "source": [
    "定义用于训练的train_loop函数。"
   ]
  },
  {
   "cell_type": "code",
   "execution_count": 5,
   "id": "23e85716-9d6d-4617-8725-3683aca6a970",
   "metadata": {},
   "outputs": [],
   "source": [
    "# 定义用于训练的train_loop函数。\n",
    "def train_loop(model, dataset, loss_fn, optimizer):\n",
    "    # 定义正向计算函数,接收数据和标签作为输入，返回损失值\n",
    "    def forward_fn(data, label):\n",
    "        logits = model(data)\n",
    "        loss = loss_fn(logits, label)\n",
    "        return loss\n",
    "\n",
    "    # 定义微分函数，使用mindspore.value_and_grad获得微分函数grad_fn,输出loss和梯度。\n",
    "    # 由于是对模型参数求导,grad_position 配置为None，传入可训练参数。\n",
    "    grad_fn = ms.value_and_grad(forward_fn, None, optimizer.parameters)\n",
    "\n",
    "    # 定义 one-step training函数\n",
    "    def train_step(data, label):\n",
    "        loss, grads = grad_fn(data, label)\n",
    "        optimizer(grads)\n",
    "        return loss\n",
    "\n",
    "    size = dataset.get_dataset_size()\n",
    "    model.set_train()\n",
    "    #计算 loss\n",
    "    for batch, (data, label) in enumerate(dataset.create_tuple_iterator()):\n",
    "        #print(type(data),type(label))\n",
    "        loss = train_step(data, label)\n",
    "        if batch % 100 == 0:\n",
    "            loss, current = loss.asnumpy(), batch\n",
    "            print(f\"loss: {loss:>7f}  [{current:>3d}/{size:>3d}]\")"
   ]
  },
  {
   "cell_type": "markdown",
   "id": "08776bf6-82fc-41c7-bc35-8627f800fa8f",
   "metadata": {},
   "source": [
    "定义用于测试的test_loop函数"
   ]
  },
  {
   "cell_type": "code",
   "execution_count": 6,
   "id": "4c9a9f27-75eb-4e3e-b33d-88004c73548a",
   "metadata": {},
   "outputs": [],
   "source": [
    "# 定义用于测试的test_loop函数。\n",
    "def test_loop(model, dataset, loss_fn):\n",
    "    num_batches = dataset.get_dataset_size()\n",
    "    model.set_train(False)\n",
    "    #计算Avg loss 和 Accuracy  \n",
    "    total, test_loss, correct = 0, 0, 0\n",
    "    for data, label in dataset.create_tuple_iterator():\n",
    "        pred = model(data)\n",
    "        total += len(data)\n",
    "        test_loss += loss_fn(pred, label).asnumpy()\n",
    "        correct += (pred.argmax(1) == label).asnumpy().sum()\n",
    "    test_loss /= num_batches\n",
    "    correct /= total\n",
    "    print(f\"Test: \\n Accuracy: {(100*correct):>0.1f}%, Avg loss: {test_loss:>8f} \\n\")"
   ]
  },
  {
   "cell_type": "markdown",
   "id": "2971f1da",
   "metadata": {},
   "source": [
    "## 7、模型训练\n",
    "\n",
    "指定迭代次数epochs，分别调用训练和测试函数，在训练过程中保存中间结果,打印出训练损失和准确度。"
   ]
  },
  {
   "cell_type": "code",
   "execution_count": 7,
   "id": "302a8674",
   "metadata": {},
   "outputs": [
    {
     "name": "stdout",
     "output_type": "stream",
     "text": [
      "Epoch 1\n",
      "-------------------------------\n",
      "loss: 2.329024  [  0/938]\n",
      "loss: 2.211754  [100/938]\n",
      "loss: 0.701875  [200/938]\n",
      "loss: 1.221090  [300/938]\n",
      "loss: 1.021134  [400/938]\n",
      "loss: 1.024853  [500/938]\n",
      "loss: 1.352637  [600/938]\n",
      "loss: 1.175145  [700/938]\n",
      "loss: 2.262976  [800/938]\n",
      "loss: 2.199494  [900/938]\n",
      "Test: \n",
      " Accuracy: 86.7%, Avg loss: 1.349132 \n",
      "\n",
      "Epoch 2\n",
      "-------------------------------\n",
      "loss: 2.008811  [  0/938]\n",
      "loss: 1.988112  [100/938]\n",
      "loss: 1.353725  [200/938]\n",
      "loss: 0.623864  [300/938]\n",
      "loss: 1.070783  [400/938]\n",
      "loss: 0.254796  [500/938]\n",
      "loss: 1.817117  [600/938]\n",
      "loss: 0.948475  [700/938]\n",
      "loss: 2.209974  [800/938]\n",
      "loss: 2.932616  [900/938]\n",
      "Test: \n",
      " Accuracy: 88.8%, Avg loss: 1.217575 \n",
      "\n",
      "Epoch 3\n",
      "-------------------------------\n",
      "loss: 1.060240  [  0/938]\n",
      "loss: 1.466247  [100/938]\n",
      "loss: 0.998614  [200/938]\n",
      "loss: 1.143375  [300/938]\n",
      "loss: 2.193900  [400/938]\n",
      "loss: 1.412344  [500/938]\n",
      "loss: 0.873852  [600/938]\n",
      "loss: 1.152290  [700/938]\n",
      "loss: 0.660330  [800/938]\n",
      "loss: 1.891923  [900/938]\n",
      "Test: \n",
      " Accuracy: 88.0%, Avg loss: 1.525340 \n",
      "\n",
      "Done!\n"
     ]
    }
   ],
   "source": [
    "from mindspore.train import ModelCheckpoint, CheckpointConfig # 将训练过程保存为检查点文件\n",
    "\n",
    "#指定训练次数\n",
    "epochs = 3\n",
    "\n",
    "#调用训练和测试函数\n",
    "for t in range(epochs):\n",
    "    print(f\"Epoch {t+1}\\n-------------------------------\")\n",
    "    train_loop(net, train_dataset, loss, optimizer)          # 训练，打印 loss\n",
    "    ms.save_checkpoint(net, \"./save_direct.ckpt\")            # 保存中间过程\n",
    "    test_loop(net, test_dataset, loss)                       # 测试，打印 Acc和 Avg loss\n",
    "print(\"Done!\")"
   ]
  },
  {
   "cell_type": "markdown",
   "id": "67a2b807",
   "metadata": {},
   "source": [
    "## 8、模型预测\n",
    "对模型进行预测，使用函数model.predict预测并可视化结果。"
   ]
  },
  {
   "cell_type": "code",
   "execution_count": 8,
   "id": "8e7e4499-95b1-40c4-9363-bd1ca440644a",
   "metadata": {},
   "outputs": [
    {
     "data": {
      "image/png": "[encoded data removed]",
      "text/plain": [
       "<Figure size 640x480 with 8 Axes>"
      ]
     },
     "metadata": {},
     "output_type": "display_data"
    }
   ],
   "source": [
    "from mindspore import Model          # 定义深度学习模型\n",
    "from matplotlib import pyplot as plt # 导入绘图库\n",
    "import numpy as np                   # 用于数值计算的扩展库\n",
    "\n",
    "# 将模型参数存入parameter的字典中，采用load_checkpoint接口加载模型参数\n",
    "param_dict = ms.load_checkpoint(\"./save_direct.ckpt\")\n",
    "\n",
    "# 将参数加载到网络中\n",
    "ms.load_param_into_net(net, param_dict)\n",
    "\n",
    "#将net, loss, optimizer打包成一个Model\n",
    "model = Model(net, loss, optimizer)\n",
    "\n",
    "#迭代获取测试集图像和标签\n",
    "data_test = test_dataset.create_dict_iterator()\n",
    "data = next(data_test)\n",
    "images = data[\"image\"].asnumpy()\n",
    "labels = data[\"label\"].asnumpy()\n",
    "\n",
    "# 使用函数model.predict预测image对应分类\n",
    "output = model.predict(ms.Tensor(data['image']))\n",
    "pred = np.argmax(output.asnumpy(), axis=1)\n",
    "\n",
    "#可视化预测结果\n",
    "plt.figure()\n",
    "for i in range(1, 9):\n",
    "    plt.subplot(2, 4, i)\n",
    "    plt.imshow(images[i-1].squeeze(), cmap=\"gray\")\n",
    "    plt.title(pred[i-1])\n",
    "plt.show()"
   ]
  }
 ],
 "metadata": {
  "kernelspec": {
   "display_name": "Python [conda env:MSNightly]",
   "language": "python",
   "name": "conda-env-MSNightly-py"
  },
  "language_info": {
   "codemirror_mode": {
    "name": "ipython",
    "version": 3
   },
   "file_extension": ".py",
   "mimetype": "text/x-python",
   "name": "python",
   "nbconvert_exporter": "python",
   "pygments_lexer": "ipython3",
   "version": "3.9.16"
  }
 },
 "nbformat": 4,
 "nbformat_minor": 5
}
