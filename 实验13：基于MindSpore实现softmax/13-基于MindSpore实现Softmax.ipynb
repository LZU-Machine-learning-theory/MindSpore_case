{
 "cells": [
  {
   "cell_type": "markdown",
   "id": "2df74f4c-f078-4579-9a8c-c0872339dfdf",
   "metadata": {},
   "source": [
    "# 基于MindSpore实现Softmax\n",
    "本实验主要介绍使用MindSpore实现softmax回归，使用随机生成的样本点。"
   ]
  },
  {
   "cell_type": "markdown",
   "id": "c7e924ee",
   "metadata": {},
   "source": [
    "## 1、实验目的\n",
    "\n",
    " (1)掌握softmax函数的基本原理。\n",
    " \n",
    " (2)实现softmax函数，并使用MindSpore应用实现模型定义和交叉熵损失函数，进行分类模型的的训练。"
   ]
  },
  {
   "cell_type": "markdown",
   "id": "5a3d2917",
   "metadata": {},
   "source": [
    "## 2、原理介绍\n",
    "### softmax原理\n",
    "Softmax函数是一种数学函数，它将一个数字向量转换为概率分布。它通常用于机器学习和深度学习的分类问题中。Softmax函数用于神经网络的输出层，将输出值转换为概率分布。输出值通过Softmax函数传递，将它们转换为概率。具有最高概率的类被视为预测类。\n",
    "\n",
    "给定一个样本实例$x_{ij}$，softmax回归模型会先计算出每个类的分数$X_{ij}$，然后对这些分数应用softmax函数，估算出每个类的概率。\n",
    "计算出每个类的分数，就可以通过softmax函数来评估实例属于类k的概率$\\hat p_k$。函数分别计算每个分数的指数，然后对其进行归一化，也就是除以所有指数的总和。<br>\n",
    "softmax函数：\n",
    "$$\\hat p_k = {softmax}(X_{j})=\\frac{exp(X_{j})}{\\Sigma_{k}{exp(X_{k})}}.$$\n",
    "其中k是类数，$X_{j}$是一个向量，包含实例x的每个类的分数 ，j表示第j个分类，$\\hat p_k$是实例x属于类k的估计概率，给定当前实例每个类的分数。<br>\n",
    "\n",
    "### 交叉熵损失函数\n",
    "交叉熵能够衡量同一个随机变量中的两个不同概率分布的差异程度，在机器学习中就表示为真实概率分布与预测概率分布之间的差异。交叉熵的值越小，模型预测效果就越好。交叉熵经常配合softmax使用，将输出的结果进行处理，使其多个分类的预测值和为1，再通过交叉熵来计算损失。\n",
    "\n",
    "在二分类的情况下，模型最后预测的结果只有两类，对于每个类别我们的预测得到的概率为p和1-p, 此时表达式为(log的底数是e)：\n",
    "\n",
    "$$L=\\frac{1}{N} \\sum_{i} L_{i}=\\frac{1}{N} \\sum_{i}-\\left[y_{i} \\cdot \\log \\left(p_{i}\\right)+\\left(1-y_{i}\\right) \\cdot \\log \\left(1-p_{i}\\right)\\right]$$\n",
    "\n",
    "其中，$y_{i}$表示样本i的label，正类为1，负类为0；$p_{i}$表示样本i预测为正类的概率；N为样本总数。\n",
    "\n"
   ]
  },
  {
   "cell_type": "markdown",
   "id": "5edefd43",
   "metadata": {},
   "source": [
    "## 3、实验环境\n",
    "在动手进行实践之前，需要注意以下几点：\n",
    "* 确保实验环境正确安装，包括安装MindSpore。安装过程：首先登录[MindSpore官网安装页面](https://www.mindspore.cn/install)，根据安装指南下载安装包及查询相关文档。同时，官网环境安装也可以按下表说明找到对应环境搭建文档链接，根据环境搭建手册配置对应的实验环境。\n",
    "* 推荐使用交互式的计算环境Jupyter Notebook，其交互性强，易于可视化，适合频繁修改的数据分析实验环境。\n",
    "* 实验也可以在华为云一站式的AI开发平台ModelArts上完成。\n",
    "* 推荐实验环境：MindSpore版本=MindSpore 2.0；Python环境=3.7\n",
    "\n",
    "\n",
    "|  硬件平台 |  操作系统  | 软件环境 | 开发环境 | 环境搭建链接 |\n",
    "| :-----:| :----: | :----: |:----:   |:----:   |\n",
    "| CPU | Windows-x64 | MindSpore2.0 Python3.7.5 | JupyterNotebook |[MindSpore环境搭建实验手册第二章2.1节和第三章3.1节](./MindSpore环境搭建实验手册.docx)|\n",
    "| GPU CUDA 10.1|Linux-x86_64| MindSpore2.0 Python3.7.5 | JupyterNotebook |[MindSpore环境搭建实验手册第二章2.2节和第三章3.1节](./MindSpore环境搭建实验手册.docx)|\n",
    "| Ascend 910  | Linux-x86_64| MindSpore2.0 Python3.7.5 | JupyterNotebook |[MindSpore环境搭建实验手册第四章](./MindSpore环境搭建实验手册.docx)|"
   ]
  },
  {
   "cell_type": "markdown",
   "id": "fca472fd",
   "metadata": {},
   "source": [
    "## 4、数据处理\n",
    "\n",
    "在本次实验中，我们使用的是numpy生成测试数据：\n",
    "[[1.0, 2.0, 3.0], [4.0, 5.0, 6.0]]。\n",
    "\n",
    "创建一个数据样本y_hat：[[0.1, 0.3, 0.6], [0.3, 0.2, 0.5]]，其中包含2个样本在3个类别的预测概率。\n",
    "\n",
    "创建它们对应的标签y：[0, 2] 。"
   ]
  },
  {
   "cell_type": "markdown",
   "id": "98a40d79",
   "metadata": {},
   "source": [
    "## 5、模型构建\n",
    "实现softmax回归，并使用随机生成的样本点进行测试。"
   ]
  },
  {
   "cell_type": "code",
   "execution_count": 2,
   "id": "84706fd1-9591-4c5c-b7fe-b67bffde363f",
   "metadata": {},
   "outputs": [],
   "source": [
    "import sys \n",
    "#导入与Python解释器和它的环境有关的函数，这里是将搜索路径存放在sys模块的path中。\n",
    "sys.path.append('..')"
   ]
  },
  {
   "cell_type": "code",
   "execution_count": 3,
   "id": "9179f4f8-9393-426d-9bd0-4b28beb7fb89",
   "metadata": {},
   "outputs": [],
   "source": [
    "import mindspore #导入mindspore框架。\n",
    "from mindspore import nn #将Model用于创建模型对象，完成网络搭建和编译，并用于训练和评估\n",
    "from mindspore import ops #导入可用于Cell的构造函数的算子。"
   ]
  },
  {
   "cell_type": "markdown",
   "id": "9cdfba4f-bd29-4c42-bfb6-754ce0826e50",
   "metadata": {},
   "source": [
    "给定一个矩阵X，我们可以对所有元素求和。"
   ]
  },
  {
   "cell_type": "code",
   "execution_count": 4,
   "id": "812b1349-f542-4467-b6f6-d4416aa69ced",
   "metadata": {},
   "outputs": [
    {
     "data": {
      "text/plain": [
       "(Tensor(shape=[1, 3], dtype=Float32, value=\n",
       " [[ 5.00000000e+00,  7.00000000e+00,  9.00000000e+00]]),\n",
       " Tensor(shape=[2, 1], dtype=Float32, value=\n",
       " [[ 6.00000000e+00],\n",
       "  [ 1.50000000e+01]]))"
      ]
     },
     "execution_count": 4,
     "metadata": {},
     "output_type": "execute_result"
    }
   ],
   "source": [
    "X = mindspore.Tensor([[1.0, 2.0, 3.0], [4.0, 5.0, 6.0]], mindspore.float32)\n",
    "X.sum(0, keepdims=True), X.sum(1, keepdims=True)"
   ]
  },
  {
   "cell_type": "markdown",
   "id": "a2bda29e-bd8f-48fe-a84c-fe2fdaaf4df4",
   "metadata": {},
   "source": [
    "### 5.1 实现**softmax**: \n",
    "根据下列公式实现softmax，并使用数据测试。\n",
    "\n",
    "$${softmax}(X)_{ij}=\\frac{exp(X_{ij})}{\\Sigma_{k}{exp(X_{ik})}}.$$\n"
   ]
  },
  {
   "cell_type": "code",
   "execution_count": 5,
   "id": "71167f1c-6c8e-41f6-8a29-f39036d93e47",
   "metadata": {},
   "outputs": [],
   "source": [
    "import mindspore.ops as ops\n",
    "def softmax(X):\n",
    "    X_exp = ops.exp(X)\n",
    "    partition = X_exp.sum(1, keepdims=True)\n",
    "    return X_exp / partition"
   ]
  },
  {
   "cell_type": "markdown",
   "id": "01bc27d7-f15d-4337-ae17-5c46652593b0",
   "metadata": {},
   "source": [
    "我们将每个元素变成一个非负数。此外，依据概率原理，每行总和为1"
   ]
  },
  {
   "cell_type": "code",
   "execution_count": 6,
   "id": "6227d901-5031-4450-8714-797d690b4dee",
   "metadata": {},
   "outputs": [
    {
     "data": {
      "text/plain": [
       "Tensor(shape=[2, 5], dtype=Float32, value=\n",
       "[[-4.29501414e-01,  1.24971855e+00,  8.74681413e-01,  3.25778693e-01,  5.76772332e-01],\n",
       " [-1.22778118e+00,  1.21119344e+00, -1.59655130e+00,  4.45182383e-01,  2.74024308e-02]])"
      ]
     },
     "execution_count": 6,
     "metadata": {},
     "output_type": "execute_result"
    }
   ],
   "source": [
    "import numpy as np\n",
    "X = mindspore.Tensor(np.random.normal(0, 1, (2, 5)), mindspore.float32)\n",
    "X"
   ]
  },
  {
   "cell_type": "code",
   "execution_count": 7,
   "id": "05f741ac",
   "metadata": {},
   "outputs": [
    {
     "data": {
      "text/plain": [
       "(Tensor(shape=[2, 5], dtype=Float32, value=\n",
       " [[ 6.70706779e-02,  3.59590799e-01,  2.47133747e-01,  1.42740324e-01,  1.83464393e-01],\n",
       "  [ 4.54766974e-02,  5.21221280e-01,  3.14509720e-02,  2.42296860e-01,  1.59554213e-01]]),\n",
       " Tensor(shape=[2], dtype=Float32, value= [ 9.99999940e-01,  1.00000000e+00]))"
      ]
     },
     "execution_count": 7,
     "metadata": {},
     "output_type": "execute_result"
    }
   ],
   "source": [
    "X_prob = softmax(X)\n",
    "X_prob, X_prob.sum(1)"
   ]
  },
  {
   "cell_type": "code",
   "execution_count": 8,
   "id": "c5067d40",
   "metadata": {},
   "outputs": [
    {
     "data": {
      "text/plain": [
       "Tensor(shape=[2, 5], dtype=Float32, value=\n",
       "[[ 6.70706779e-02,  3.59590799e-01,  2.47133747e-01,  1.42740324e-01,  1.83464393e-01],\n",
       " [ 4.54766974e-02,  5.21221280e-01,  3.14509720e-02,  2.42296860e-01,  1.59554213e-01]])"
      ]
     },
     "execution_count": 8,
     "metadata": {},
     "output_type": "execute_result"
    }
   ],
   "source": [
    "X_prob"
   ]
  },
  {
   "cell_type": "markdown",
   "id": "f812b866",
   "metadata": {},
   "source": [
    "### 5.2 模型构建\n",
    "定义模型class Net(nn.Cell)，这里需要用到nn.Cell，因为只有这样才能够使编译器识别编译为计算图，网络输入为样本X。"
   ]
  },
  {
   "cell_type": "code",
   "execution_count": 9,
   "id": "4877030d-629d-4981-86f3-dfdfcf9d98e2",
   "metadata": {},
   "outputs": [],
   "source": [
    "import mindspore.nn as nn\n",
    "from mindspore import Tensor, Parameter\n",
    "from mindspore.common.initializer import initializer, Zero, Normal\n",
    "class Net(nn.Cell):#定义模型\n",
    "    def __init__(self, num_inputs, num_outputs):\n",
    "        super().__init__\n",
    "        self.W = Parameter(initializer(Normal(0.01, 0), (num_inputs, num_outputs), mindspore.float32))\n",
    "        self.b = Parameter(initializer(Zero(), num_outputs, mindspore.float32))\n",
    "\n",
    "    def construct(self, X):\n",
    "        return softmax(ops.matmul(X.reshape((-1, self.W.shape[0])), self.W) + self.b)"
   ]
  },
  {
   "cell_type": "markdown",
   "id": "7b59a7fb-33a2-4c15-af79-eb6ad080e1f2",
   "metadata": {},
   "source": [
    "创建一个数据样本y_hat，其中包含2个样本在3个类别的预测概率，及它们对应的标签y，使用y作为y_hat中概率的索引。"
   ]
  },
  {
   "cell_type": "code",
   "execution_count": 10,
   "id": "0bda9dfa-66a1-4754-ac26-022b6084bdd4",
   "metadata": {},
   "outputs": [
    {
     "data": {
      "text/plain": [
       "Tensor(shape=[2], dtype=Float32, value= [ 1.00000001e-01,  5.00000000e-01])"
      ]
     },
     "execution_count": 10,
     "metadata": {},
     "output_type": "execute_result"
    }
   ],
   "source": [
    "y = mindspore.Tensor([0, 2], mindspore.int32)#生成标签\n",
    "y_hat = mindspore.Tensor([[0.1, 0.3, 0.6], [0.3, 0.2, 0.5]], mindspore.float32)#生成样本\n",
    "y_hat[[0, 1], y]"
   ]
  },
  {
   "cell_type": "markdown",
   "id": "90f7c891-4955-41c6-a6f7-b2bfa90761e9",
   "metadata": {},
   "source": [
    "实现交叉熵损失函数。"
   ]
  },
  {
   "cell_type": "code",
   "execution_count": 11,
   "id": "ba8d45dd-86a9-4587-87ed-9efdd9774195",
   "metadata": {},
   "outputs": [
    {
     "data": {
      "text/plain": [
       "Tensor(shape=[2], dtype=Float32, value= [ 2.30258751e+00,  6.93148613e-01])"
      ]
     },
     "execution_count": 11,
     "metadata": {},
     "output_type": "execute_result"
    }
   ],
   "source": [
    "import mindspore.numpy as mnp\n",
    "\n",
    "def cross_entropy(y_hat, y):#交叉熵损失函数\n",
    "    return -mnp.log(y_hat[mnp.arange(y_hat.shape[0]), y])\n",
    "\n",
    "cross_entropy(y_hat, y)"
   ]
  },
  {
   "cell_type": "markdown",
   "id": "90b84132-3969-4eec-a4f5-41883ed2426f",
   "metadata": {},
   "source": [
    "### 5.3 模型预测\n",
    "定义一个计算精确度的函数，输入预测值和真实值，计算模型的精确度。"
   ]
  },
  {
   "cell_type": "code",
   "execution_count": 12,
   "id": "04bd16b9",
   "metadata": {},
   "outputs": [
    {
     "data": {
      "text/plain": [
       "0.5"
      ]
     },
     "execution_count": 12,
     "metadata": {},
     "output_type": "execute_result"
    }
   ],
   "source": [
    "def accuracy(y_hat, y):  \n",
    "   #计算预测正确的数量\n",
    "    if len(y_hat.shape) > 1 and y_hat.shape[1] > 1:\n",
    "        y_hat = y_hat.argmax(axis=1)\n",
    "    cmp = y_hat.asnumpy() == y.asnumpy()\n",
    "    return float(cmp.sum())\n",
    "\n",
    "accuracy(y_hat, y) / len(y)"
   ]
  }
 ],
 "metadata": {
  "kernelspec": {
   "display_name": "Python 3 (ipykernel)",
   "language": "python",
   "name": "python3"
  },
  "language_info": {
   "codemirror_mode": {
    "name": "ipython",
    "version": 3
   },
   "file_extension": ".py",
   "mimetype": "text/x-python",
   "name": "python",
   "nbconvert_exporter": "python",
   "pygments_lexer": "ipython3",
   "version": "3.9.13"
  }
 },
 "nbformat": 4,
 "nbformat_minor": 5
}
