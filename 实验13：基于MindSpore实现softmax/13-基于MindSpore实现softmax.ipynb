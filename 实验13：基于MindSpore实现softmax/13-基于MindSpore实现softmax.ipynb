{
 "cells": [
  {
   "cell_type": "markdown",
   "id": "2df74f4c-f078-4579-9a8c-c0872339dfdf",
   "metadata": {},
   "source": [
    "# 基于MindSpore实现softmax"
   ]
  },
  {
   "cell_type": "code",
   "execution_count": 1,
   "id": "84706fd1-9591-4c5c-b7fe-b67bffde363f",
   "metadata": {},
   "outputs": [],
   "source": [
    "import sys\n",
    "sys.path.append('..')"
   ]
  },
  {
   "cell_type": "code",
   "execution_count": 2,
   "id": "9179f4f8-9393-426d-9bd0-4b28beb7fb89",
   "metadata": {},
   "outputs": [],
   "source": [
    "import mindspore\n",
    "from mindspore import nn\n",
    "from mindspore import ops"
   ]
  },
  {
   "cell_type": "markdown",
   "id": "9cdfba4f-bd29-4c42-bfb6-754ce0826e50",
   "metadata": {},
   "source": [
    "给定一个矩阵X，我们可以对所有元素求和"
   ]
  },
  {
   "cell_type": "code",
   "execution_count": 3,
   "id": "812b1349-f542-4467-b6f6-d4416aa69ced",
   "metadata": {},
   "outputs": [
    {
     "data": {
      "text/plain": [
       "(Tensor(shape=[1, 3], dtype=Float32, value=\n",
       " [[ 5.00000000e+00,  7.00000000e+00,  9.00000000e+00]]),\n",
       " Tensor(shape=[2, 1], dtype=Float32, value=\n",
       " [[ 6.00000000e+00],\n",
       "  [ 1.50000000e+01]]))"
      ]
     },
     "execution_count": 3,
     "metadata": {},
     "output_type": "execute_result"
    }
   ],
   "source": [
    "X = mindspore.Tensor([[1.0, 2.0, 3.0], [4.0, 5.0, 6.0]], mindspore.float32)\n",
    "X.sum(0, keepdims=True), X.sum(1, keepdims=True)"
   ]
  },
  {
   "cell_type": "markdown",
   "id": "a2bda29e-bd8f-48fe-a84c-fe2fdaaf4df4",
   "metadata": {},
   "source": [
    "实现**softmax**: $${softmax}(X)_{ij}=\\frac{exp(X_{ij})}{\\Sigma_{k}{exp(X_{ik})}}.$$\n"
   ]
  },
  {
   "cell_type": "code",
   "execution_count": 4,
   "id": "71167f1c-6c8e-41f6-8a29-f39036d93e47",
   "metadata": {},
   "outputs": [],
   "source": [
    "import mindspore.ops as ops\n",
    "\n",
    "def softmax(X):\n",
    "    X_exp = ops.exp(X)\n",
    "    partition = X_exp.sum(1, keepdims=True)\n",
    "    return X_exp / partition"
   ]
  },
  {
   "cell_type": "markdown",
   "id": "01bc27d7-f15d-4337-ae17-5c46652593b0",
   "metadata": {},
   "source": [
    "我们将每个元素变成一个非负数。此外，依据概率原理，每行总和为1"
   ]
  },
  {
   "cell_type": "code",
   "execution_count": 5,
   "id": "6227d901-5031-4450-8714-797d690b4dee",
   "metadata": {},
   "outputs": [
    {
     "data": {
      "text/plain": [
       "(Tensor(shape=[2, 5], dtype=Float32, value=\n",
       " [[ 1.78480148e-01,  2.09095493e-01,  1.64532140e-01,  2.51835883e-01,  1.96056336e-01],\n",
       "  [ 1.69591725e-01,  9.90628228e-02,  1.69651821e-01,  2.95120001e-01,  2.66573548e-01]]),\n",
       " Tensor(shape=[2], dtype=Float32, value= [ 1.00000000e+00,  9.99999881e-01]))"
      ]
     },
     "execution_count": 5,
     "metadata": {},
     "output_type": "execute_result"
    }
   ],
   "source": [
    "import numpy as np\n",
    "\n",
    "X = mindspore.Tensor(np.random.normal(0, 1, (2, 5)), mindspore.float32)\n",
    "X_prob = softmax(X)\n",
    "X_prob, X_prob.sum(1)"
   ]
  },
  {
   "cell_type": "code",
   "execution_count": 6,
   "id": "4877030d-629d-4981-86f3-dfdfcf9d98e2",
   "metadata": {},
   "outputs": [],
   "source": [
    "import mindspore.nn as nn\n",
    "from mindspore import Tensor, Parameter\n",
    "from mindspore.common.initializer import initializer, Zero, Normal\n",
    "\n",
    "class Net(nn.Cell):\n",
    "    def __init__(self, num_inputs, num_outputs):\n",
    "        super().__init__()\n",
    "        self.W = Parameter(initializer(Normal(0.01, 0), (num_inputs, num_outputs), mindspore.float32))\n",
    "        self.b = Parameter(initializer(Zero(), num_outputs, mindspore.float32))\n",
    "\n",
    "    def construct(self, X):\n",
    "        return softmax(ops.matmul(X.reshape((-1, self.W.shape[0])), self.W) + self.b)"
   ]
  },
  {
   "cell_type": "markdown",
   "id": "7b59a7fb-33a2-4c15-af79-eb6ad080e1f2",
   "metadata": {},
   "source": [
    "创建一个数据样本y_hat，其中包含2个样本在3个类别的预测概率，及它们对应的标签y。 使用y作为y_hat中概率的索引"
   ]
  },
  {
   "cell_type": "code",
   "execution_count": 7,
   "id": "0bda9dfa-66a1-4754-ac26-022b6084bdd4",
   "metadata": {},
   "outputs": [
    {
     "data": {
      "text/plain": [
       "Tensor(shape=[2], dtype=Float32, value= [ 1.00000001e-01,  5.00000000e-01])"
      ]
     },
     "execution_count": 7,
     "metadata": {},
     "output_type": "execute_result"
    }
   ],
   "source": [
    "y = mindspore.Tensor([0, 2], mindspore.int32)\n",
    "y_hat = mindspore.Tensor([[0.1, 0.3, 0.6], [0.3, 0.2, 0.5]], mindspore.float32)\n",
    "y_hat[[0, 1], y]"
   ]
  },
  {
   "cell_type": "markdown",
   "id": "90f7c891-4955-41c6-a6f7-b2bfa90761e9",
   "metadata": {},
   "source": [
    "实现交叉熵损失函数"
   ]
  },
  {
   "cell_type": "code",
   "execution_count": 8,
   "id": "ba8d45dd-86a9-4587-87ed-9efdd9774195",
   "metadata": {},
   "outputs": [
    {
     "data": {
      "text/plain": [
       "Tensor(shape=[2], dtype=Float32, value= [ 2.30258512e+00,  6.93147182e-01])"
      ]
     },
     "execution_count": 8,
     "metadata": {},
     "output_type": "execute_result"
    }
   ],
   "source": [
    "import mindspore.numpy as mnp\n",
    "\n",
    "def cross_entropy(y_hat, y):\n",
    "    return -mnp.log(y_hat[mnp.arange(y_hat.shape[0]), y])\n",
    "\n",
    "cross_entropy(y_hat, y)"
   ]
  },
  {
   "cell_type": "markdown",
   "id": "90b84132-3969-4eec-a4f5-41883ed2426f",
   "metadata": {},
   "source": [
    "将预测类别与真实y元素进行比较"
   ]
  },
  {
   "cell_type": "code",
   "execution_count": 9,
   "id": "c88f8f13-0138-41db-ac60-096c6a3a08b3",
   "metadata": {},
   "outputs": [
    {
     "data": {
      "text/plain": [
       "0.5"
      ]
     },
     "execution_count": 9,
     "metadata": {},
     "output_type": "execute_result"
    }
   ],
   "source": [
    "def accuracy(y_hat, y):  \n",
    "    \"\"\"计算预测正确的数量。\"\"\"\n",
    "    if len(y_hat.shape) > 1 and y_hat.shape[1] > 1:\n",
    "        y_hat = y_hat.argmax(axis=1)\n",
    "    cmp = y_hat.asnumpy() == y.asnumpy()\n",
    "    return float(cmp.sum())\n",
    "\n",
    "accuracy(y_hat, y) / len(y)"
   ]
  },
  {
   "cell_type": "code",
   "execution_count": null,
   "id": "028db728-fb3f-471d-ad20-0d233708f44d",
   "metadata": {},
   "outputs": [],
   "source": []
  },
  {
   "cell_type": "code",
   "execution_count": null,
   "id": "9d4743ed-50dc-4d65-9ed4-d3264a00a1a0",
   "metadata": {},
   "outputs": [],
   "source": []
  },
  {
   "cell_type": "code",
   "execution_count": null,
   "id": "bc361413-6f0c-43c2-a207-668a1a6c881e",
   "metadata": {},
   "outputs": [],
   "source": []
  },
  {
   "cell_type": "code",
   "execution_count": null,
   "id": "45f1c939-a88f-424b-948f-2dff8e9bb293",
   "metadata": {},
   "outputs": [],
   "source": []
  }
 ],
 "metadata": {
  "kernelspec": {
   "display_name": "MindSpore",
   "language": "python",
   "name": "mindspore"
  },
  "language_info": {
   "codemirror_mode": {
    "name": "ipython",
    "version": 3
   },
   "file_extension": ".py",
   "mimetype": "text/x-python",
   "name": "python",
   "nbconvert_exporter": "python",
   "pygments_lexer": "ipython3",
   "version": "3.7.6"
  }
 },
 "nbformat": 4,
 "nbformat_minor": 5
}
