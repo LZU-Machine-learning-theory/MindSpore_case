{
 "cells": [
  {
   "cell_type": "markdown",
   "id": "4d5d45b8",
   "metadata": {},
   "source": [
    "# 基于Mindspore构造线性回归的损失函数---MSE（均方误差）损失函数"
   ]
  },
  {
   "cell_type": "markdown",
   "id": "0bc5f935",
   "metadata": {},
   "source": [
    "本小节主要介绍构造线性回归的损失函数的设计，使用MSE（均方误差）损失函数作为讲解实例。\n",
    "MSE用于计算预测值与标签值之间的均方误差。"
   ]
  },
  {
   "cell_type": "markdown",
   "id": "52a26e5c",
   "metadata": {},
   "source": [
    "$$\n",
    "MSE =\\frac1{n}\\sum_{i=1}^n({\\vec y_i - y_i})^2\n",
    "$$"
   ]
  },
  {
   "cell_type": "markdown",
   "id": "fef35204",
   "metadata": {},
   "source": [
    "范围为 [ 0,+∞），当预测值与真实值完全相同时为0，误差越大，该值越大。"
   ]
  },
  {
   "cell_type": "markdown",
   "id": "9a3303e0",
   "metadata": {},
   "source": [
    "采用自定义损失函数--通过继承损失函数的基类nn.LossBase来定义损失函数。\n",
    "\n",
    "nn.LossBase在nn.Cell的基础上，提供了get_loss方法，利用reduction参数对损失值求和或求均值，输出一个标量。"
   ]
  },
  {
   "cell_type": "markdown",
   "id": "e9726e43",
   "metadata": {},
   "source": [
    "### 自定义损失函数MSEloss"
   ]
  },
  {
   "cell_type": "code",
   "execution_count": 5,
   "id": "577ad674",
   "metadata": {},
   "outputs": [],
   "source": [
    "import numpy as np\n",
    "import mindspore.nn as nn\n",
    "import mindspore.ops as ops\n",
    "from mindspore import Tensor\n",
    "class MSELoss(nn.LossBase):  \n",
    "    # \"\"\"自定义损失函数MSEloss\"\"\"\n",
    "    \n",
    "    def __init__(self,reduction=\"mean\"):\n",
    "        # \"\"\"完成初始化并求loss的均值\"\"\"\n",
    "        \n",
    "        super(MSELoss, self).__init__(reduction)\n",
    "        self.square = ops.Square()    # \"\"\"求平方算子\"\"\"\n",
    "    \n",
    "    def construct(self, base, target):\n",
    "        x = self.square(self.square(base - target))   # \"\"\"求平方运算\"\"\"\n",
    "        return  self.get_loss(x) \n",
    "        # \"\"\"返回loss的均值\"\"\"\n"
   ]
  },
  {
   "cell_type": "markdown",
   "id": "e8c1efe8",
   "metadata": {},
   "source": [
    "### 测试："
   ]
  },
  {
   "cell_type": "code",
   "execution_count": 6,
   "id": "9906dc50",
   "metadata": {},
   "outputs": [
    {
     "name": "stdout",
     "output_type": "stream",
     "text": [
      "3.3333345e-05\n"
     ]
    }
   ],
   "source": [
    "loss = MSELoss()\n",
    "\n",
    "input_data = Tensor(np.array([0.1, 0.2, 0.3]).astype(np.float32))  # 生成预测值\n",
    "target_data = Tensor(np.array([0.1, 0.2, 0.2]).astype(np.float32)) # 生成真实值\n",
    "\n",
    "output = loss(input_data, target_data)\n",
    "print(output)"
   ]
  }
 ],
 "metadata": {
  "kernelspec": {
   "display_name": "Python 3 (ipykernel)",
   "language": "python",
   "name": "python3"
  },
  "language_info": {
   "codemirror_mode": {
    "name": "ipython",
    "version": 3
   },
   "file_extension": ".py",
   "mimetype": "text/x-python",
   "name": "python",
   "nbconvert_exporter": "python",
   "pygments_lexer": "ipython3",
   "version": "3.9.7"
  }
 },
 "nbformat": 4,
 "nbformat_minor": 5
}
