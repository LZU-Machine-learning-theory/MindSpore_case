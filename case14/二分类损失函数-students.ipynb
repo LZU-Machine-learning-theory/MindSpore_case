{
 "cells": [
  {
   "cell_type": "markdown",
   "metadata": {},
   "source": [
    "# 内置损失函数"
   ]
  },
  {
   "cell_type": "code",
   "execution_count": 13,
   "metadata": {
    "scrolled": true
   },
   "outputs": [
    {
     "name": "stdout",
     "output_type": "stream",
     "text": [
      "loss: 0.33333334\n",
      "loss_sum: 2.0\n",
      "loss_none:\n",
      " [1. 0. 0. 1. 0. 0.]\n"
     ]
    }
   ],
   "source": [
    "import numpy as np\n",
    "import mindspore.nn as nn\n",
    "import mindspore as ms\n",
    "\n",
    "    '''\n",
    "    loss：输出loss均值\n",
    "    loss_sum：输出loss和\n",
    "    loss_none：输出loss原值\n",
    "    '''\n",
    "\n",
    "input_data = ms.Tensor(np.array([1, 0, 1, 0, 1, 0]).astype(np.float32))\n",
    "target_data = ms.Tensor(np.array([0, 0, 1, 1, 1, 0]).astype(np.float32))\n",
    "\n",
    "print(\"loss:\", loss(input_data, target_data))\n",
    "print(\"loss_sum:\", loss_sum(input_data, target_data))\n",
    "print(\"loss_none:\\n\", loss_none(input_data, target_data))"
   ]
  },
  {
   "cell_type": "markdown",
   "metadata": {},
   "source": [
    "# 基于nn.Cell构造损失函数"
   ]
  },
  {
   "cell_type": "code",
   "execution_count": 14,
   "metadata": {},
   "outputs": [
    {
     "name": "stdout",
     "output_type": "stream",
     "text": [
      "0.33333334\n"
     ]
    }
   ],
   "source": [
    "import mindspore.ops as ops\n",
    "\n",
    "class MAELoss(nn.Cell):\n",
    "    \"\"\"自定义损失函数MAELoss\"\"\"\n",
    "\n",
    "    def __init__(self):\n",
    "    '''\n",
    "    初始化\n",
    "\n",
    "    '''\n",
    "    def construct(self, base, target):\n",
    "\n",
    "    '''\n",
    "    调用算子\n",
    "\n",
    "    '''\n",
    "\n",
    "loss = MAELoss()\n",
    "\n",
    "input_data = ms.Tensor(np.array([1, 0, 1, 0, 1, 0]).astype(np.float32))  # 生成预测值\n",
    "target_data = ms.Tensor(np.array([0, 0, 1, 1, 1, 0]).astype(np.float32)) # 生成真实值\n",
    "\n",
    "output = loss(input_data, target_data)\n",
    "print(output)"
   ]
  },
  {
   "cell_type": "code",
   "execution_count": null,
   "metadata": {},
   "outputs": [],
   "source": [
    "#答：初始化"
   ]
  },
  {
   "cell_type": "code",
   "execution_count": null,
   "metadata": {},
   "outputs": [],
   "source": [
    "#答：调用算子"
   ]
  },
  {
   "cell_type": "markdown",
   "metadata": {},
   "source": [
    "# 基于nn.LossBase构造损失函数"
   ]
  },
  {
   "cell_type": "code",
   "execution_count": 15,
   "metadata": {},
   "outputs": [
    {
     "name": "stdout",
     "output_type": "stream",
     "text": [
      "0.33333334\n"
     ]
    }
   ],
   "source": [
    "class MAELoss(nn.LossBase):\n",
    "    \"\"\"自定义损失函数MAELoss\"\"\"\n",
    "\n",
    "    def __init__(self, reduction=\"mean\"):\n",
    "    '''\n",
    "    初始化\n",
    "\n",
    "    '''\n",
    "    def construct(self, base, target):\n",
    "    '''\n",
    "    返回loss均值\n",
    "\n",
    "    '''\n",
    "\n",
    "loss = MAELoss()\n",
    "\n",
    "input_data = ms.Tensor(np.array([1, 0, 1, 0, 1, 0]).astype(np.float32))  # 生成预测值\n",
    "target_data = ms.Tensor(np.array([0, 0, 1, 1, 1, 0]).astype(np.float32))  # 生成真实值\n",
    "\n",
    "output = loss(input_data, target_data)\n",
    "print(output)"
   ]
  },
  {
   "cell_type": "code",
   "execution_count": null,
   "metadata": {},
   "outputs": [],
   "source": [
    "#答：初始化"
   ]
  },
  {
   "cell_type": "code",
   "execution_count": null,
   "metadata": {},
   "outputs": [],
   "source": [
    "#答：返回loss均值"
   ]
  },
  {
   "cell_type": "code",
   "execution_count": 16,
   "metadata": {},
   "outputs": [
    {
     "name": "stderr",
     "output_type": "stream",
     "text": [
      "[WARNING] ME(9968:9256,MainProcess):2022-12-23-15:17:50.302.874 [mindspore\\dataset\\engine\\datasets_user_defined.py:656] Python multiprocessing is not supported on Windows platform.\n"
     ]
    },
    {
     "name": "stdout",
     "output_type": "stream",
     "text": [
      "Epoch:[  0/  1], step:[    1/   10], loss:[9.476/9.476], time:1567.807 ms, lr:0.00500\n",
      "Epoch:[  0/  1], step:[    2/   10], loss:[11.154/10.315], time:7.977 ms, lr:0.00500\n",
      "Epoch:[  0/  1], step:[    3/   10], loss:[11.116/10.582], time:7.981 ms, lr:0.00500\n",
      "Epoch:[  0/  1], step:[    4/   10], loss:[9.329/10.269], time:1.994 ms, lr:0.00500\n",
      "Epoch:[  0/  1], step:[    5/   10], loss:[9.983/10.212], time:3.992 ms, lr:0.00500\n",
      "Epoch:[  0/  1], step:[    6/   10], loss:[10.381/10.240], time:1.994 ms, lr:0.00500\n",
      "Epoch:[  0/  1], step:[    7/   10], loss:[6.865/9.758], time:14.958 ms, lr:0.00500\n",
      "Epoch:[  0/  1], step:[    8/   10], loss:[7.894/9.525], time:0.995 ms, lr:0.00500\n",
      "Epoch:[  0/  1], step:[    9/   10], loss:[6.326/9.169], time:0.997 ms, lr:0.00500\n",
      "Epoch:[  0/  1], step:[   10/   10], loss:[6.688/8.921], time:0.997 ms, lr:0.00500\n",
      "Epoch time: 1692.437 ms, per step time: 169.244 ms, avg loss: 8.921\n"
     ]
    }
   ],
   "source": [
    "\n",
    "import mindspore as ms\n",
    "from mindspore import dataset as ds\n",
    "from mindspore.common.initializer import Normal\n",
    "from mindvision.engine.callback import LossMonitor\n",
    "\n",
    "def get_data(num, w=2.0, b=3.0):\n",
    "    \"\"\"生成数据及对应标签\"\"\"\n",
    "    for _ in range(num):\n",
    "        x = np.random.uniform(-10.0, 10.0)\n",
    "        noise = np.random.normal(0, 1)\n",
    "        y = x * w + b + noise\n",
    "        yield np.array([x]).astype(np.float32), np.array([y]).astype(np.float32)\n",
    "\n",
    "def create_dataset(num_data, batch_size=16):\n",
    "    \"\"\"加载数据集\"\"\"\n",
    "    dataset = ds.GeneratorDataset(list(get_data(num_data)), column_names=['data', 'label'])\n",
    "    dataset = dataset.batch(batch_size)\n",
    "    return dataset\n",
    "\n",
    "class LinearNet(nn.Cell):\n",
    "    '''\n",
    "    定义线性回归网络\n",
    "\n",
    "    '''\n",
    "ds_train = create_dataset(num_data=160)\n",
    "net = LinearNet()\n",
    "loss = MAELoss()\n",
    "opt = nn.Momentum(net.trainable_params(), learning_rate=0.005, momentum=0.9)\n",
    "\n",
    "# 使用model接口将网络、损失函数和优化器关联起来\n",
    "model = ms.Model(net, loss, opt)\n",
    "model.train(epoch=1, train_dataset=ds_train, callbacks=[LossMonitor(0.005)])\n"
   ]
  },
  {
   "cell_type": "code",
   "execution_count": null,
   "metadata": {},
   "outputs": [],
   "source": [
    "#答"
   ]
  },
  {
   "cell_type": "code",
   "execution_count": null,
   "metadata": {},
   "outputs": [],
   "source": []
  }
 ],
 "metadata": {
  "kernelspec": {
   "display_name": "Python 3",
   "language": "python",
   "name": "python3"
  },
  "language_info": {
   "codemirror_mode": {
    "name": "ipython",
    "version": 3
   },
   "file_extension": ".py",
   "mimetype": "text/x-python",
   "name": "python",
   "nbconvert_exporter": "python",
   "pygments_lexer": "ipython3",
   "version": "3.8.5"
  }
 },
 "nbformat": 4,
 "nbformat_minor": 4
}
