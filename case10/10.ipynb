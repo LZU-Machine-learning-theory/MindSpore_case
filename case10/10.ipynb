{
 "cells": [
  {
   "attachments": {},
   "cell_type": "markdown",
   "metadata": {},
   "source": [
    "# 单层网络模型\n",
    "\n",
    "本小节主要介绍单层神经网络模型的设计，使用单层网络构建训练网络作为讲解实例。\n"
   ]
  },
  {
   "cell_type": "code",
   "execution_count": 5,
   "metadata": {},
   "outputs": [],
   "source": [
    "import os\n",
    "# os.environ['DEVICE_ID'] = '0'\n",
    "import csv\n",
    "import numpy as np\n",
    "from pprint import pprint\n",
    "\n",
    "import mindspore as ms\n",
    "from mindspore import nn\n",
    "from mindspore import context\n",
    "from mindspore import dataset\n",
    "from mindspore.train.callback import LossMonitor\n",
    "\n",
    "context.set_context(mode=context.GRAPH_MODE, device_target=\"CPU\")"
   ]
  },
  {
   "attachments": {},
   "cell_type": "markdown",
   "metadata": {},
   "source": [
    "创建数据集"
   ]
  },
  {
   "cell_type": "code",
   "execution_count": 6,
   "metadata": {},
   "outputs": [],
   "source": [
    "def create_dataset(data_path):\n",
    "    with open(data_path) as csv_file:\n",
    "        data = list(csv.reader(csv_file, delimiter=','))\n",
    "    pprint(data[0:5]); pprint(data[50:55]); pprint(data[100:105]) # print some samples\n",
    "\n",
    "    label_map = {\n",
    "        'setosa': 0,\n",
    "        'versicolor': 1,\n",
    "        'virginica': 2\n",
    "    }\n",
    "    X = np.array([[float(x) for x in s[:-1]] for s in data[:150]], np.float32)\n",
    "    Y = np.array([label_map[s[-1]] for s in data[:150]], np.int32)\n",
    "\n",
    "    # Split dataset into train set and validation set by 8:2.\n",
    "    train_idx = np.random.choice(150, 120, replace=False)\n",
    "    test_idx = np.array(list(set(range(150)) - set(train_idx)))\n",
    "    X_train, Y_train = X[train_idx], Y[train_idx]\n",
    "    X_test, Y_test = X[test_idx], Y[test_idx]\n",
    "\n",
    "    # Convert the data to MindSpore Dataset.\n",
    "    XY_train = list(zip(X_train, Y_train))\n",
    "    ds_train = dataset.GeneratorDataset(XY_train, ['x', 'y'])\n",
    "    ds_train = ds_train.shuffle(buffer_size=120).batch(32, drop_remainder=True)\n",
    "\n",
    "    XY_test = list(zip(X_test, Y_test))\n",
    "    ds_test = dataset.GeneratorDataset(XY_test, ['x', 'y'])\n",
    "    ds_test = ds_test.batch(30)\n",
    "\n",
    "    return ds_train, ds_test"
   ]
  },
  {
   "attachments": {},
   "cell_type": "markdown",
   "metadata": {},
   "source": [
    "softmax回归分类模型"
   ]
  },
  {
   "cell_type": "code",
   "execution_count": 7,
   "metadata": {},
   "outputs": [],
   "source": [
    "def softmax_regression(ds_train, ds_test):\n",
    "    net = nn.Dense(4, 3)\n",
    "    loss = nn.loss.SoftmaxCrossEntropyWithLogits(sparse=True, reduction='mean')\n",
    "    opt = nn.optim.Momentum(net.trainable_params(), learning_rate=0.05, momentum=0.9)\n",
    "\n",
    "    model = ms.train.Model(net, loss, opt, metrics={'acc', 'loss'})\n",
    "    model.train(25, ds_train, callbacks=[LossMonitor(per_print_times=ds_train.get_dataset_size())], dataset_sink_mode=False)\n",
    "    metrics = model.eval(ds_test)\n",
    "    print(metrics)"
   ]
  },
  {
   "attachments": {},
   "cell_type": "markdown",
   "metadata": {},
   "source": [
    "导入数据集并开始训练"
   ]
  },
  {
   "cell_type": "code",
   "execution_count": 8,
   "metadata": {},
   "outputs": [
    {
     "name": "stdout",
     "output_type": "stream",
     "text": [
      "[['5.1', '3.5', '1.4', '0.2', 'setosa'],\n",
      " ['4.9', '3', '1.4', '0.2', 'setosa'],\n",
      " ['4.7', '3.2', '1.3', '0.2', 'setosa'],\n",
      " ['4.6', '3.1', '1.5', '0.2', 'setosa'],\n",
      " ['5', '3.6', '1.4', '0.2', 'setosa']]\n",
      "[['7', '3.2', '4.7', '1.4', 'versicolor'],\n",
      " ['6.4', '3.2', '4.5', '1.5', 'versicolor'],\n",
      " ['6.9', '3.1', '4.9', '1.5', 'versicolor'],\n",
      " ['5.5', '2.3', '4', '1.3', 'versicolor'],\n",
      " ['6.5', '2.8', '4.6', '1.5', 'versicolor']]\n",
      "[['6.3', '3.3', '6', '2.5', 'virginica'],\n",
      " ['5.8', '2.7', '5.1', '1.9', 'virginica'],\n",
      " ['7.1', '3', '5.9', '2.1', 'virginica'],\n",
      " ['6.3', '2.9', '5.6', '1.8', 'virginica'],\n",
      " ['6.5', '3', '5.8', '2.2', 'virginica']]\n",
      "epoch: 1 step: 3, loss is 1.1257935762405396\n",
      "epoch: 2 step: 3, loss is 0.9012084603309631\n",
      "epoch: 3 step: 3, loss is 0.6202111840248108\n",
      "epoch: 4 step: 3, loss is 0.5025111436843872\n",
      "epoch: 5 step: 3, loss is 0.47775551676750183\n",
      "epoch: 6 step: 3, loss is 0.36808252334594727\n",
      "epoch: 7 step: 3, loss is 0.35937026143074036\n",
      "epoch: 8 step: 3, loss is 0.35549604892730713\n",
      "epoch: 9 step: 3, loss is 0.5142319798469543\n",
      "epoch: 10 step: 3, loss is 0.20866484940052032\n",
      "epoch: 11 step: 3, loss is 0.24797183275222778\n",
      "epoch: 12 step: 3, loss is 0.2939877510070801\n",
      "epoch: 13 step: 3, loss is 0.28423482179641724\n",
      "epoch: 14 step: 3, loss is 0.3915465176105499\n",
      "epoch: 15 step: 3, loss is 0.26402515172958374\n",
      "epoch: 16 step: 3, loss is 0.22939379513263702\n",
      "epoch: 17 step: 3, loss is 0.31621506810188293\n",
      "epoch: 18 step: 3, loss is 0.2304852157831192\n",
      "epoch: 19 step: 3, loss is 0.21964910626411438\n",
      "epoch: 20 step: 3, loss is 0.3300982415676117\n",
      "epoch: 21 step: 3, loss is 0.2624039351940155\n",
      "epoch: 22 step: 3, loss is 0.2180761694908142\n",
      "epoch: 23 step: 3, loss is 0.24421463906764984\n",
      "epoch: 24 step: 3, loss is 0.1809586137533188\n",
      "epoch: 25 step: 3, loss is 0.2685101330280304\n",
      "{'acc': 0.9666666666666667, 'loss': 0.1607576161623001}\n"
     ]
    }
   ],
   "source": [
    "data_url = \"iris.csv\"\n",
    "\n",
    "if data_url.startswith('s3'):\n",
    "    data_path = 'Iris.data'\n",
    "    import moxing\n",
    "    moxing.file.copy_parallel(src_url=os.path.join(data_url, 'iris.data'), dst_url=data_path)\n",
    "else:\n",
    "    data_path = os.path.abspath(data_url)\n",
    "\n",
    "softmax_regression(*create_dataset(data_path))"
   ]
  }
 ],
 "metadata": {
  "kernelspec": {
   "display_name": "mindspore",
   "language": "python",
   "name": "python3"
  },
  "language_info": {
   "codemirror_mode": {
    "name": "ipython",
    "version": 3
   },
   "file_extension": ".py",
   "mimetype": "text/x-python",
   "name": "python",
   "nbconvert_exporter": "python",
   "pygments_lexer": "ipython3",
   "version": "3.7.13"
  },
  "orig_nbformat": 4
 },
 "nbformat": 4,
 "nbformat_minor": 2
}
