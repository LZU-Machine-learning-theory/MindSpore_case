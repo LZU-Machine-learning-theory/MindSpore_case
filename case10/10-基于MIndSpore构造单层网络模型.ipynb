{
 "cells": [
  {
   "cell_type": "markdown",
   "id": "a61f22bc-43e5-483c-ae79-4b4a6c171052",
   "metadata": {},
   "source": [
    "# 单层网络模型\n",
    "\n",
    "本小节主要介绍单层神经网络模型的设计，使用单层网络构建训练网络作为讲解实例。\n"
   ]
  },
  {
   "cell_type": "markdown",
   "id": "e358297b-4083-4ebe-9ad4-5f967a824deb",
   "metadata": {},
   "source": [
    "首先需要导入所需的minspore包"
   ]
  },
  {
   "cell_type": "code",
   "execution_count": 1,
   "id": "aec421b9-0b30-4c10-8731-3e1df6810b00",
   "metadata": {},
   "outputs": [],
   "source": [
    "import os\n",
    "import numpy as np\n",
    "\n",
    "import mindspore as ms\n",
    "from mindspore import nn"
   ]
  },
  {
   "cell_type": "markdown",
   "id": "97818cb1",
   "metadata": {},
   "source": [
    "随机生成所需数据"
   ]
  },
  {
   "cell_type": "code",
   "execution_count": 2,
   "id": "a069835c-2c7c-436c-9cad-da738b4a55fd",
   "metadata": {},
   "outputs": [],
   "source": [
    "x = np.arange(-5, 5, 0.3)[:32].reshape((32, 1))\n",
    "y = -5 * x +  0.1 * np.random.normal(loc=0.0, scale=20.0, size=x.shape)\n"
   ]
  },
  {
   "cell_type": "markdown",
   "id": "438b4473",
   "metadata": {},
   "source": [
    "采用nn.Dense层作为网络模型，采用损失函数为MSE"
   ]
  },
  {
   "cell_type": "code",
   "execution_count": 3,
   "id": "ccd1d84d-176f-4df5-8de1-1046542b9726",
   "metadata": {},
   "outputs": [],
   "source": [
    "net = nn.Dense(1, 1)\n",
    "loss_fn = nn.loss.MSELoss()\n",
    "opt = nn.optim.SGD(net.trainable_params(), learning_rate=0.01)\n",
    "with_loss = nn.WithLossCell(net, loss_fn)\n",
    "train_step = nn.TrainOneStepCell(with_loss, opt).set_train()"
   ]
  },
  {
   "cell_type": "markdown",
   "id": "98fb51cc",
   "metadata": {},
   "source": [
    "对模型进行训练，得到训练结果"
   ]
  },
  {
   "cell_type": "code",
   "execution_count": 4,
   "id": "128d03ca-98bd-4c89-89e4-ab32cf072791",
   "metadata": {},
   "outputs": [
    {
     "name": "stdout",
     "output_type": "stream",
     "text": [
      "epoch: 0, loss is 192.96721\n",
      "epoch: 1, loss is 138.29031\n",
      "epoch: 2, loss is 99.365944\n",
      "epoch: 3, loss is 71.655754\n",
      "epoch: 4, loss is 51.928932\n",
      "epoch: 5, loss is 37.885452\n",
      "epoch: 6, loss is 27.887924\n",
      "epoch: 7, loss is 20.770702\n",
      "epoch: 8, loss is 15.703968\n",
      "epoch: 9, loss is 12.096967\n",
      "epoch: 10, loss is 9.529148\n",
      "epoch: 11, loss is 7.7011223\n",
      "epoch: 12, loss is 6.3997517\n",
      "epoch: 13, loss is 5.473308\n",
      "epoch: 14, loss is 4.813774\n",
      "epoch: 15, loss is 4.3442507\n",
      "epoch: 16, loss is 4.0099983\n",
      "epoch: 17, loss is 3.772042\n",
      "epoch: 18, loss is 3.6026397\n",
      "epoch: 19, loss is 3.4820426\n"
     ]
    }
   ],
   "source": [
    "for epoch in range(20):\n",
    "    loss = train_step(ms.Tensor(x, ms.float32), ms.Tensor(y, ms.float32))\n",
    "    print('epoch: {0}, loss is {1}'.format(epoch, loss))"
   ]
  },
  {
   "cell_type": "markdown",
   "id": "8cae1996",
   "metadata": {},
   "source": [
    "对结果进行展示"
   ]
  },
  {
   "cell_type": "code",
   "execution_count": 5,
   "id": "19566043-9312-4036-80e5-604d60689ccf",
   "metadata": {},
   "outputs": [
    {
     "name": "stdout",
     "output_type": "stream",
     "text": [
      "The true linear function is y = -5 * x + 0.1\n",
      "The trained linear model is y = -4.756434440612793 * x + 0.24968591332435608\n"
     ]
    }
   ],
   "source": [
    "wb = [x.data.asnumpy() for x in net.trainable_params()]\n",
    "w, b = np.squeeze(wb[0]), np.squeeze(wb[1])\n",
    "print('The true linear function is y = -5 * x + 0.1')\n",
    "# works in MindSpore0.3.0 or later.\n",
    "print('The trained linear model is y = {0} * x + {1}'.format(w, b))\n"
   ]
  },
  {
   "cell_type": "code",
   "execution_count": 6,
   "id": "93db732b-054f-4ee3-944d-35d5393988cc",
   "metadata": {},
   "outputs": [
    {
     "name": "stdout",
     "output_type": "stream",
     "text": [
      "x = -10, predicted y = [[47.814034]]\n",
      "x = -5, predicted y = [[24.031858]]\n",
      "x = 0, predicted y = [[0.24968591]]\n",
      "x = 5, predicted y = [[-23.532488]]\n",
      "x = 10, predicted y = [[-47.31466]]\n"
     ]
    }
   ],
   "source": [
    "for i in range(-10, 11, 5):\n",
    "    print('x = {0}, predicted y = {1}'.format(i, net(ms.Tensor([[i]], ms.float32))))"
   ]
  }
 ],
 "metadata": {
  "kernelspec": {
   "display_name": "MindSpore",
   "language": "python",
   "name": "mindspore"
  },
  "language_info": {
   "codemirror_mode": {
    "name": "ipython",
    "version": 3
   },
   "file_extension": ".py",
   "mimetype": "text/x-python",
   "name": "python",
   "nbconvert_exporter": "python",
   "pygments_lexer": "ipython3",
   "version": "3.7.6"
  }
 },
 "nbformat": 4,
 "nbformat_minor": 5
}
