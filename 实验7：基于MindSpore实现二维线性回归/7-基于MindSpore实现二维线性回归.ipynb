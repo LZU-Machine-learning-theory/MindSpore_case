{
 "cells": [
  {
   "cell_type": "markdown",
   "metadata": {
    "slideshow": {
     "slide_type": "-"
    }
   },
   "source": [
    "# 基于mindspore实现二维线性回归\n",
    "\n",
    "我们将从零开始实现整个方法，包括数据流水线、模型、损失函数和小批量随机梯度下降优化器"
   ]
  },
  {
   "cell_type": "markdown",
   "metadata": {},
   "source": [
    "本文档参考自：https://zh.d2l.ai/chapter_linear-networks/linear-regression-scratch.html"
   ]
  },
  {
   "cell_type": "code",
   "execution_count": 1,
   "metadata": {
    "origin_pos": 2,
    "tab": [
     "pytorch"
    ]
   },
   "outputs": [],
   "source": [
    "%matplotlib inline\n",
    "import random\n",
    "import mindspore\n",
    "import mindspore.numpy as mnp\n",
    "import mindspore.ops as ops\n",
    "from matplotlib import pyplot as plt\n",
    "from mindspore import Tensor"
   ]
  },
  {
   "cell_type": "code",
   "execution_count": 2,
   "metadata": {},
   "outputs": [],
   "source": [
    "import sys\n",
    "sys.path.append('..')"
   ]
  },
  {
   "cell_type": "markdown",
   "metadata": {
    "slideshow": {
     "slide_type": "slide"
    }
   },
   "source": [
    "根据带有噪声的线性模型构造一个人造数据集。\n",
    "我们使用线性模型参数$\\mathbf{w} = [2, -3.4]^\\top$、$b = 4.2$和噪声项$\\epsilon$生成数据集及其标签：\n",
    "\n",
    "$$\\mathbf{y}= \\mathbf{X} \\mathbf{w} + b + \\mathbf\\epsilon$$"
   ]
  },
  {
   "cell_type": "code",
   "execution_count": 3,
   "metadata": {
    "origin_pos": 7,
    "tab": [
     "pytorch"
    ]
   },
   "outputs": [
    {
     "name": "stdout",
     "output_type": "stream",
     "text": [
      "(1000, 2)\n"
     ]
    },
    {
     "name": "stderr",
     "output_type": "stream",
     "text": [
      "[WARNING] DEVICE(69226,ffffafacd780,python):2022-11-17-22:01:46.043.800 [mindspore/ccsrc/plugin/device/ascend/hal/device/kernel_select_ascend.cc:330] FilterRaisedOrReducePrecisionMatchedKernelInfo] Operator:[Default/StandardNormal-op0] don't support int64, reduce precision from int64 to int32.\n",
      "[WARNING] DEVICE(69226,ffffafacd780,python):2022-11-17-22:01:52.113.209 [mindspore/ccsrc/plugin/device/ascend/hal/device/kernel_select_ascend.cc:330] FilterRaisedOrReducePrecisionMatchedKernelInfo] Operator:[Default/StandardNormal-op6] don't support int64, reduce precision from int64 to int32.\n"
     ]
    }
   ],
   "source": [
    "def synthetic_data(w, b, num_examples):  \n",
    "    \"\"\"生成 y = Xw + b + 噪声。\"\"\"\n",
    "    print((num_examples, len(w)))\n",
    "    X = ops.normal((num_examples, len(w)), Tensor(0, mindspore.int32), Tensor(1, mindspore.int32), seed=1)\n",
    "    y = ops.matmul(X, w) + b\n",
    "    y += ops.normal(y.shape, Tensor(0, mindspore.int32), Tensor(0.01, mindspore.float32), seed=1)\n",
    "    return X, y.reshape((-1, 1))\n",
    "\n",
    "true_w = Tensor([2, -3.4], mindspore.float32)\n",
    "true_b = 4.2\n",
    "features, labels = synthetic_data(true_w, true_b, 1000)"
   ]
  },
  {
   "cell_type": "markdown",
   "metadata": {
    "slideshow": {
     "slide_type": "slide"
    }
   },
   "source": [
    "`features`中的每一行都包含一个二维数据样本，`labels`中的每一行都包含一维标签值（一个标量）"
   ]
  },
  {
   "cell_type": "code",
   "execution_count": 4,
   "metadata": {
    "origin_pos": 9,
    "tab": [
     "pytorch"
    ]
   },
   "outputs": [
    {
     "name": "stdout",
     "output_type": "stream",
     "text": [
      "features: [ 0.30639967 -0.42438635] \n",
      "label: [6.2373576]\n"
     ]
    }
   ],
   "source": [
    "print('features:', features[0],'\\nlabel:', labels[0])"
   ]
  },
  {
   "cell_type": "code",
   "execution_count": 5,
   "metadata": {
    "origin_pos": 11,
    "tab": [
     "pytorch"
    ]
   },
   "outputs": [
    {
     "data": {
      "image/png": "[encoded data removed]",
      "text/plain": [
       "<Figure size 432x288 with 1 Axes>"
      ]
     },
     "metadata": {
      "needs_background": "light"
     },
     "output_type": "display_data"
    }
   ],
   "source": [
    "plt.scatter(features[:, (1)].asnumpy(), labels.asnumpy(), 1);"
   ]
  },
  {
   "cell_type": "markdown",
   "metadata": {
    "slideshow": {
     "slide_type": "slide"
    }
   },
   "source": [
    "定义一个`data_iter`函数，\n",
    "该函数接收批量大小、特征矩阵和标签向量作为输入，生成大小为`batch_size`的小批量"
   ]
  },
  {
   "cell_type": "code",
   "execution_count": 6,
   "metadata": {
    "origin_pos": 16,
    "tab": [
     "pytorch"
    ]
   },
   "outputs": [
    {
     "name": "stdout",
     "output_type": "stream",
     "text": [
      "[[ 2.081384   -0.4022577 ]\n",
      " [-0.65269184 -0.11089539]\n",
      " [ 0.53033173 -0.5723881 ]\n",
      " [ 1.0256927  -1.2182392 ]\n",
      " [-0.87549025  1.5291665 ]\n",
      " [-2.343595   -2.0409315 ]\n",
      " [ 0.742893   -0.19725992]\n",
      " [ 0.19161588  0.16736197]\n",
      " [-0.4255054  -0.38351473]\n",
      " [-0.5282511  -2.4119651 ]] \n",
      " [[ 9.723172 ]\n",
      " [ 3.2676687]\n",
      " [ 7.186453 ]\n",
      " [10.389597 ]\n",
      " [-2.7376797]\n",
      " [ 6.4470363]\n",
      " [ 6.345156 ]\n",
      " [ 4.012104 ]\n",
      " [ 4.646039 ]\n",
      " [11.339476 ]]\n"
     ]
    }
   ],
   "source": [
    "def data_iter(batch_size, features, labels):\n",
    "    num_examples = len(features)\n",
    "    indices = list(range(num_examples))\n",
    "    random.shuffle(indices)\n",
    "    for i in range(0, num_examples, batch_size):\n",
    "        batch_indices = Tensor(\n",
    "            indices[i: min(i + batch_size, num_examples)])\n",
    "        yield features[batch_indices], labels[batch_indices]\n",
    "\n",
    "batch_size = 10\n",
    "\n",
    "for X, y in data_iter(batch_size, features, labels):\n",
    "    print(X, '\\n', y)\n",
    "    break"
   ]
  },
  {
   "cell_type": "markdown",
   "metadata": {
    "slideshow": {
     "slide_type": "slide"
    }
   },
   "source": [
    "在我们开始用小批量随机梯度下降优化我们的模型参数之前，需要说明一下MindSpore的设计理念。MindSpore的静态图思路是将整个模型视作一个完整的计算图，即模型、Loss、优化器均需要作为计算图的一部分。这与Pytorch的使用习惯有些不符。接下来将通过线性回归的例子来体现："
   ]
  },
  {
   "cell_type": "code",
   "execution_count": 7,
   "metadata": {
    "origin_pos": 19,
    "tab": [
     "pytorch"
    ]
   },
   "outputs": [],
   "source": [
    "import mindspore.nn as nn\n",
    "from mindspore import Parameter\n",
    "from mindspore.common.initializer import initializer, Zero, Normal\n",
    "\n",
    "def linreg(x, w, b):\n",
    "    return ops.matmul(x, w) + b"
   ]
  },
  {
   "cell_type": "markdown",
   "metadata": {
    "slideshow": {
     "slide_type": "slide"
    }
   },
   "source": [
    "定义损失函数。损失函数也需要定义为`nn.Cell`的子类"
   ]
  },
  {
   "cell_type": "code",
   "execution_count": 8,
   "metadata": {
    "origin_pos": 24,
    "tab": [
     "pytorch"
    ]
   },
   "outputs": [],
   "source": [
    "def squared_loss(y_hat, y):  \n",
    "    \"\"\"均方损失。\"\"\"\n",
    "    return (y_hat - y.reshape(y_hat.shape)) ** 2 / 2"
   ]
  },
  {
   "cell_type": "markdown",
   "metadata": {
    "slideshow": {
     "slide_type": "slide"
    }
   },
   "source": [
    "定义优化算法\n",
    "这里我们介绍小批量随机梯度下降"
   ]
  },
  {
   "cell_type": "code",
   "execution_count": 9,
   "metadata": {
    "origin_pos": 27,
    "tab": [
     "pytorch"
    ]
   },
   "outputs": [],
   "source": [
    "class SGD(nn.Cell):\n",
    "    def __init__(self, lr, batch_size, params):\n",
    "        super().__init__()\n",
    "        self.lr = lr\n",
    "        self.batch_size = batch_size\n",
    "        self.params = params\n",
    "        \n",
    "    def construct(self, grads):\n",
    "        for idx in range(len(self.params)):\n",
    "            ops.assign(self.params[idx], self.params[idx] - self.lr * grads[idx] / self.batch_size)\n",
    "            # 这里用到了一个assign算子，因为静态图里无法直接使用x = x + y来更新权重，采用assign算子实际上是为了\n",
    "            # 能够给权重赋值，覆盖旧的权重数据\n",
    "        return True"
   ]
  },
  {
   "cell_type": "markdown",
   "metadata": {},
   "source": [
    "按照上面的叙述，需要讲network和loss连接"
   ]
  },
  {
   "cell_type": "markdown",
   "metadata": {},
   "source": [
    "定义模型，定义模型的参数，模型的输入输出。这里需要用到`nn.Cell`，因为只有这样才能够使编译器识别编译为计算图。"
   ]
  },
  {
   "cell_type": "code",
   "execution_count": 10,
   "metadata": {},
   "outputs": [],
   "source": [
    "class Net(nn.Cell):\n",
    "    def __init__(self):\n",
    "        super().__init__()\n",
    "        self.w = Parameter(initializer(Normal(0.01, 0), (2, 1), mindspore.float32))\n",
    "        self.b = Parameter(initializer(Zero(), 1, mindspore.float32))\n",
    "        \n",
    "    def construct(self, x, y):\n",
    "        y_hat = linreg(x, self.w, self.b)\n",
    "        loss = squared_loss(y_hat, y)\n",
    "        return loss"
   ]
  },
  {
   "cell_type": "markdown",
   "metadata": {
    "slideshow": {
     "slide_type": "slide"
    }
   },
   "source": [
    "训练过程。其实包括三步，分别为：\n",
    "\n",
    "1. 计算正向结果\n",
    "2. 计算反向梯度\n",
    "3. 更新权重\n",
    "\n",
    "按照上面的叙述，需要将network、loss、optimizer连接，作为一个完整的计算图。因此也要继承`nn.Cell`"
   ]
  },
  {
   "cell_type": "code",
   "execution_count": 11,
   "metadata": {},
   "outputs": [],
   "source": [
    "class Train(nn.Cell):\n",
    "    def __init__(self, network, optimizer):\n",
    "        super().__init__()\n",
    "        self.network = network\n",
    "        self.optimizer = optimizer\n",
    "        self.grad = ops.GradOperation(get_by_list=True)\n",
    "        \n",
    "    def construct(self, x, y):\n",
    "        loss = self.network(x, y)\n",
    "        grads = self.grad(self.network, self.optimizer.params)(x, y)\n",
    "        loss = ops.depend(loss, self.optimizer(grads))\n",
    "        return loss"
   ]
  },
  {
   "cell_type": "code",
   "execution_count": 12,
   "metadata": {
    "origin_pos": 32,
    "tab": [
     "pytorch"
    ]
   },
   "outputs": [],
   "source": [
    "lr = 0.03\n",
    "num_epochs = 3\n",
    "net = Net()\n",
    "optim = SGD(lr, batch_size, net.trainable_params())\n",
    "train = Train(net, optim)"
   ]
  },
  {
   "cell_type": "code",
   "execution_count": 13,
   "metadata": {},
   "outputs": [
    {
     "name": "stdout",
     "output_type": "stream",
     "text": [
      "epoch 1, loss 0.029778\n",
      "epoch 2, loss 0.000103\n",
      "epoch 3, loss 0.000049\n"
     ]
    }
   ],
   "source": [
    "for epoch in range(num_epochs):\n",
    "    for x, y in data_iter(batch_size, features, labels):\n",
    "        l = train(x, y)\n",
    "    train_l = net(features, labels)\n",
    "    print(f'epoch {epoch + 1}, loss {float(train_l.mean().asnumpy()):f}')"
   ]
  },
  {
   "cell_type": "markdown",
   "metadata": {
    "slideshow": {
     "slide_type": "slide"
    }
   },
   "source": [
    "比较真实参数和通过训练学到的参数来评估训练的成功程度"
   ]
  },
  {
   "cell_type": "code",
   "execution_count": 14,
   "metadata": {
    "origin_pos": 35,
    "tab": [
     "pytorch"
    ]
   },
   "outputs": [
    {
     "name": "stdout",
     "output_type": "stream",
     "text": [
      "w的估计误差: [ 4.6968460e-05 -1.2917519e-03]\n",
      "b的估计误差: [0.00015879]\n"
     ]
    }
   ],
   "source": [
    "print(f'w的估计误差: {true_w - net.trainable_params()[0].reshape(true_w.shape)}')\n",
    "print(f'b的估计误差: {true_b - net.trainable_params()[1]}')"
   ]
  },
  {
   "cell_type": "code",
   "execution_count": null,
   "metadata": {},
   "outputs": [],
   "source": []
  }
 ],
 "metadata": {
  "celltoolbar": "Slideshow",
  "kernelspec": {
   "display_name": "MindSpore",
   "language": "python",
   "name": "mindspore"
  },
  "language_info": {
   "codemirror_mode": {
    "name": "ipython",
    "version": 3
   },
   "file_extension": ".py",
   "mimetype": "text/x-python",
   "name": "python",
   "nbconvert_exporter": "python",
   "pygments_lexer": "ipython3",
   "version": "3.7.6"
  },
  "rise": {
   "autolaunch": true,
   "enable_chalkboard": true,
   "overlay": "<div class='my-top-right'><img height=80px src='http://d2l.ai/_static/logo-with-text.png'/></div><div class='my-top-left'></div>",
   "scroll": true
  }
 },
 "nbformat": 4,
 "nbformat_minor": 4
}
