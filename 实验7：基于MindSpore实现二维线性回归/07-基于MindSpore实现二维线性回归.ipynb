{
 "cells": [
  {
   "cell_type": "markdown",
   "metadata": {},
   "source": [
    "## 基于MindSpore实现二维线性回归"
   ]
  },
  {
   "cell_type": "markdown",
   "metadata": {},
   "source": [
    "本实验将实现基于MindSpore的二维线性回归，包括人造数据集、模型构建、模型预测。"
   ]
  },
  {
   "cell_type": "markdown",
   "metadata": {},
   "source": [
    "### 1、实验目的\n",
    "- 掌握如何使用MindSpore实现二维线性回归模型。\n",
    "- 了解如何使用MindSpore的Adam优化器和MSE损失函数\n",
    "- 了解基于MindSpore的模型训练和模型预测"
   ]
  },
  {
   "cell_type": "markdown",
   "metadata": {},
   "source": [
    "### 2、整体模型介绍\n",
    "- 二维线性回归原理\n",
    "\n",
    "在机器学习领域，线性回归模型记为：\n",
    "$$y=w_0x_0+w_1x_1+\\cdots+w_nx_n+b=[w_0 w_1 w_2 \\cdots w_n][x_0 x_1 x_2 \\cdots x_n]^T+b$$\n",
    "可以统一形式为：\n",
    "$$y=\\sum_{i=0}^{n}w_ix_i+b=w^Tx+b$$\n",
    "\n",
    "\n",
    "并且我们定义损失函数来度量模型一次预测的好坏，即预测值$\\widehat y$和真实值y的误差，线性损失函数一般取$L=\\frac{1}{2}(y-\\widehat y)^2$，平方损失函数的几何意义是欧氏距离。\n",
    "\n",
    "之后我们便可进行模型训练，采用梯度下降方法求模型参数w，使损失函数最小。\n",
    "\n",
    "梯度下降法顺着当前点梯度反方向，按规定步长$\\alpha$进行迭代搜索，对第i个模型参数进行如下更新：\n",
    "$$w_{i+1}=w_i-\\alpha \\frac{\\partial L(w)}{\\partial (w_i)}$$\n",
    "因为\n",
    "$$\\frac{\\partial L(w)}{\\partial (w_i)}=-\\sum_{j=0}^{m}[y^{(j)}-\\sum_{i=0}^{n}w_i x_i^{(j)}-b]*x_i^{(j)}$$\n",
    "所以\n",
    "$$w_{i+1}=w_i+\\alpha [\\sum_{j=0}^{m}(y^{(j)}-\\sum_{i=0}^{n}w_i x_i^{(j)}-b)*x_i^{(j)}]$$\n",
    "对每个模型参数迭代训练直到收敛即可。因此二维线性回归的自变量为两个，模型便为：\n",
    "$$y=w_0x_0+w_1x_1+b=w^Tx+b$$"
   ]
  },
  {
   "cell_type": "markdown",
   "metadata": {},
   "source": [
    "因此我们需要定义一个模型Net实现二维线性回归功能。<br>\n",
    "可以调用MindSpore的nn.MSELoss计算预测值和目标值之间的均方误差。<br>\n",
    "调用MindSpore的nn.Adam计算最优参数。"
   ]
  },
  {
   "cell_type": "markdown",
   "metadata": {},
   "source": [
    "### 3 实验环境\n",
    "在动手进行实践之前，需要注意以下几点：\n",
    "* 确保实验环境正确安装，包括安装MindSpore。安装过程：首先登录[MindSpore官网安装页面](https://www.mindspore.cn/install)，根据安装指南下载安装包及查询相关文档。同时，官网环境安装也可以按下表说明找到对应环境搭建文档链接，根据环境搭建手册配置对应的实验环境。\n",
    "* 推荐使用交互式的计算环境Jupyter Notebook，其交互性强，易于可视化，适合频繁修改的数据分析实验环境。\n",
    "* 实验也可以在华为云一站式的AI开发平台ModelArts上完成。\n",
    "* 推荐实验环境：MindSpore版本=2.0；Python环境=3.7\n",
    "\n",
    "\n",
    "|  硬件平台 |  操作系统  | 软件环境 | 开发环境 | 环境搭建链接 |\n",
    "| :-----:| :----: | :----: |:----:   |:----:   |\n",
    "| CPU | Windows-x64 | MindSpore2.0 Python3.7.5 | JupyterNotebook |[MindSpore环境搭建实验手册第二章2.1节和第三章3.1节](./MindSpore环境搭建实验手册.docx)|\n",
    "| GPU CUDA 10.1|Linux-x86_64| MindSpore2.0 Python3.7.5 | JupyterNotebook |[MindSpore环境搭建实验手册第二章2.2节和第三章3.1节](./MindSpore环境搭建实验手册.docx)|\n",
    "| Ascend 910  | Linux-x86_64| MindSpore2.0 Python3.7.5 | JupyterNotebook |[MindSpore环境搭建实验手册第四章](./MindSpore环境搭建实验手册.docx)|\n"
   ]
  },
  {
   "cell_type": "markdown",
   "metadata": {},
   "source": [
    "### 4、数据处理\n",
    "#### 4.1 数据准备\n",
    "为了简单起见，我们将根据带有噪声的线性模型构造一个人造数据集。任务是使用这个有限样本的数据集来恢复这个模型的参数。我们需要生成一个包含1000个样本的数据集，每个样本包含从标准正态分布中采样的2个特征。 合成的数据集是一个矩阵$X∈R^{(1000×2)}$。我们使用线性模型参数$w =[2,-3.4]^T$、b=3.2和噪声项$\\epsilon$生成数据集及其标签：\n",
    "$y=Xw+b+\\epsilon=w_0x_0+w_1x_1+b+\\epsilon$\n",
    "\n",
    "$\\epsilon$可以视为模型预测和标签之间的观测误差，我们假设ϵ服从均值为0、标准差为0.01的正态分布。\n"
   ]
  },
  {
   "cell_type": "markdown",
   "metadata": {},
   "source": [
    "random库实现了各种分布的伪随机数生成器；dtype是MindSpore数据类型的对象；mindspore.ops提供对神经网络层的各种操作；pyplot是常用的绘图模块，能很方便让用户绘制 2D 图表；mindspore中的Tensor是张量，可放在gpu上加速。"
   ]
  },
  {
   "cell_type": "code",
   "execution_count": 1,
   "metadata": {
    "origin_pos": 2,
    "tab": [
     "pytorch"
    ]
   },
   "outputs": [],
   "source": [
    "import random\n",
    "import mindspore\n",
    "from mindspore import dtype as mstype\n",
    "import mindspore.ops as ops\n",
    "from matplotlib import pyplot as plt\n",
    "from mindspore import Tensor\n",
    "import sys\n",
    "sys.path.append('..')"
   ]
  },
  {
   "cell_type": "code",
   "execution_count": 2,
   "metadata": {
    "origin_pos": 7,
    "tab": [
     "pytorch"
    ]
   },
   "outputs": [
    {
     "name": "stdout",
     "output_type": "stream",
     "text": [
      "(1000, 2)\n"
     ]
    }
   ],
   "source": [
    "def synthetic_data(w, b, num_examples):  \n",
    "    print((num_examples, len(w)))\n",
    "    # 生成X\n",
    "    X = ops.normal((num_examples, len(w)), Tensor(0, mstype.int32), Tensor(1, mstype.int32)) \n",
    "    # y = Xw + b\n",
    "    y = ops.matmul(X, w) + b                               \n",
    "    # y = Xw + b + 噪声。\n",
    "    y += ops.normal(y.shape, Tensor(0, mstype.int32), Tensor(0.01, mstype.float32))          \n",
    "    return X, y.reshape((-1, 1))\n",
    "\n",
    "mindspore.set_seed(1)\n",
    "true_w = Tensor([2, -3.4], mstype.float32)\n",
    "true_b = 4.2\n",
    "# 人造数据\n",
    "features, labels = synthetic_data(true_w, true_b, 1000)                                                    "
   ]
  },
  {
   "cell_type": "markdown",
   "metadata": {},
   "source": [
    "#### 4.2 数据加载\n",
    "数据features中的每一行都包含一个二维数据样本，真实值labels中的每一行都包含一维标签值（一个标量）"
   ]
  },
  {
   "cell_type": "code",
   "execution_count": 3,
   "metadata": {
    "origin_pos": 9,
    "tab": [
     "pytorch"
    ]
   },
   "outputs": [
    {
     "name": "stdout",
     "output_type": "stream",
     "text": [
      "features: [[ 0.15606569  0.30639967]\n",
      " [-0.5680398  -0.42438623]\n",
      " [-0.8062886  -0.20454668]\n",
      " [-1.2000442  -0.42873764]] \n",
      "label: [[3.487765 ]\n",
      " [4.4927335]\n",
      " [3.2986383]\n",
      " [3.2585537]]\n"
     ]
    }
   ],
   "source": [
    "print('features:', features[0:4],'\\nlabel:', labels[0:4])"
   ]
  },
  {
   "cell_type": "code",
   "execution_count": 4,
   "metadata": {
    "origin_pos": 11,
    "tab": [
     "pytorch"
    ]
   },
   "outputs": [
    {
     "data": {
      "image/png": "[encoded data removed]",
      "text/plain": [
       "<Figure size 640x480 with 1 Axes>"
      ]
     },
     "metadata": {},
     "output_type": "display_data"
    }
   ],
   "source": [
    "# 画出第二个特征与真实值的散点图\n",
    "plt.scatter(features[:, (1)].asnumpy(), labels.asnumpy(), 1); \n",
    "plt.show()"
   ]
  },
  {
   "cell_type": "markdown",
   "metadata": {},
   "source": [
    "使用MindSpore的GeneratorDataset创建可迭代数据。<br>\n",
    "dataset模块提供了加载和处理数据集的API；numpy提供了一系列类NumPy接口。"
   ]
  },
  {
   "cell_type": "code",
   "execution_count": 5,
   "metadata": {
    "origin_pos": 16,
    "tab": [
     "pytorch"
    ]
   },
   "outputs": [],
   "source": [
    "from mindspore import dataset as ds  \n",
    "import numpy as np\n",
    "\n",
    "def data_iter(features, labels):\n",
    "    num_examples = len(features)                                 \n",
    "    for i in range(0, num_examples):\n",
    "        x = features[i]\n",
    "        y = labels[i]\n",
    "        yield np.array(x[:]).astype(np.float32), np.array([y[0]]).astype(np.float32)\n",
    "\n",
    "        \n",
    "batch_size = 10\n",
    "# 创建GeneratorDataset对象\n",
    "dataset = ds.GeneratorDataset(list(data_iter(features, labels)),column_names=['data', 'label'])\n",
    "# 将数据集中连续10条数据合并为一个批处理数据\n",
    "dataset = dataset.batch(batch_size)                \n",
    "# 重复数据集1次\n",
    "dataset = dataset.repeat(1) "
   ]
  },
  {
   "cell_type": "markdown",
   "metadata": {},
   "source": [
    "### 5、模型构建"
   ]
  },
  {
   "cell_type": "markdown",
   "metadata": {},
   "source": [
    "模型构建分为定义实现二维线性回归功能的Net、用于计算预测值与标签值之间的均方误差MSELoss、Adam优化器。\n",
    "- 定义模型Net\n",
    "\n",
    "Net输入为X样本，计算出预测值$\\widehat y$并返回。<br>\n",
    "mindspore.nn用于构建神经网络中的预定义构建块或计算单元；Parameter 是 Tensor 的子类，当它们被绑定为Cell的属性时，会自动添加到其参数列表中，并且可以通过Cell的某些方法获取；mindspore.common.initializer用于初始化神经元参数。"
   ]
  },
  {
   "cell_type": "code",
   "execution_count": 6,
   "metadata": {},
   "outputs": [],
   "source": [
    "import mindspore.nn as nn\n",
    "from mindspore import Parameter\n",
    "from mindspore.common.initializer import initializer, Zero, Normal\n",
    "\n",
    "\n",
    "def linreg(x, w, b):\n",
    "    # y = Xw+b\n",
    "    return ops.matmul(x, w) + b    \n",
    "\n",
    "\n",
    "class Net(nn.Cell):\n",
    "    def __init__(self):\n",
    "        super().__init__()\n",
    "        self.w = Parameter(initializer(Normal(0.01, 0), (2, 1), mstype.float32))\n",
    "        self.b = Parameter(initializer(Zero(), 1, mstype.float32))\n",
    "        \n",
    "    def construct(self, x):\n",
    "        # y_hat = Xw+b\n",
    "        y_hat = linreg(x, self.w, self.b)  \n",
    "        return y_hat\n",
    "    \n",
    "    \n",
    "# Net用于实现二维线性回归\n",
    "net = Net()"
   ]
  },
  {
   "cell_type": "markdown",
   "metadata": {},
   "source": [
    "- 使用MSE损失函数和Adam优化器"
   ]
  },
  {
   "cell_type": "code",
   "execution_count": 7,
   "metadata": {},
   "outputs": [],
   "source": [
    "# 训练的eopch为3\n",
    "num_epochs = 3\n",
    "# 学习率为0.03\n",
    "lr = 0.03\n",
    "# Adam优化器\n",
    "optim = nn.Adam(net.trainable_params(), learning_rate=lr)          \n",
    "# 计算预测值与标签值之间的均方误差\n",
    "loss = nn.MSELoss()   "
   ]
  },
  {
   "cell_type": "markdown",
   "metadata": {},
   "source": [
    "### 6、模型训练\n",
    "Model是模型训练与推理的高阶接口，调用Model.train方法，传入数据集即可完成模型训练，其中LossMonitor()会监控训练的损失，并将epoch、step、loss信息打印出来，若loss变为NAN或INF，则会终止训练。"
   ]
  },
  {
   "cell_type": "code",
   "execution_count": 8,
   "metadata": {},
   "outputs": [],
   "source": [
    "from mindspore.train import Model                                       \n",
    "from mindspore.train import LossMonitor "
   ]
  },
  {
   "cell_type": "code",
   "execution_count": 9,
   "metadata": {},
   "outputs": [
    {
     "name": "stdout",
     "output_type": "stream",
     "text": [
      "epoch: 1 step: 1, loss is 27.21526527404785\n",
      "epoch: 1 step: 2, loss is 29.336599349975586\n",
      "epoch: 1 step: 3, loss is 63.4631462097168\n",
      "epoch: 1 step: 4, loss is 35.25086212158203\n",
      "epoch: 1 step: 5, loss is 71.31114959716797\n",
      "epoch: 1 step: 6, loss is 42.622318267822266\n",
      "epoch: 1 step: 7, loss is 40.763362884521484\n",
      "epoch: 1 step: 8, loss is 16.727262496948242\n",
      "epoch: 1 step: 9, loss is 23.652950286865234\n",
      "epoch: 1 step: 10, loss is 33.654170989990234\n",
      "epoch: 1 step: 11, loss is 27.018291473388672\n",
      "epoch: 1 step: 12, loss is 26.514074325561523\n",
      "epoch: 1 step: 13, loss is 24.49384117126465\n",
      "epoch: 1 step: 14, loss is 48.61296844482422\n",
      "epoch: 1 step: 15, loss is 29.758121490478516\n",
      "epoch: 1 step: 16, loss is 21.304235458374023\n",
      "epoch: 1 step: 17, loss is 15.565986633300781\n",
      "epoch: 1 step: 18, loss is 36.85604476928711\n",
      "epoch: 1 step: 19, loss is 35.382205963134766\n",
      "epoch: 1 step: 20, loss is 25.852447509765625\n",
      "epoch: 1 step: 21, loss is 9.136430740356445\n",
      "epoch: 1 step: 22, loss is 27.905731201171875\n",
      "epoch: 1 step: 23, loss is 31.979320526123047\n",
      "epoch: 1 step: 24, loss is 27.572046279907227\n",
      "epoch: 1 step: 25, loss is 25.716604232788086\n",
      "epoch: 1 step: 26, loss is 18.555919647216797\n",
      "epoch: 1 step: 27, loss is 14.100408554077148\n",
      "epoch: 1 step: 28, loss is 26.788162231445312\n",
      "epoch: 1 step: 29, loss is 15.072996139526367\n",
      "epoch: 1 step: 30, loss is 19.150911331176758\n",
      "epoch: 1 step: 31, loss is 19.015939712524414\n",
      "epoch: 1 step: 32, loss is 16.49721908569336\n",
      "epoch: 1 step: 33, loss is 24.54644012451172\n",
      "epoch: 1 step: 34, loss is 28.995107650756836\n",
      "epoch: 1 step: 35, loss is 19.336854934692383\n",
      "epoch: 1 step: 36, loss is 22.72515296936035\n",
      "epoch: 1 step: 37, loss is 25.337997436523438\n",
      "epoch: 1 step: 38, loss is 21.988788604736328\n",
      "epoch: 1 step: 39, loss is 10.990190505981445\n",
      "epoch: 1 step: 40, loss is 13.780523300170898\n",
      "epoch: 1 step: 41, loss is 6.2393293380737305\n",
      "epoch: 1 step: 42, loss is 14.617647171020508\n",
      "epoch: 1 step: 43, loss is 22.81882095336914\n",
      "epoch: 1 step: 44, loss is 18.663782119750977\n",
      "epoch: 1 step: 45, loss is 28.471080780029297\n",
      "epoch: 1 step: 46, loss is 26.383655548095703\n",
      "epoch: 1 step: 47, loss is 16.54563331604004\n",
      "epoch: 1 step: 48, loss is 4.348992824554443\n",
      "epoch: 1 step: 49, loss is 12.608301162719727\n",
      "epoch: 1 step: 50, loss is 13.844345092773438\n",
      "epoch: 1 step: 51, loss is 11.507513046264648\n",
      "epoch: 1 step: 52, loss is 13.889551162719727\n",
      "epoch: 1 step: 53, loss is 10.510371208190918\n",
      "epoch: 1 step: 54, loss is 16.251087188720703\n",
      "epoch: 1 step: 55, loss is 18.734956741333008\n",
      "epoch: 1 step: 56, loss is 20.76787757873535\n",
      "epoch: 1 step: 57, loss is 20.44515037536621\n",
      "epoch: 1 step: 58, loss is 17.76775550842285\n",
      "epoch: 1 step: 59, loss is 15.186498641967773\n",
      "epoch: 1 step: 60, loss is 12.228841781616211\n",
      "epoch: 1 step: 61, loss is 5.879114627838135\n",
      "epoch: 1 step: 62, loss is 11.189396858215332\n",
      "epoch: 1 step: 63, loss is 9.96903133392334\n",
      "epoch: 1 step: 64, loss is 10.384302139282227\n",
      "epoch: 1 step: 65, loss is 7.083913326263428\n",
      "epoch: 1 step: 66, loss is 6.81948184967041\n",
      "epoch: 1 step: 67, loss is 12.903343200683594\n",
      "epoch: 1 step: 68, loss is 7.572709560394287\n",
      "epoch: 1 step: 69, loss is 3.8063812255859375\n",
      "epoch: 1 step: 70, loss is 6.538340091705322\n",
      "epoch: 1 step: 71, loss is 7.325401306152344\n",
      "epoch: 1 step: 72, loss is 14.188916206359863\n",
      "epoch: 1 step: 73, loss is 6.562997341156006\n",
      "epoch: 1 step: 74, loss is 7.03503942489624\n",
      "epoch: 1 step: 75, loss is 9.620099067687988\n",
      "epoch: 1 step: 76, loss is 3.0091288089752197\n",
      "epoch: 1 step: 77, loss is 11.34782600402832\n",
      "epoch: 1 step: 78, loss is 12.040689468383789\n",
      "epoch: 1 step: 79, loss is 13.375781059265137\n",
      "epoch: 1 step: 80, loss is 5.005685806274414\n",
      "epoch: 1 step: 81, loss is 6.137840747833252\n",
      "epoch: 1 step: 82, loss is 7.440329074859619\n",
      "epoch: 1 step: 83, loss is 9.558012008666992\n",
      "epoch: 1 step: 84, loss is 13.821830749511719\n",
      "epoch: 1 step: 85, loss is 5.639045238494873\n",
      "epoch: 1 step: 86, loss is 7.139861106872559\n",
      "epoch: 1 step: 87, loss is 4.156195640563965\n",
      "epoch: 1 step: 88, loss is 5.298253536224365\n",
      "epoch: 1 step: 89, loss is 10.114042282104492\n",
      "epoch: 1 step: 90, loss is 5.1939897537231445\n",
      "epoch: 1 step: 91, loss is 7.433219909667969\n",
      "epoch: 1 step: 92, loss is 3.3720524311065674\n",
      "epoch: 1 step: 93, loss is 7.231276035308838\n",
      "epoch: 1 step: 94, loss is 7.266561985015869\n",
      "epoch: 1 step: 95, loss is 3.8319172859191895\n",
      "epoch: 1 step: 96, loss is 3.55168080329895\n",
      "epoch: 1 step: 97, loss is 3.64298939704895\n",
      "epoch: 1 step: 98, loss is 5.807127475738525\n",
      "epoch: 1 step: 99, loss is 3.5787360668182373\n",
      "epoch: 1 step: 100, loss is 5.027612209320068\n",
      "epoch: 2 step: 1, loss is 6.962196350097656\n",
      "epoch: 2 step: 2, loss is 4.5556840896606445\n",
      "epoch: 2 step: 3, loss is 5.342075347900391\n",
      "epoch: 2 step: 4, loss is 4.486537456512451\n",
      "epoch: 2 step: 5, loss is 4.889395236968994\n",
      "epoch: 2 step: 6, loss is 5.2812724113464355\n",
      "epoch: 2 step: 7, loss is 2.938516139984131\n",
      "epoch: 2 step: 8, loss is 3.9489810466766357\n",
      "epoch: 2 step: 9, loss is 2.6869192123413086\n",
      "epoch: 2 step: 10, loss is 2.7264132499694824\n",
      "epoch: 2 step: 11, loss is 7.088787078857422\n",
      "epoch: 2 step: 12, loss is 3.632922649383545\n",
      "epoch: 2 step: 13, loss is 5.932767868041992\n",
      "epoch: 2 step: 14, loss is 2.3370344638824463\n",
      "epoch: 2 step: 15, loss is 3.6797261238098145\n",
      "epoch: 2 step: 16, loss is 3.0671768188476562\n",
      "epoch: 2 step: 17, loss is 4.967508792877197\n",
      "epoch: 2 step: 18, loss is 4.01639461517334\n",
      "epoch: 2 step: 19, loss is 4.094237327575684\n",
      "epoch: 2 step: 20, loss is 6.315237998962402\n",
      "epoch: 2 step: 21, loss is 2.252216100692749\n",
      "epoch: 2 step: 22, loss is 4.821501731872559\n",
      "epoch: 2 step: 23, loss is 1.7606475353240967\n",
      "epoch: 2 step: 24, loss is 3.7248637676239014\n",
      "epoch: 2 step: 25, loss is 2.244218111038208\n",
      "epoch: 2 step: 26, loss is 4.203402042388916\n",
      "epoch: 2 step: 27, loss is 2.20698881149292\n",
      "epoch: 2 step: 28, loss is 2.6857528686523438\n",
      "epoch: 2 step: 29, loss is 2.1136257648468018\n",
      "epoch: 2 step: 30, loss is 0.8118253946304321\n",
      "epoch: 2 step: 31, loss is 1.234073519706726\n",
      "epoch: 2 step: 32, loss is 1.7736514806747437\n",
      "epoch: 2 step: 33, loss is 2.2017874717712402\n",
      "epoch: 2 step: 34, loss is 3.117436408996582\n",
      "epoch: 2 step: 35, loss is 2.5481910705566406\n",
      "epoch: 2 step: 36, loss is 2.8056836128234863\n",
      "epoch: 2 step: 37, loss is 1.9391756057739258\n",
      "epoch: 2 step: 38, loss is 3.060429334640503\n",
      "epoch: 2 step: 39, loss is 1.8379236459732056\n",
      "epoch: 2 step: 40, loss is 1.768932580947876\n",
      "epoch: 2 step: 41, loss is 3.7196412086486816\n",
      "epoch: 2 step: 42, loss is 1.6140480041503906\n",
      "epoch: 2 step: 43, loss is 1.95694100856781\n",
      "epoch: 2 step: 44, loss is 1.5977418422698975\n",
      "epoch: 2 step: 45, loss is 1.3676258325576782\n",
      "epoch: 2 step: 46, loss is 1.616013765335083\n",
      "epoch: 2 step: 47, loss is 3.231724500656128\n",
      "epoch: 2 step: 48, loss is 1.5484251976013184\n",
      "epoch: 2 step: 49, loss is 1.317044973373413\n",
      "epoch: 2 step: 50, loss is 1.9576256275177002\n",
      "epoch: 2 step: 51, loss is 0.7844244241714478\n",
      "epoch: 2 step: 52, loss is 2.269125461578369\n",
      "epoch: 2 step: 53, loss is 1.9816278219223022\n",
      "epoch: 2 step: 54, loss is 0.9278596043586731\n",
      "epoch: 2 step: 55, loss is 1.1426912546157837\n",
      "epoch: 2 step: 56, loss is 1.4165637493133545\n",
      "epoch: 2 step: 57, loss is 2.2507853507995605\n",
      "epoch: 2 step: 58, loss is 0.9760058522224426\n",
      "epoch: 2 step: 59, loss is 1.346488356590271\n",
      "epoch: 2 step: 60, loss is 1.1192424297332764\n",
      "epoch: 2 step: 61, loss is 0.943031907081604\n",
      "epoch: 2 step: 62, loss is 0.873736560344696\n",
      "epoch: 2 step: 63, loss is 1.1059176921844482\n",
      "epoch: 2 step: 64, loss is 0.7149892449378967\n",
      "epoch: 2 step: 65, loss is 1.6973308324813843\n",
      "epoch: 2 step: 66, loss is 1.2775171995162964\n",
      "epoch: 2 step: 67, loss is 1.5566039085388184\n",
      "epoch: 2 step: 68, loss is 0.8766419291496277\n",
      "epoch: 2 step: 69, loss is 0.5857804417610168\n",
      "epoch: 2 step: 70, loss is 1.2646538019180298\n",
      "epoch: 2 step: 71, loss is 1.0398437976837158\n",
      "epoch: 2 step: 72, loss is 1.8960927724838257\n",
      "epoch: 2 step: 73, loss is 0.6992558836936951\n",
      "epoch: 2 step: 74, loss is 0.6999543309211731\n",
      "epoch: 2 step: 75, loss is 0.9262067675590515\n",
      "epoch: 2 step: 76, loss is 0.6524678468704224\n",
      "epoch: 2 step: 77, loss is 1.3097727298736572\n",
      "epoch: 2 step: 78, loss is 0.46024784445762634\n",
      "epoch: 2 step: 79, loss is 0.418347030878067\n",
      "epoch: 2 step: 80, loss is 0.8357232809066772\n",
      "epoch: 2 step: 81, loss is 0.7291088700294495\n"
     ]
    },
    {
     "name": "stdout",
     "output_type": "stream",
     "text": [
      "epoch: 2 step: 82, loss is 0.6625293493270874\n",
      "epoch: 2 step: 83, loss is 1.1811898946762085\n",
      "epoch: 2 step: 84, loss is 0.9212194681167603\n",
      "epoch: 2 step: 85, loss is 0.5011598467826843\n",
      "epoch: 2 step: 86, loss is 0.8492897748947144\n",
      "epoch: 2 step: 87, loss is 0.5195800065994263\n",
      "epoch: 2 step: 88, loss is 0.23887589573860168\n",
      "epoch: 2 step: 89, loss is 0.5381307601928711\n",
      "epoch: 2 step: 90, loss is 0.7873405814170837\n",
      "epoch: 2 step: 91, loss is 0.5578173995018005\n",
      "epoch: 2 step: 92, loss is 0.6823797821998596\n",
      "epoch: 2 step: 93, loss is 0.5008846521377563\n",
      "epoch: 2 step: 94, loss is 0.6183363199234009\n",
      "epoch: 2 step: 95, loss is 0.5521734356880188\n",
      "epoch: 2 step: 96, loss is 0.43062639236450195\n",
      "epoch: 2 step: 97, loss is 0.36775729060173035\n",
      "epoch: 2 step: 98, loss is 0.5707271099090576\n",
      "epoch: 2 step: 99, loss is 0.4306361675262451\n",
      "epoch: 2 step: 100, loss is 0.6082412600517273\n",
      "epoch: 3 step: 1, loss is 0.41276615858078003\n",
      "epoch: 3 step: 2, loss is 0.2938767075538635\n",
      "epoch: 3 step: 3, loss is 0.5000230669975281\n",
      "epoch: 3 step: 4, loss is 0.4498678147792816\n",
      "epoch: 3 step: 5, loss is 0.2024650126695633\n",
      "epoch: 3 step: 6, loss is 0.44310227036476135\n",
      "epoch: 3 step: 7, loss is 0.2692863643169403\n",
      "epoch: 3 step: 8, loss is 0.23688945174217224\n",
      "epoch: 3 step: 9, loss is 0.26066502928733826\n",
      "epoch: 3 step: 10, loss is 0.20629675686359406\n",
      "epoch: 3 step: 11, loss is 0.4594079554080963\n",
      "epoch: 3 step: 12, loss is 0.24997739493846893\n",
      "epoch: 3 step: 13, loss is 0.20404544472694397\n",
      "epoch: 3 step: 14, loss is 0.3983539938926697\n",
      "epoch: 3 step: 15, loss is 0.11410190165042877\n",
      "epoch: 3 step: 16, loss is 0.19838684797286987\n",
      "epoch: 3 step: 17, loss is 0.28151005506515503\n",
      "epoch: 3 step: 18, loss is 0.09904325008392334\n",
      "epoch: 3 step: 19, loss is 0.19915513694286346\n",
      "epoch: 3 step: 20, loss is 0.3846835196018219\n",
      "epoch: 3 step: 21, loss is 0.1914261281490326\n",
      "epoch: 3 step: 22, loss is 0.14309437572956085\n",
      "epoch: 3 step: 23, loss is 0.13308462500572205\n",
      "epoch: 3 step: 24, loss is 0.19154636561870575\n",
      "epoch: 3 step: 25, loss is 0.16405831277370453\n",
      "epoch: 3 step: 26, loss is 0.20904812216758728\n",
      "epoch: 3 step: 27, loss is 0.14697371423244476\n",
      "epoch: 3 step: 28, loss is 0.11689909547567368\n",
      "epoch: 3 step: 29, loss is 0.16094909608364105\n",
      "epoch: 3 step: 30, loss is 0.1434142291545868\n",
      "epoch: 3 step: 31, loss is 0.09004128724336624\n",
      "epoch: 3 step: 32, loss is 0.1290574073791504\n",
      "epoch: 3 step: 33, loss is 0.08969181776046753\n",
      "epoch: 3 step: 34, loss is 0.10273350775241852\n",
      "epoch: 3 step: 35, loss is 0.1156499981880188\n",
      "epoch: 3 step: 36, loss is 0.11508677899837494\n",
      "epoch: 3 step: 37, loss is 0.07429660111665726\n",
      "epoch: 3 step: 38, loss is 0.1544957160949707\n",
      "epoch: 3 step: 39, loss is 0.07589051872491837\n",
      "epoch: 3 step: 40, loss is 0.09762391448020935\n",
      "epoch: 3 step: 41, loss is 0.12021774053573608\n",
      "epoch: 3 step: 42, loss is 0.09902794659137726\n",
      "epoch: 3 step: 43, loss is 0.0917472094297409\n",
      "epoch: 3 step: 44, loss is 0.08389367908239365\n",
      "epoch: 3 step: 45, loss is 0.06908883154392242\n",
      "epoch: 3 step: 46, loss is 0.07097391039133072\n",
      "epoch: 3 step: 47, loss is 0.0744287446141243\n",
      "epoch: 3 step: 48, loss is 0.11547797918319702\n",
      "epoch: 3 step: 49, loss is 0.07198736071586609\n",
      "epoch: 3 step: 50, loss is 0.05325499176979065\n",
      "epoch: 3 step: 51, loss is 0.08582469075918198\n",
      "epoch: 3 step: 52, loss is 0.0729944109916687\n",
      "epoch: 3 step: 53, loss is 0.06155432388186455\n",
      "epoch: 3 step: 54, loss is 0.09096769988536835\n",
      "epoch: 3 step: 55, loss is 0.07064614444971085\n",
      "epoch: 3 step: 56, loss is 0.059208162128925323\n",
      "epoch: 3 step: 57, loss is 0.04447593539953232\n",
      "epoch: 3 step: 58, loss is 0.03973168879747391\n",
      "epoch: 3 step: 59, loss is 0.05330270528793335\n",
      "epoch: 3 step: 60, loss is 0.06218930333852768\n",
      "epoch: 3 step: 61, loss is 0.05494464188814163\n",
      "epoch: 3 step: 62, loss is 0.03596225753426552\n",
      "epoch: 3 step: 63, loss is 0.030687173828482628\n",
      "epoch: 3 step: 64, loss is 0.04707220569252968\n",
      "epoch: 3 step: 65, loss is 0.0495014414191246\n",
      "epoch: 3 step: 66, loss is 0.04258064925670624\n",
      "epoch: 3 step: 67, loss is 0.04463804140686989\n",
      "epoch: 3 step: 68, loss is 0.04123527556657791\n",
      "epoch: 3 step: 69, loss is 0.03562673181295395\n",
      "epoch: 3 step: 70, loss is 0.04039211943745613\n",
      "epoch: 3 step: 71, loss is 0.02102712169289589\n",
      "epoch: 3 step: 72, loss is 0.039723530411720276\n",
      "epoch: 3 step: 73, loss is 0.029802406206727028\n",
      "epoch: 3 step: 74, loss is 0.023850535973906517\n",
      "epoch: 3 step: 75, loss is 0.028385091572999954\n",
      "epoch: 3 step: 76, loss is 0.01661636307835579\n",
      "epoch: 3 step: 77, loss is 0.024331815540790558\n",
      "epoch: 3 step: 78, loss is 0.03208054602146149\n",
      "epoch: 3 step: 79, loss is 0.02161048911511898\n",
      "epoch: 3 step: 80, loss is 0.02142120525240898\n",
      "epoch: 3 step: 81, loss is 0.02458055503666401\n",
      "epoch: 3 step: 82, loss is 0.0213459525257349\n",
      "epoch: 3 step: 83, loss is 0.013226820155978203\n",
      "epoch: 3 step: 84, loss is 0.017200905829668045\n",
      "epoch: 3 step: 85, loss is 0.01626061275601387\n",
      "epoch: 3 step: 86, loss is 0.02225835621356964\n",
      "epoch: 3 step: 87, loss is 0.008702786639332771\n",
      "epoch: 3 step: 88, loss is 0.021927032619714737\n",
      "epoch: 3 step: 89, loss is 0.021337823942303658\n",
      "epoch: 3 step: 90, loss is 0.017082367092370987\n",
      "epoch: 3 step: 91, loss is 0.009913050569593906\n",
      "epoch: 3 step: 92, loss is 0.02714329957962036\n",
      "epoch: 3 step: 93, loss is 0.015559658408164978\n",
      "epoch: 3 step: 94, loss is 0.011197875253856182\n",
      "epoch: 3 step: 95, loss is 0.013860613107681274\n",
      "epoch: 3 step: 96, loss is 0.0207115076482296\n",
      "epoch: 3 step: 97, loss is 0.01054142601788044\n",
      "epoch: 3 step: 98, loss is 0.01156577654182911\n",
      "epoch: 3 step: 99, loss is 0.010938034392893314\n",
      "epoch: 3 step: 100, loss is 0.00852242112159729\n"
     ]
    }
   ],
   "source": [
    "# 模型训练或推理的高阶接口。Model 会根据用户传入的参数封装可训练或推理的实例\n",
    "model = Model(net, loss_fn=loss, optimizer=optim)  \n",
    "# 模型训练接口。训练场景下，LossMonitor监控训练的loss；边训练边推理场景下，监控训练的loss和推理的metrics。如果loss是NAN或INF，则终止训练\n",
    "model.train(num_epochs, dataset, callbacks=[LossMonitor()])  "
   ]
  },
  {
   "cell_type": "markdown",
   "metadata": {},
   "source": [
    "### 7、模型预测\n",
    "训练3个epoch后输出w和b的估计误差，比较真实参数和通过训练学到的参数来评估训练的成功程度。"
   ]
  },
  {
   "cell_type": "code",
   "execution_count": 10,
   "metadata": {
    "origin_pos": 35,
    "tab": [
     "pytorch"
    ]
   },
   "outputs": [
    {
     "name": "stdout",
     "output_type": "stream",
     "text": [
      "w的估计误差: [ 0.00161636 -0.03869033]\n",
      "b的估计误差: [0.09300137]\n"
     ]
    }
   ],
   "source": [
    "# w的真实值和训练值之差\n",
    "print(f'w的估计误差: {true_w - net.trainable_params()[0].reshape(true_w.shape)}')  \n",
    "# b的真实值和训练值之差\n",
    "print(f'b的估计误差: {true_b - net.trainable_params()[1]}')                        "
   ]
  }
 ],
 "metadata": {
  "kernelspec": {
   "display_name": "ms_Night",
   "language": "python",
   "name": "ms_night"
  },
  "language_info": {
   "codemirror_mode": {
    "name": "ipython",
    "version": 3
   },
   "file_extension": ".py",
   "mimetype": "text/x-python",
   "name": "python",
   "nbconvert_exporter": "python",
   "pygments_lexer": "ipython3",
   "version": "3.8.16"
  }
 },
 "nbformat": 4,
 "nbformat_minor": 2
}
