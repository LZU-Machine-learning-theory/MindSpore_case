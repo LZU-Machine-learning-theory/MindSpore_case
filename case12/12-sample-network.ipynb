{
 "cells": [
  {
   "cell_type": "markdown",
   "id": "71079dcd-12b9-481a-9540-dc4f8ab319f5",
   "metadata": {},
   "source": [
    "# 使用MindSpore训练一个简单网络"
   ]
  },
  {
   "cell_type": "markdown",
   "id": "e3623222-4e9c-4d31-b699-be3a2ebf3dbd",
   "metadata": {},
   "source": [
    "本节通过MindSpore的API快速实现一个简单的神经网络模型\n",
    "\n",
    "参考资料：\n",
    "\n",
    "https://www.mindspore.cn/tutorials/zh-CN/r1.9/beginner/quick_start.html"
   ]
  },
  {
   "cell_type": "code",
   "execution_count": 1,
   "id": "6e7de169-626f-4ba2-8267-bfc5a9064293",
   "metadata": {},
   "outputs": [],
   "source": [
    "import mindspore\n",
    "from mindspore import nn\n",
    "from mindspore import ops\n",
    "from mindspore.dataset import vision, transforms\n",
    "from mindspore.dataset import MnistDataset"
   ]
  },
  {
   "cell_type": "markdown",
   "id": "47bc484d-9fd8-4104-a42c-d12e6c0ead53",
   "metadata": {},
   "source": [
    "## 处理数据集\n",
    "MNIST数据集是机器学习领域中经典的数据集，由6W个训练样本和1W个测试样本组成，每个样本是28 * 28像素的灰度手写数字图片，共10类（0-9）。整个数据集约为50M。\n",
    "\n",
    "MindSpore提供基于Pipeline的数据引擎，通过数据集（Dataset）和数据变换（Transforms）实现高效的数据预处理。在本教程中，我们使用Mnist数据集，自动下载完成后，使用mindspore.dataset提供的数据变换进行预处理。\n",
    "\n",
    "\n",
    "\n",
    ">此处的示例代码依赖download，可使用命令pip install download安装。如本文档以Notebook运行时，完成安装后需要重启kernel才能执行后续代码。"
   ]
  },
  {
   "cell_type": "code",
   "execution_count": 3,
   "id": "5d5fe32a-f6f8-4a5d-aa29-1ec4ae07ee40",
   "metadata": {},
   "outputs": [
    {
     "name": "stdout",
     "output_type": "stream",
     "text": [
      "Downloading data from https://mindspore-website.obs.cn-north-4.myhuaweicloud.com/notebook/datasets/MNIST_Data.zip (10.3 MB)\n",
      "\n",
      "file_sizes: 100%|██████████████████████████| 10.8M/10.8M [00:00<00:00, 47.2MB/s]\n",
      "Extracting zip file...\n",
      "Successfully downloaded / unzipped to ./\n"
     ]
    }
   ],
   "source": [
    "# Download data from open datasets\n",
    "from download import download\n",
    "\n",
    "url = \"https://mindspore-website.obs.cn-north-4.myhuaweicloud.com/\" \\\n",
    "      \"notebook/datasets/MNIST_Data.zip\"\n",
    "path = download(url, \"./\", kind=\"zip\", replace=True)\n"
   ]
  },
  {
   "cell_type": "markdown",
   "id": "227881f9-8e48-475b-9fb5-e41ac8355cee",
   "metadata": {},
   "source": [
    "数据下载完成后，获得数据集对象。"
   ]
  },
  {
   "cell_type": "code",
   "execution_count": 7,
   "id": "ae75ed41-d049-4ffb-bfa0-c33341f0a97a",
   "metadata": {},
   "outputs": [],
   "source": [
    "train_dataset = MnistDataset('MNIST_Data/train')\n",
    "test_dataset = MnistDataset('MNIST_Data/test')"
   ]
  },
  {
   "cell_type": "markdown",
   "id": "d4a95ef8-8cf4-4807-9513-ce8a902ad330",
   "metadata": {},
   "source": [
    "打印数据集中包含的数据列名，用于dataset的预处理。"
   ]
  },
  {
   "cell_type": "code",
   "execution_count": 6,
   "id": "65ce8d24-5ac9-409c-94e6-870f604f1bee",
   "metadata": {},
   "outputs": [
    {
     "name": "stdout",
     "output_type": "stream",
     "text": [
      "['image', 'label']\n"
     ]
    }
   ],
   "source": [
    "print(train_dataset.get_col_names())"
   ]
  },
  {
   "cell_type": "markdown",
   "id": "209ddf94-bf43-4743-b70b-dac93a47b647",
   "metadata": {},
   "source": [
    "MindSpore的dataset使用数据处理流水线（Data Processing Pipeline），需指定map、batch、shuffle等操作。这里我们使用map对图像数据及标签进行变换处理，然后将处理好的数据集打包为大小为64的batch。"
   ]
  },
  {
   "cell_type": "code",
   "execution_count": 9,
   "id": "beaf6a3c-948e-474f-88d5-9b21dafdfeed",
   "metadata": {},
   "outputs": [],
   "source": [
    "def datapipe(dataset, batch_size):\n",
    "    image_transforms = [\n",
    "        vision.Rescale(1.0 / 255.0, 0),\n",
    "        vision.Normalize(mean=(0.1307,), std=(0.3081,)),\n",
    "        vision.HWC2CHW()\n",
    "    ]\n",
    "    label_transform = transforms.TypeCast(mindspore.int32)\n",
    "\n",
    "    dataset = dataset.map(image_transforms, 'image')\n",
    "    dataset = dataset.map(label_transform, 'label')\n",
    "    dataset = dataset.batch(batch_size)\n",
    "    return dataset\n",
    "\n",
    "\n",
    "\n",
    "# Map vision transforms and batch dataset\n",
    "train_dataset = datapipe(train_dataset, 64)\n",
    "test_dataset = datapipe(test_dataset, 64)"
   ]
  },
  {
   "cell_type": "markdown",
   "id": "d108f291-c69c-46c7-9e3f-3e04ebb49bad",
   "metadata": {},
   "source": [
    "MindSpore的dataset使用数据处理流水线（Data Processing Pipeline），需指定map、batch和shuffle等操作。这里我们使用map对'image'列的图像数据进行变换处理，然后将处理好的数据集打包成大小为64的batch。"
   ]
  },
  {
   "cell_type": "code",
   "execution_count": null,
   "id": "3efbd493-27a3-4b8b-acdc-f70758a2db36",
   "metadata": {},
   "outputs": [],
   "source": [
    "# Map vision transforms and batch dataset\n",
    "train_dataset = train_dataset.map(transforms, 'image').batch(batch_size)\n",
    "test_dataset = test_dataset.map(transforms, 'image').batch(batch_size)"
   ]
  },
  {
   "cell_type": "markdown",
   "id": "efb4e93f-4934-4be2-bd70-d3de1eb93bda",
   "metadata": {},
   "source": [
    "使用create_tuple_iterator或create_dict_iterator对数据集进行迭代。"
   ]
  },
  {
   "cell_type": "code",
   "execution_count": 10,
   "id": "71ef34e6-4961-4064-b34b-ddc8c9d5425b",
   "metadata": {},
   "outputs": [
    {
     "name": "stdout",
     "output_type": "stream",
     "text": [
      "Shape of image [N, C, H, W]: (64, 1, 28, 28) Float32\n",
      "Shape of label: (64,) Int32\n",
      "Shape of image [N, C, H, W]: (64, 1, 28, 28) Float32\n",
      "Shape of label: (64,) Int32\n"
     ]
    }
   ],
   "source": [
    "for image, label in test_dataset.create_tuple_iterator():\n",
    "    print(f\"Shape of image [N, C, H, W]: {image.shape} {image.dtype}\")\n",
    "    print(f\"Shape of label: {label.shape} {label.dtype}\")\n",
    "    break\n",
    "\n",
    "\n",
    "for data in test_dataset.create_dict_iterator():\n",
    "    print(f\"Shape of image [N, C, H, W]: {data['image'].shape} {data['image'].dtype}\")\n",
    "    print(f\"Shape of label: {data['label'].shape} {data['label'].dtype}\")\n",
    "    break\n"
   ]
  },
  {
   "cell_type": "markdown",
   "id": "22587305-301b-4117-acc3-e026fb044eb0",
   "metadata": {},
   "source": [
    "## 网络构建\n",
    "mindspore.nn类是构建所有网络的基类，也是网络的基本单元。当用户需要自定义网络时，可以继承nn.Cell类，并重写__init__方法和construct方法。__init__包含所有网络层的定义，construct中包含数据（Tensor）的变换过程（即计算图的构造过程）。"
   ]
  },
  {
   "cell_type": "code",
   "execution_count": 11,
   "id": "c9fe66f0-f560-407e-8085-fa24f5676a5d",
   "metadata": {},
   "outputs": [
    {
     "name": "stdout",
     "output_type": "stream",
     "text": [
      "Network<\n",
      "  (flatten): Flatten<>\n",
      "  (dense_relu_sequential): SequentialCell<\n",
      "    (0): Dense<input_channels=784, output_channels=512, has_bias=True>\n",
      "    (1): ReLU<>\n",
      "    (2): Dense<input_channels=512, output_channels=512, has_bias=True>\n",
      "    (3): ReLU<>\n",
      "    (4): Dense<input_channels=512, output_channels=10, has_bias=True>\n",
      "    >\n",
      "  >\n"
     ]
    }
   ],
   "source": [
    "# Define model\n",
    "class Network(nn.Cell):\n",
    "    def __init__(self):\n",
    "        super().__init__()\n",
    "        self.flatten = nn.Flatten()\n",
    "        self.dense_relu_sequential = nn.SequentialCell(\n",
    "            nn.Dense(28*28, 512),\n",
    "            nn.ReLU(),\n",
    "            nn.Dense(512, 512),\n",
    "            nn.ReLU(),\n",
    "            nn.Dense(512, 10)\n",
    "        )\n",
    "\n",
    "    def construct(self, x):\n",
    "        x = self.flatten(x)\n",
    "        logits = self.dense_relu_sequential(x)\n",
    "        return logits\n",
    "\n",
    "model = Network()\n",
    "print(model)\n"
   ]
  },
  {
   "cell_type": "markdown",
   "id": "d289f4c4-ecf5-4c0f-aec1-d2bb1bdfce24",
   "metadata": {},
   "source": [
    "## 模型训练"
   ]
  },
  {
   "cell_type": "code",
   "execution_count": 12,
   "id": "b878b26d-33db-4b85-8e0b-3f357902221b",
   "metadata": {},
   "outputs": [],
   "source": [
    "# Instantiate loss function and optimizer\n",
    "loss_fn = nn.CrossEntropyLoss()\n",
    "optimizer = nn.SGD(model.trainable_params(), 1e-2)"
   ]
  },
  {
   "cell_type": "markdown",
   "id": "11a66e3d-0fb6-4329-818c-692b216db6a1",
   "metadata": {},
   "source": [
    "在模型训练中，一个完整的训练过程（step）需要实现以下三步：\n",
    "1. 正向计算：模型预测结果（logits），并与正确标签（label）求预测损失（loss）。\n",
    "2. 反向传播：利用自动微分机制，自动求模型参数（parameters）对于loss的梯度（gradients）。\n",
    "3. 参数优化：将梯度更新到参数上。\n",
    "\n",
    "MindSpore使用函数式自动微分机制，因此针对上述步骤需要实现：\n",
    "1. 正向计算函数定义。\n",
    "2. 通过函数变换获得梯度计算函数。\n",
    "3. 训练函数定义，执行正向计算、反向传播和参数优化。"
   ]
  },
  {
   "cell_type": "code",
   "execution_count": 13,
   "id": "ced15eee-8024-4f52-8639-0a805bc2d575",
   "metadata": {},
   "outputs": [],
   "source": [
    "def train(model, dataset, loss_fn, optimizer):\n",
    "    # Define forward function\n",
    "    def forward_fn(data, label):\n",
    "        logits = model(data)\n",
    "        loss = loss_fn(logits, label)\n",
    "        return loss, logits\n",
    "\n",
    "    # Get gradient function\n",
    "    grad_fn = ops.value_and_grad(forward_fn, None, optimizer.parameters, has_aux=True)\n",
    "\n",
    "    # Define function of one-step training\n",
    "    def train_step(data, label):\n",
    "        (loss, _), grads = grad_fn(data, label)\n",
    "        loss = ops.depend(loss, optimizer(grads))\n",
    "        return loss\n",
    "\n",
    "    size = dataset.get_dataset_size()\n",
    "    model.set_train()\n",
    "    for batch, (data, label) in enumerate(dataset.create_tuple_iterator()):\n",
    "        loss = train_step(data, label)\n",
    "\n",
    "        if batch % 100 == 0:\n",
    "            loss, current = loss.asnumpy(), batch\n",
    "            print(f\"loss: {loss:>7f}  [{current:>3d}/{size:>3d}]\")\n"
   ]
  },
  {
   "cell_type": "markdown",
   "id": "1d65fceb-1b8e-4642-9166-f3c1e4810b34",
   "metadata": {},
   "source": [
    "除训练外，我们定义测试函数，用来评估模型的性能。"
   ]
  },
  {
   "cell_type": "code",
   "execution_count": 14,
   "id": "fce8386e-a08d-4c24-be6f-2d16c4d5ab53",
   "metadata": {},
   "outputs": [],
   "source": [
    "def test(model, dataset, loss_fn):\n",
    "    num_batches = dataset.get_dataset_size()\n",
    "    model.set_train(False)\n",
    "    total, test_loss, correct = 0, 0, 0\n",
    "    for data, label in dataset.create_tuple_iterator():\n",
    "        pred = model(data)\n",
    "        total += len(data)\n",
    "        test_loss += loss_fn(pred, label).asnumpy()\n",
    "        correct += (pred.argmax(1) == label).asnumpy().sum()\n",
    "    test_loss /= num_batches\n",
    "    correct /= total\n",
    "    print(f\"Test: \\n Accuracy: {(100*correct):>0.1f}%, Avg loss: {test_loss:>8f} \\n\")\n"
   ]
  },
  {
   "cell_type": "markdown",
   "id": "20f3adb8-b693-4a27-ae7c-75da37576cb2",
   "metadata": {},
   "source": [
    "训练过程需多次迭代数据集，一次完整的迭代称为一轮（epoch）。在每一轮，遍历训练集进行训练，结束后使用测试集进行预测。打印每一轮的loss值和预测准确率（Accuracy），可以看到loss在不断下降，Accuracy在不断提高。"
   ]
  },
  {
   "cell_type": "code",
   "execution_count": 15,
   "id": "6057cc1d-a64e-48ea-8892-8417b323e595",
   "metadata": {},
   "outputs": [
    {
     "name": "stdout",
     "output_type": "stream",
     "text": [
      "Epoch 1\n",
      "-------------------------------\n"
     ]
    },
    {
     "name": "stderr",
     "output_type": "stream",
     "text": [
      "[WARNING] DEVICE(71064,ffff8f62d780,python):2022-11-18-20:18:33.596.797 [mindspore/ccsrc/plugin/device/ascend/hal/device/kernel_select_ascend.cc:330] FilterRaisedOrReducePrecisionMatchedKernelInfo] Operator:[Default/GatherD-op46] don't support int64, reduce precision from int64 to int32.\n",
      "[WARNING] DEVICE(71064,ffff8f62d780,python):2022-11-18-20:18:43.700.233 [mindspore/ccsrc/plugin/device/ascend/hal/device/kernel_select_ascend.cc:330] FilterRaisedOrReducePrecisionMatchedKernelInfo] Operator:[Default/flatten-Flatten/GatherD-op146] don't support int64, reduce precision from int64 to int32.\n"
     ]
    },
    {
     "name": "stdout",
     "output_type": "stream",
     "text": [
      "loss: 2.303726  [  0/938]\n",
      "loss: 2.289603  [100/938]\n",
      "loss: 2.264207  [200/938]\n",
      "loss: 2.194804  [300/938]\n",
      "loss: 1.973380  [400/938]\n",
      "loss: 1.542460  [500/938]\n",
      "loss: 0.977717  [600/938]\n",
      "loss: 0.889897  [700/938]\n",
      "loss: 0.723557  [800/938]\n",
      "loss: 0.536497  [900/938]\n"
     ]
    },
    {
     "name": "stderr",
     "output_type": "stream",
     "text": [
      "[WARNING] DEVICE(71064,ffff8f62d780,python):2022-11-18-20:19:07.900.180 [mindspore/ccsrc/plugin/device/ascend/hal/device/kernel_select_ascend.cc:330] FilterRaisedOrReducePrecisionMatchedKernelInfo] Operator:[Default/GatherD-op246] don't support int64, reduce precision from int64 to int32.\n",
      "[WARNING] DEVICE(71064,ffff8f62d780,python):2022-11-18-20:19:16.377.458 [mindspore/ccsrc/plugin/device/ascend/hal/device/kernel_select_ascend.cc:330] FilterRaisedOrReducePrecisionMatchedKernelInfo] Operator:[Default/flatten-Flatten/GatherD-op346] don't support int64, reduce precision from int64 to int32.\n",
      "[WARNING] DEVICE(71064,ffff8f62d780,python):2022-11-18-20:19:30.646.765 [mindspore/ccsrc/plugin/device/ascend/hal/device/kernel_select_ascend.cc:330] FilterRaisedOrReducePrecisionMatchedKernelInfo] Operator:[Default/GatherD-op446] don't support int64, reduce precision from int64 to int32.\n"
     ]
    },
    {
     "name": "stdout",
     "output_type": "stream",
     "text": [
      "Test: \n",
      " Accuracy: 85.3%, Avg loss: 0.529036 \n",
      "\n",
      "Epoch 2\n",
      "-------------------------------\n"
     ]
    },
    {
     "name": "stderr",
     "output_type": "stream",
     "text": [
      "[WARNING] DEVICE(71064,ffff8f62d780,python):2022-11-18-20:19:43.105.757 [mindspore/ccsrc/plugin/device/ascend/hal/device/kernel_select_ascend.cc:330] FilterRaisedOrReducePrecisionMatchedKernelInfo] Operator:[Default/flatten-Flatten/GatherD-op548] don't support int64, reduce precision from int64 to int32.\n"
     ]
    },
    {
     "name": "stdout",
     "output_type": "stream",
     "text": [
      "loss: 0.559186  [  0/938]\n",
      "loss: 0.404574  [100/938]\n",
      "loss: 0.367740  [200/938]\n",
      "loss: 0.381881  [300/938]\n",
      "loss: 0.388308  [400/938]\n",
      "loss: 0.324916  [500/938]\n",
      "loss: 0.280082  [600/938]\n",
      "loss: 0.430946  [700/938]\n",
      "loss: 0.331444  [800/938]\n",
      "loss: 0.433107  [900/938]\n"
     ]
    },
    {
     "name": "stderr",
     "output_type": "stream",
     "text": [
      "[WARNING] DEVICE(71064,ffff8f62d780,python):2022-11-18-20:19:52.071.110 [mindspore/ccsrc/plugin/device/ascend/hal/device/kernel_select_ascend.cc:330] FilterRaisedOrReducePrecisionMatchedKernelInfo] Operator:[Default/flatten-Flatten/GatherD-op669] don't support int64, reduce precision from int64 to int32.\n"
     ]
    },
    {
     "name": "stdout",
     "output_type": "stream",
     "text": [
      "Test: \n",
      " Accuracy: 90.1%, Avg loss: 0.334975 \n",
      "\n",
      "Epoch 3\n",
      "-------------------------------\n"
     ]
    },
    {
     "name": "stderr",
     "output_type": "stream",
     "text": [
      "[WARNING] DEVICE(71064,ffff8f62d780,python):2022-11-18-20:19:58.582.685 [mindspore/ccsrc/plugin/device/ascend/hal/device/kernel_select_ascend.cc:330] FilterRaisedOrReducePrecisionMatchedKernelInfo] Operator:[Default/flatten-Flatten/GatherD-op790] don't support int64, reduce precision from int64 to int32.\n"
     ]
    },
    {
     "name": "stdout",
     "output_type": "stream",
     "text": [
      "loss: 0.587514  [  0/938]\n",
      "loss: 0.245308  [100/938]\n",
      "loss: 0.244951  [200/938]\n",
      "loss: 0.487564  [300/938]\n",
      "loss: 0.264339  [400/938]\n",
      "loss: 0.288197  [500/938]\n",
      "loss: 0.438579  [600/938]\n",
      "loss: 0.301487  [700/938]\n",
      "loss: 0.232899  [800/938]\n",
      "loss: 0.265004  [900/938]\n"
     ]
    },
    {
     "name": "stderr",
     "output_type": "stream",
     "text": [
      "[WARNING] DEVICE(71064,ffff8f62d780,python):2022-11-18-20:20:10.452.858 [mindspore/ccsrc/plugin/device/ascend/hal/device/kernel_select_ascend.cc:330] FilterRaisedOrReducePrecisionMatchedKernelInfo] Operator:[Default/flatten-Flatten/GatherD-op911] don't support int64, reduce precision from int64 to int32.\n"
     ]
    },
    {
     "name": "stdout",
     "output_type": "stream",
     "text": [
      "Test: \n",
      " Accuracy: 91.8%, Avg loss: 0.283008 \n",
      "\n",
      "Done!\n"
     ]
    }
   ],
   "source": [
    "epochs = 3\n",
    "for t in range(epochs):\n",
    "    print(f\"Epoch {t+1}\\n-------------------------------\")\n",
    "    train(model, train_dataset, loss_fn, optimizer)\n",
    "    test(model, test_dataset, loss_fn)\n",
    "print(\"Done!\")\n"
   ]
  },
  {
   "cell_type": "markdown",
   "id": "413d45e1-b68a-4e63-9b66-2952fc2813e6",
   "metadata": {},
   "source": [
    "##  保存模型\n",
    "模型训练完成后，需要将其参数进行保存"
   ]
  },
  {
   "cell_type": "code",
   "execution_count": 16,
   "id": "b40f9637-101d-40c7-8d13-93c6ec4f8dd1",
   "metadata": {},
   "outputs": [
    {
     "name": "stdout",
     "output_type": "stream",
     "text": [
      "Saved Model to model.ckpt\n"
     ]
    }
   ],
   "source": [
    "# Save checkpoint\n",
    "mindspore.save_checkpoint(model, \"model.ckpt\")\n",
    "print(\"Saved Model to model.ckpt\")"
   ]
  },
  {
   "cell_type": "markdown",
   "id": "dd96877d-a1ca-4e74-9534-a2797fd16526",
   "metadata": {},
   "source": [
    "## 加载模型\n",
    "加载保存的权重分为两步：\n",
    "1. 重新实例化模型对象，构造模型。\n",
    "2. 加载模型参数，并将其加载至模型上。"
   ]
  },
  {
   "cell_type": "code",
   "execution_count": 17,
   "id": "81c99e31-eb2a-4a44-871f-764eb2aefb9c",
   "metadata": {},
   "outputs": [
    {
     "name": "stdout",
     "output_type": "stream",
     "text": [
      "[]\n"
     ]
    }
   ],
   "source": [
    "# Instantiate a random initialized model\n",
    "model = Network()\n",
    "# Load checkpoint and load parameter to model\n",
    "param_dict = mindspore.load_checkpoint(\"model.ckpt\")\n",
    "param_not_load = mindspore.load_param_into_net(model, param_dict)\n",
    "print(param_not_load)\n"
   ]
  },
  {
   "cell_type": "markdown",
   "id": "59bd137e-cb77-4f96-94d6-81d3c1919bc8",
   "metadata": {},
   "source": [
    ">param_not_load是未被加载的参数列表，为空时代表所有参数均加载成功。\n",
    "\n",
    "加载后的模型可以直接用于预测推理。"
   ]
  },
  {
   "cell_type": "code",
   "execution_count": 18,
   "id": "95dce13a-eeab-414f-980c-1326f12b2d58",
   "metadata": {},
   "outputs": [
    {
     "name": "stdout",
     "output_type": "stream",
     "text": [
      "Predicted: \"[3 1 6 3 9 9 4 4 3 4]\", Actual: \"[3 1 5 8 9 8 4 4 3 4]\"\n"
     ]
    }
   ],
   "source": [
    "model.set_train(False)\n",
    "for data, label in test_dataset:\n",
    "    pred = model(data)\n",
    "    predicted = pred.argmax(1)\n",
    "    print(f'Predicted: \"{predicted[:10]}\", Actual: \"{label[:10]}\"')\n",
    "    break\n"
   ]
  },
  {
   "cell_type": "code",
   "execution_count": null,
   "id": "09dd24fd",
   "metadata": {},
   "outputs": [],
   "source": []
  }
 ],
 "metadata": {
  "kernelspec": {
   "display_name": "MindSpore",
   "language": "python",
   "name": "mindspore"
  },
  "language_info": {
   "codemirror_mode": {
    "name": "ipython",
    "version": 3
   },
   "file_extension": ".py",
   "mimetype": "text/x-python",
   "name": "python",
   "nbconvert_exporter": "python",
   "pygments_lexer": "ipython3",
   "version": "3.7.6"
  }
 },
 "nbformat": 4,
 "nbformat_minor": 5
}
