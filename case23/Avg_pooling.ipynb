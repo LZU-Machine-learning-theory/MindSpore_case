{
 "cells": [
  {
   "cell_type": "markdown",
   "metadata": {},
   "source": [
    "# 基于Mindspore构造Avg Pooling"
   ]
  },
  {
   "cell_type": "markdown",
   "metadata": {},
   "source": [
    "池化操作（也称为子采样或下采样）主要为了降低每个特征图的维数，可以减少参数矩阵的尺寸，从而减少最后输出的数量，但保留了最重要的信息。池化可以有不同的类型：MaxPooling、AveragePooling、SumPooling等。\n",
    "若核为2， 步长为1.则在每一个2*2的区域内，选取平均值作为输出。若我们需要的对象偏向于整体特性，防止丢失太多的高维信息则可选择平均池化。\n"
   ]
  },
  {
   "cell_type": "markdown",
   "metadata": {},
   "source": [
    "## 使用示例"
   ]
  },
  {
   "cell_type": "code",
   "execution_count": null,
   "metadata": {},
   "outputs": [],
   "source": [
    "class mindspore.ops.AvgPool(kernel_size=1, strides=1, pad_mode=\"valid\", data_format=\"NCHW\")"
   ]
  },
  {
   "cell_type": "code",
   "execution_count": 1,
   "metadata": {},
   "outputs": [
    {
     "name": "stdout",
     "output_type": "stream",
     "text": [
      "(1, 2, 2, 2)\n"
     ]
    }
   ],
   "source": [
    "from mindspore.common.tensor import Tensor\n",
    "import mindspore.nn as nn\n",
    "import numpy as np\n",
    "import mindspore.common.dtype as mstype\n",
    "\n",
    "pool = nn.AvgPool2d(kernel_size=3, stride=1)\n",
    "x = Tensor(np.random.randint(0, 10, [1, 2, 4, 4]), mstype.float32)\n",
    "output = pool(x)\n",
    "print(output.shape)\n",
    "\n"
   ]
  },
  {
   "cell_type": "markdown",
   "metadata": {},
   "source": [
    "### 常用参数说明\n",
    "``` python\n",
    "in_channels (int) - Conv2d层输入Tensor的空间维度。\n",
    "\n",
    "out_channels (int) - Conv2d层输出Tensor的空间维度。\n",
    "\n",
    "kernel_size (Union[int, tuple[int]]) - 指定二维卷积核的高度和宽度。数据类型为整型或两个整型的tuple。一个整数表示卷积核的高度和宽度均为该值。两个整数的tuple分别表示卷积核的高度和宽度。\n",
    "\n",
    "stride (Union[int, tuple[int]]) - 二维卷积核的移动步长。数据类型为整型或两个整型的tuple。一个整数表示在高度和宽度方向的移动步长均为该值。两个整数的tuple分别表示在高度和宽度方向的移动步长。默认值：1。\n",
    "\n",
    "pad_mode (str) - 指定填充模式。可选值为”same”、”valid”、”pad”。默认值：”same”。\n",
    "\n",
    "padding (Union[int, tuple[int]]) - 输入的高度和宽度方向上填充的数量。数据类型为int或包含4个整数的tuple。如果 padding 是一个整数，那么上、下、左、右的填充都等于 padding 。如果 padding 是一个有4个整数的tuple，那么上、下、左、右的填充分别等于 padding[0] 、 padding[1] 、 padding[2] 和 padding[3] 。值应该要大于等于0，默认值：0。\n",
    "```"
   ]
  },
  {
   "cell_type": "markdown",
   "metadata": {},
   "source": [
    "# 自行实现Mindspore Avg Pooling API"
   ]
  },
  {
   "cell_type": "markdown",
   "metadata": {},
   "source": [
    "## 导入所需包"
   ]
  },
  {
   "cell_type": "code",
   "execution_count": 2,
   "metadata": {},
   "outputs": [],
   "source": [
    "import mindspore.nn as nn\n",
    "import numpy as np\n",
    "import mindspore.common.dtype as mstype\n",
    "\n",
    "from mindspore.ops import operations as P\n",
    "from mindspore._checkparam import Rel, Validator as validator\n",
    "from mindspore.ops.primitive import constexpr\n",
    "from mindspore.common.tensor import Tensor\n",
    "import mindspore.context as context\n",
    "\n",
    "from mindspore.nn.cell import Cell"
   ]
  },
  {
   "cell_type": "markdown",
   "metadata": {},
   "source": [
    "## 使用Mindspore官方定义的基类"
   ]
  },
  {
   "cell_type": "code",
   "execution_count": 3,
   "metadata": {},
   "outputs": [],
   "source": [
    "class _PoolNd(Cell):\n",
    "    \"\"\"N-D  AvgPool\"\"\"\n",
    "\n",
    "    def __init__(self, kernel_size, stride, pad_mode, data_format=\"NCHW\"):\n",
    "        \"\"\"Initialize _PoolNd.\"\"\"\n",
    "        super(_PoolNd, self).__init__()\n",
    "        validator.check_value_type('pad_mode', pad_mode, [str], self.cls_name)\n",
    "        self.pad_mode = validator.check_string(pad_mode.upper(), ['VALID', 'SAME'], 'pad_mode', self.cls_name)\n",
    "        self.format = validator.check_string(data_format, ['NCHW', 'NHWC'], 'format', self.cls_name)\n",
    "        if context.get_context(\"device_target\") != \"GPU\" and self.format == \"NHWC\":\n",
    "            raise ValueError(f\"For '{self.cls_name}, the 'NHWC' format only support in GPU target, but got device \"\n",
    "                             f\"target {context.get_context('device_target')}.\")\n",
    "\n",
    "        def _check_int_or_tuple(arg_name, arg_value):\n",
    "            validator.check_value_type(arg_name, arg_value, [int, tuple], self.cls_name)\n",
    "            error_msg = f\"For '{self.cls_name}', the '{arg_name}' must be an positive int number or \" \\\n",
    "                        f\"a tuple of two positive int numbers, but got {arg_value}\"\n",
    "            if isinstance(arg_value, int):\n",
    "                if arg_value <= 0:\n",
    "                    raise ValueError(error_msg)\n",
    "            elif len(arg_value) == 2:\n",
    "                for item in arg_value:\n",
    "                    if isinstance(item, int) and item > 0:\n",
    "                        continue\n",
    "                    raise ValueError(error_msg)\n",
    "            else:\n",
    "                raise ValueError(error_msg)\n",
    "            return arg_value\n",
    "\n",
    "        self.kernel_size = _check_int_or_tuple('kernel_size', kernel_size)\n",
    "        self.stride = _check_int_or_tuple('stride', stride)\n",
    "\n",
    "    def construct(self, *inputs):\n",
    "        pass\n",
    "\n",
    "    def extend_repr(self):\n",
    "        return 'kernel_size={kernel_size}, stride={stride}, pad_mode={pad_mode}'.format(**self.__dict__)\n",
    "\n",
    "\n",
    "@constexpr\n",
    "def _shape_check(in_shape, prim_name=None):\n",
    "    msg_prefix = f\"For '{prim_name}', the\" if prim_name else \"The\"\n",
    "    if len(in_shape) != 3:\n",
    "        raise ValueError(f\"{msg_prefix} input must has 3 dim, but got {len(in_shape)}\")\n"
   ]
  },
  {
   "cell_type": "markdown",
   "metadata": {},
   "source": [
    "## 实现二维AvgPool"
   ]
  },
  {
   "cell_type": "code",
   "execution_count": 4,
   "metadata": {},
   "outputs": [
    {
     "name": "stdout",
     "output_type": "stream",
     "text": [
      "[[[[5.2226562 5.109375 ]\n",
      "   [3.8886719 4.109375 ]]\n",
      "\n",
      "  [[3.6660156 4.6640625]\n",
      "   [5.4414062 5.109375 ]]]]\n",
      "(1, 2, 2, 2)\n"
     ]
    }
   ],
   "source": [
    "class AvgPool2d(_PoolNd):\n",
    "    \n",
    "\n",
    "    def __init__(self,\n",
    "                 kernel_size=1,\n",
    "                 stride=1,\n",
    "                 pad_mode=\"valid\",\n",
    "                 data_format=\"NCHW\"):\n",
    "        \"\"\"Initialize AvgPool2d.\"\"\"\n",
    "        super(AvgPool2d, self).__init__(kernel_size, stride, pad_mode, data_format)\n",
    "        self.avg_pool = P.AvgPool(kernel_size=self.kernel_size,\n",
    "                                  strides=self.stride,\n",
    "                                  pad_mode=self.pad_mode,\n",
    "                                  data_format=self.format)\n",
    "\n",
    "    def construct(self, x):\n",
    "        return self.avg_pool(x)\n",
    "pool = nn.AvgPool2d(kernel_size=3, stride=1)\n",
    "x = Tensor(np.random.randint(0, 10, [1, 2, 4, 4]), mstype.float32)\n",
    "output = pool(x)\n",
    "print(output)\n",
    "print(output.shape)"
   ]
  }
 ],
 "metadata": {
  "kernelspec": {
   "display_name": "MindSpore",
   "language": "python",
   "name": "mindspore"
  },
  "language_info": {
   "codemirror_mode": {
    "name": "ipython",
    "version": 3
   },
   "file_extension": ".py",
   "mimetype": "text/x-python",
   "name": "python",
   "nbconvert_exporter": "python",
   "pygments_lexer": "ipython3",
   "version": "3.7.6"
  }
 },
 "nbformat": 4,
 "nbformat_minor": 4
}
